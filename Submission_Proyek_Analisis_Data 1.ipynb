{
  "cells": [
    {
      "cell_type": "markdown",
      "metadata": {
        "id": "H9wADwK78DCz"
      },
      "source": [
        "# Proyek Analisis Data: [Input Nama Dataset]\n",
        "- **Nama:** Bayu Frassetyo Wibowo\n",
        "- **Email:** bayufrassetyo@gmail.com\n",
        "- **ID Dicoding:** bayufrassetyo"
      ]
    },
    {
      "cell_type": "markdown",
      "metadata": {
        "id": "eE0raob58DC0"
      },
      "source": [
        "## Menentukan Pertanyaan Bisnis"
      ]
    },
    {
      "cell_type": "markdown",
      "metadata": {
        "id": "GmQeQ5YF8DC0"
      },
      "source": [
        "- Produk apa saja yang menunjukkan performa penjualan terbaik dan terburuk di E-commerce?\n",
        "- Bagaimana pola tren penjualan E-commerce selama periode waktu tertentu?\n",
        "- Berapa jumlah pendapatan yang dihasilkan oleh E-commerce dalam periode beberapa bulan terakhir?\n",
        "- Apa saja ulasan dan rating yang diberikan oleh pelanggan kepada E-commerce, dan bagaimana persebarannya?\n",
        "- Bagaimana distribusi demografis pelanggan dan apakah ada variasi dalam preferensi pembelian di antara mereka?"
      ]
    },
    {
      "cell_type": "markdown",
      "metadata": {
        "id": "H-z4QGlO8DC1"
      },
      "source": [
        "## Import Semua Packages/Library yang Digunakan"
      ]
    },
    {
      "cell_type": "code",
      "execution_count": 4,
      "metadata": {
        "id": "FVYwaObI8DC1"
      },
      "outputs": [],
      "source": [
        "import numpy as np\n",
        "import pandas as pd\n",
        "import matplotlib.pyplot as plt\n",
        "import seaborn as sns\n",
        "import folium\n",
        "import matplotlib.image as mpimg\n",
        "import textwrap\n",
        "import datetime as dt\n",
        "import matplotlib"
      ]
    },
    {
      "cell_type": "markdown",
      "metadata": {
        "id": "h_Sh51Xy8DC1"
      },
      "source": [
        "## Data Wrangling"
      ]
    },
    {
      "cell_type": "markdown",
      "metadata": {
        "id": "sXU2GBYu8DC1"
      },
      "source": [
        "### Gathering Data"
      ]
    },
    {
      "cell_type": "code",
      "execution_count": 2,
      "metadata": {
        "colab": {
          "base_uri": "https://localhost:8080/",
          "height": 206
        },
        "collapsed": true,
        "id": "zjCBk1BI8DC1",
        "outputId": "d220e485-f5e3-46c0-d156-def7bee2a64f"
      },
      "outputs": [],
      "source": [
        "import os\n",
        "\n",
        "base_path = \"E:/Dicoding/E-commerce-public-dataset/Dataset\"\n",
        "\n",
        "# Memuat data dari file CSV\n",
        "customers_df = pd.read_csv(os.path.join(base_path, \"customers_dataset.csv\"))\n",
        "geolocation_df = pd.read_csv(os.path.join(base_path, \"geolocation_dataset.csv\"))\n",
        "order_items_df = pd.read_csv(os.path.join(base_path, \"order_items_dataset.csv\"))\n",
        "order_payments_df = pd.read_csv(os.path.join(base_path, \"order_payments_dataset.csv\"))\n",
        "order_reviews_df = pd.read_csv(os.path.join(base_path, \"order_reviews_dataset.csv\"))\n",
        "orders_df = pd.read_csv(os.path.join(base_path, \"orders_dataset.csv\"))\n",
        "products_df = pd.read_csv(os.path.join(base_path, \"products_dataset.csv\"))\n",
        "product_category_name_translation_df = pd.read_csv(os.path.join(base_path, \"product_category_name_translation.csv\"))\n",
        "sellers_df = pd.read_csv(os.path.join(base_path, \"sellers_dataset.csv\"))"
      ]
    },
    {
      "cell_type": "code",
      "execution_count": 3,
      "metadata": {
        "colab": {
          "base_uri": "https://localhost:8080/",
          "height": 206
        },
        "id": "mKpHLjze6E0G",
        "outputId": "daef00a9-8f03-4d1c-8a11-4ef2fc315a83"
      },
      "outputs": [
        {
          "data": {
            "text/html": [
              "<div>\n",
              "<style scoped>\n",
              "    .dataframe tbody tr th:only-of-type {\n",
              "        vertical-align: middle;\n",
              "    }\n",
              "\n",
              "    .dataframe tbody tr th {\n",
              "        vertical-align: top;\n",
              "    }\n",
              "\n",
              "    .dataframe thead th {\n",
              "        text-align: right;\n",
              "    }\n",
              "</style>\n",
              "<table border=\"1\" class=\"dataframe\">\n",
              "  <thead>\n",
              "    <tr style=\"text-align: right;\">\n",
              "      <th></th>\n",
              "      <th>customer_id</th>\n",
              "      <th>customer_unique_id</th>\n",
              "      <th>customer_zip_code_prefix</th>\n",
              "      <th>customer_city</th>\n",
              "      <th>customer_state</th>\n",
              "    </tr>\n",
              "  </thead>\n",
              "  <tbody>\n",
              "    <tr>\n",
              "      <th>0</th>\n",
              "      <td>06b8999e2fba1a1fbc88172c00ba8bc7</td>\n",
              "      <td>861eff4711a542e4b93843c6dd7febb0</td>\n",
              "      <td>14409</td>\n",
              "      <td>franca</td>\n",
              "      <td>SP</td>\n",
              "    </tr>\n",
              "    <tr>\n",
              "      <th>1</th>\n",
              "      <td>18955e83d337fd6b2def6b18a428ac77</td>\n",
              "      <td>290c77bc529b7ac935b93aa66c333dc3</td>\n",
              "      <td>9790</td>\n",
              "      <td>sao bernardo do campo</td>\n",
              "      <td>SP</td>\n",
              "    </tr>\n",
              "    <tr>\n",
              "      <th>2</th>\n",
              "      <td>4e7b3e00288586ebd08712fdd0374a03</td>\n",
              "      <td>060e732b5b29e8181a18229c7b0b2b5e</td>\n",
              "      <td>1151</td>\n",
              "      <td>sao paulo</td>\n",
              "      <td>SP</td>\n",
              "    </tr>\n",
              "    <tr>\n",
              "      <th>3</th>\n",
              "      <td>b2b6027bc5c5109e529d4dc6358b12c3</td>\n",
              "      <td>259dac757896d24d7702b9acbbff3f3c</td>\n",
              "      <td>8775</td>\n",
              "      <td>mogi das cruzes</td>\n",
              "      <td>SP</td>\n",
              "    </tr>\n",
              "    <tr>\n",
              "      <th>4</th>\n",
              "      <td>4f2d8ab171c80ec8364f7c12e35b23ad</td>\n",
              "      <td>345ecd01c38d18a9036ed96c73b8d066</td>\n",
              "      <td>13056</td>\n",
              "      <td>campinas</td>\n",
              "      <td>SP</td>\n",
              "    </tr>\n",
              "  </tbody>\n",
              "</table>\n",
              "</div>"
            ],
            "text/plain": [
              "                        customer_id                customer_unique_id  \\\n",
              "0  06b8999e2fba1a1fbc88172c00ba8bc7  861eff4711a542e4b93843c6dd7febb0   \n",
              "1  18955e83d337fd6b2def6b18a428ac77  290c77bc529b7ac935b93aa66c333dc3   \n",
              "2  4e7b3e00288586ebd08712fdd0374a03  060e732b5b29e8181a18229c7b0b2b5e   \n",
              "3  b2b6027bc5c5109e529d4dc6358b12c3  259dac757896d24d7702b9acbbff3f3c   \n",
              "4  4f2d8ab171c80ec8364f7c12e35b23ad  345ecd01c38d18a9036ed96c73b8d066   \n",
              "\n",
              "   customer_zip_code_prefix          customer_city customer_state  \n",
              "0                     14409                 franca             SP  \n",
              "1                      9790  sao bernardo do campo             SP  \n",
              "2                      1151              sao paulo             SP  \n",
              "3                      8775        mogi das cruzes             SP  \n",
              "4                     13056               campinas             SP  "
            ]
          },
          "execution_count": 3,
          "metadata": {},
          "output_type": "execute_result"
        }
      ],
      "source": [
        "# prompt: Menggunakan customers_df DataFrame: customers_df\n",
        "\n",
        "# Display the dataframe\n",
        "customers_df.head()"
      ]
    },
    {
      "cell_type": "code",
      "execution_count": 8,
      "metadata": {
        "colab": {
          "base_uri": "https://localhost:8080/",
          "height": 206
        },
        "id": "YZr0bu-a5nsM",
        "outputId": "a1edd9e7-dd22-4bf1-c2a8-9f775406b885"
      },
      "outputs": [
        {
          "data": {
            "text/html": [
              "<div>\n",
              "<style scoped>\n",
              "    .dataframe tbody tr th:only-of-type {\n",
              "        vertical-align: middle;\n",
              "    }\n",
              "\n",
              "    .dataframe tbody tr th {\n",
              "        vertical-align: top;\n",
              "    }\n",
              "\n",
              "    .dataframe thead th {\n",
              "        text-align: right;\n",
              "    }\n",
              "</style>\n",
              "<table border=\"1\" class=\"dataframe\">\n",
              "  <thead>\n",
              "    <tr style=\"text-align: right;\">\n",
              "      <th></th>\n",
              "      <th>customer_zip_code_prefix</th>\n",
              "      <th>customer_city</th>\n",
              "      <th>customer_state</th>\n",
              "    </tr>\n",
              "  </thead>\n",
              "  <tbody>\n",
              "    <tr>\n",
              "      <th>0</th>\n",
              "      <td>14409</td>\n",
              "      <td>franca</td>\n",
              "      <td>SP</td>\n",
              "    </tr>\n",
              "    <tr>\n",
              "      <th>1</th>\n",
              "      <td>9790</td>\n",
              "      <td>sao bernardo do campo</td>\n",
              "      <td>SP</td>\n",
              "    </tr>\n",
              "    <tr>\n",
              "      <th>2</th>\n",
              "      <td>1151</td>\n",
              "      <td>sao paulo</td>\n",
              "      <td>SP</td>\n",
              "    </tr>\n",
              "    <tr>\n",
              "      <th>3</th>\n",
              "      <td>8775</td>\n",
              "      <td>mogi das cruzes</td>\n",
              "      <td>SP</td>\n",
              "    </tr>\n",
              "    <tr>\n",
              "      <th>4</th>\n",
              "      <td>13056</td>\n",
              "      <td>campinas</td>\n",
              "      <td>SP</td>\n",
              "    </tr>\n",
              "  </tbody>\n",
              "</table>\n",
              "</div>"
            ],
            "text/plain": [
              "   customer_zip_code_prefix          customer_city customer_state\n",
              "0                     14409                 franca             SP\n",
              "1                      9790  sao bernardo do campo             SP\n",
              "2                      1151              sao paulo             SP\n",
              "3                      8775        mogi das cruzes             SP\n",
              "4                     13056               campinas             SP"
            ]
          },
          "execution_count": 8,
          "metadata": {},
          "output_type": "execute_result"
        }
      ],
      "source": [
        "# prompt: Menggunakan geolocation_df\n",
        "\n",
        "# Create a new DataFrame called geolocation_df from the customer data.\n",
        "geolocation_df = customers_df[[\"customer_zip_code_prefix\", \"customer_city\", \"customer_state\"]].copy()\n",
        "\n",
        "# Display the first few rows of the new DataFrame.\n",
        "geolocation_df.head()"
      ]
    },
    {
      "cell_type": "code",
      "execution_count": 9,
      "metadata": {
        "colab": {
          "base_uri": "https://localhost:8080/",
          "height": 206
        },
        "id": "xuzlO_mn9Zad",
        "outputId": "32af3af8-633a-4782-d4e2-7a7e75e37cbb"
      },
      "outputs": [
        {
          "data": {
            "text/html": [
              "<div>\n",
              "<style scoped>\n",
              "    .dataframe tbody tr th:only-of-type {\n",
              "        vertical-align: middle;\n",
              "    }\n",
              "\n",
              "    .dataframe tbody tr th {\n",
              "        vertical-align: top;\n",
              "    }\n",
              "\n",
              "    .dataframe thead th {\n",
              "        text-align: right;\n",
              "    }\n",
              "</style>\n",
              "<table border=\"1\" class=\"dataframe\">\n",
              "  <thead>\n",
              "    <tr style=\"text-align: right;\">\n",
              "      <th></th>\n",
              "      <th>order_id</th>\n",
              "      <th>order_item_id</th>\n",
              "      <th>product_id</th>\n",
              "      <th>seller_id</th>\n",
              "      <th>shipping_limit_date</th>\n",
              "      <th>price</th>\n",
              "      <th>freight_value</th>\n",
              "    </tr>\n",
              "  </thead>\n",
              "  <tbody>\n",
              "    <tr>\n",
              "      <th>0</th>\n",
              "      <td>00010242fe8c5a6d1ba2dd792cb16214</td>\n",
              "      <td>1</td>\n",
              "      <td>4244733e06e7ecb4970a6e2683c13e61</td>\n",
              "      <td>48436dade18ac8b2bce089ec2a041202</td>\n",
              "      <td>2017-09-19 09:45:35</td>\n",
              "      <td>58.90</td>\n",
              "      <td>13.29</td>\n",
              "    </tr>\n",
              "    <tr>\n",
              "      <th>1</th>\n",
              "      <td>00018f77f2f0320c557190d7a144bdd3</td>\n",
              "      <td>1</td>\n",
              "      <td>e5f2d52b802189ee658865ca93d83a8f</td>\n",
              "      <td>dd7ddc04e1b6c2c614352b383efe2d36</td>\n",
              "      <td>2017-05-03 11:05:13</td>\n",
              "      <td>239.90</td>\n",
              "      <td>19.93</td>\n",
              "    </tr>\n",
              "    <tr>\n",
              "      <th>2</th>\n",
              "      <td>000229ec398224ef6ca0657da4fc703e</td>\n",
              "      <td>1</td>\n",
              "      <td>c777355d18b72b67abbeef9df44fd0fd</td>\n",
              "      <td>5b51032eddd242adc84c38acab88f23d</td>\n",
              "      <td>2018-01-18 14:48:30</td>\n",
              "      <td>199.00</td>\n",
              "      <td>17.87</td>\n",
              "    </tr>\n",
              "    <tr>\n",
              "      <th>3</th>\n",
              "      <td>00024acbcdf0a6daa1e931b038114c75</td>\n",
              "      <td>1</td>\n",
              "      <td>7634da152a4610f1595efa32f14722fc</td>\n",
              "      <td>9d7a1d34a5052409006425275ba1c2b4</td>\n",
              "      <td>2018-08-15 10:10:18</td>\n",
              "      <td>12.99</td>\n",
              "      <td>12.79</td>\n",
              "    </tr>\n",
              "    <tr>\n",
              "      <th>4</th>\n",
              "      <td>00042b26cf59d7ce69dfabb4e55b4fd9</td>\n",
              "      <td>1</td>\n",
              "      <td>ac6c3623068f30de03045865e4e10089</td>\n",
              "      <td>df560393f3a51e74553ab94004ba5c87</td>\n",
              "      <td>2017-02-13 13:57:51</td>\n",
              "      <td>199.90</td>\n",
              "      <td>18.14</td>\n",
              "    </tr>\n",
              "  </tbody>\n",
              "</table>\n",
              "</div>"
            ],
            "text/plain": [
              "                           order_id  order_item_id  \\\n",
              "0  00010242fe8c5a6d1ba2dd792cb16214              1   \n",
              "1  00018f77f2f0320c557190d7a144bdd3              1   \n",
              "2  000229ec398224ef6ca0657da4fc703e              1   \n",
              "3  00024acbcdf0a6daa1e931b038114c75              1   \n",
              "4  00042b26cf59d7ce69dfabb4e55b4fd9              1   \n",
              "\n",
              "                         product_id                         seller_id  \\\n",
              "0  4244733e06e7ecb4970a6e2683c13e61  48436dade18ac8b2bce089ec2a041202   \n",
              "1  e5f2d52b802189ee658865ca93d83a8f  dd7ddc04e1b6c2c614352b383efe2d36   \n",
              "2  c777355d18b72b67abbeef9df44fd0fd  5b51032eddd242adc84c38acab88f23d   \n",
              "3  7634da152a4610f1595efa32f14722fc  9d7a1d34a5052409006425275ba1c2b4   \n",
              "4  ac6c3623068f30de03045865e4e10089  df560393f3a51e74553ab94004ba5c87   \n",
              "\n",
              "   shipping_limit_date   price  freight_value  \n",
              "0  2017-09-19 09:45:35   58.90          13.29  \n",
              "1  2017-05-03 11:05:13  239.90          19.93  \n",
              "2  2018-01-18 14:48:30  199.00          17.87  \n",
              "3  2018-08-15 10:10:18   12.99          12.79  \n",
              "4  2017-02-13 13:57:51  199.90          18.14  "
            ]
          },
          "execution_count": 9,
          "metadata": {},
          "output_type": "execute_result"
        }
      ],
      "source": [
        "# prompt: Menggunakan order_items_df\n",
        "order_items_df.head()\n"
      ]
    },
    {
      "cell_type": "code",
      "execution_count": 10,
      "metadata": {
        "colab": {
          "base_uri": "https://localhost:8080/",
          "height": 206
        },
        "id": "7P8kYVyV99R-",
        "outputId": "df8fd35d-bb88-4e8a-b0c8-6505543de98f"
      },
      "outputs": [
        {
          "data": {
            "text/html": [
              "<div>\n",
              "<style scoped>\n",
              "    .dataframe tbody tr th:only-of-type {\n",
              "        vertical-align: middle;\n",
              "    }\n",
              "\n",
              "    .dataframe tbody tr th {\n",
              "        vertical-align: top;\n",
              "    }\n",
              "\n",
              "    .dataframe thead th {\n",
              "        text-align: right;\n",
              "    }\n",
              "</style>\n",
              "<table border=\"1\" class=\"dataframe\">\n",
              "  <thead>\n",
              "    <tr style=\"text-align: right;\">\n",
              "      <th></th>\n",
              "      <th>order_id</th>\n",
              "      <th>payment_sequential</th>\n",
              "      <th>payment_type</th>\n",
              "      <th>payment_installments</th>\n",
              "      <th>payment_value</th>\n",
              "    </tr>\n",
              "  </thead>\n",
              "  <tbody>\n",
              "    <tr>\n",
              "      <th>0</th>\n",
              "      <td>b81ef226f3fe1789b1e8b2acac839d17</td>\n",
              "      <td>1</td>\n",
              "      <td>credit_card</td>\n",
              "      <td>8</td>\n",
              "      <td>99.33</td>\n",
              "    </tr>\n",
              "    <tr>\n",
              "      <th>1</th>\n",
              "      <td>a9810da82917af2d9aefd1278f1dcfa0</td>\n",
              "      <td>1</td>\n",
              "      <td>credit_card</td>\n",
              "      <td>1</td>\n",
              "      <td>24.39</td>\n",
              "    </tr>\n",
              "    <tr>\n",
              "      <th>2</th>\n",
              "      <td>25e8ea4e93396b6fa0d3dd708e76c1bd</td>\n",
              "      <td>1</td>\n",
              "      <td>credit_card</td>\n",
              "      <td>1</td>\n",
              "      <td>65.71</td>\n",
              "    </tr>\n",
              "    <tr>\n",
              "      <th>3</th>\n",
              "      <td>ba78997921bbcdc1373bb41e913ab953</td>\n",
              "      <td>1</td>\n",
              "      <td>credit_card</td>\n",
              "      <td>8</td>\n",
              "      <td>107.78</td>\n",
              "    </tr>\n",
              "    <tr>\n",
              "      <th>4</th>\n",
              "      <td>42fdf880ba16b47b59251dd489d4441a</td>\n",
              "      <td>1</td>\n",
              "      <td>credit_card</td>\n",
              "      <td>2</td>\n",
              "      <td>128.45</td>\n",
              "    </tr>\n",
              "  </tbody>\n",
              "</table>\n",
              "</div>"
            ],
            "text/plain": [
              "                           order_id  payment_sequential payment_type  \\\n",
              "0  b81ef226f3fe1789b1e8b2acac839d17                   1  credit_card   \n",
              "1  a9810da82917af2d9aefd1278f1dcfa0                   1  credit_card   \n",
              "2  25e8ea4e93396b6fa0d3dd708e76c1bd                   1  credit_card   \n",
              "3  ba78997921bbcdc1373bb41e913ab953                   1  credit_card   \n",
              "4  42fdf880ba16b47b59251dd489d4441a                   1  credit_card   \n",
              "\n",
              "   payment_installments  payment_value  \n",
              "0                     8          99.33  \n",
              "1                     1          24.39  \n",
              "2                     1          65.71  \n",
              "3                     8         107.78  \n",
              "4                     2         128.45  "
            ]
          },
          "execution_count": 10,
          "metadata": {},
          "output_type": "execute_result"
        }
      ],
      "source": [
        "# prompt: Menggunakan order_payments_df\n",
        "order_payments_df.head()\n"
      ]
    },
    {
      "cell_type": "code",
      "execution_count": 11,
      "metadata": {
        "colab": {
          "base_uri": "https://localhost:8080/",
          "height": 241
        },
        "id": "UdlDgrJ_-Lv0",
        "outputId": "6a93e3b5-1183-42aa-b334-2f08767858f9"
      },
      "outputs": [
        {
          "data": {
            "text/html": [
              "<div>\n",
              "<style scoped>\n",
              "    .dataframe tbody tr th:only-of-type {\n",
              "        vertical-align: middle;\n",
              "    }\n",
              "\n",
              "    .dataframe tbody tr th {\n",
              "        vertical-align: top;\n",
              "    }\n",
              "\n",
              "    .dataframe thead th {\n",
              "        text-align: right;\n",
              "    }\n",
              "</style>\n",
              "<table border=\"1\" class=\"dataframe\">\n",
              "  <thead>\n",
              "    <tr style=\"text-align: right;\">\n",
              "      <th></th>\n",
              "      <th>review_id</th>\n",
              "      <th>order_id</th>\n",
              "      <th>review_score</th>\n",
              "      <th>review_comment_title</th>\n",
              "      <th>review_comment_message</th>\n",
              "      <th>review_creation_date</th>\n",
              "      <th>review_answer_timestamp</th>\n",
              "    </tr>\n",
              "  </thead>\n",
              "  <tbody>\n",
              "    <tr>\n",
              "      <th>0</th>\n",
              "      <td>7bc2406110b926393aa56f80a40eba40</td>\n",
              "      <td>73fc7af87114b39712e6da79b0a377eb</td>\n",
              "      <td>4</td>\n",
              "      <td>NaN</td>\n",
              "      <td>NaN</td>\n",
              "      <td>2018-01-18 00:00:00</td>\n",
              "      <td>2018-01-18 21:46:59</td>\n",
              "    </tr>\n",
              "    <tr>\n",
              "      <th>1</th>\n",
              "      <td>80e641a11e56f04c1ad469d5645fdfde</td>\n",
              "      <td>a548910a1c6147796b98fdf73dbeba33</td>\n",
              "      <td>5</td>\n",
              "      <td>NaN</td>\n",
              "      <td>NaN</td>\n",
              "      <td>2018-03-10 00:00:00</td>\n",
              "      <td>2018-03-11 03:05:13</td>\n",
              "    </tr>\n",
              "    <tr>\n",
              "      <th>2</th>\n",
              "      <td>228ce5500dc1d8e020d8d1322874b6f0</td>\n",
              "      <td>f9e4b658b201a9f2ecdecbb34bed034b</td>\n",
              "      <td>5</td>\n",
              "      <td>NaN</td>\n",
              "      <td>NaN</td>\n",
              "      <td>2018-02-17 00:00:00</td>\n",
              "      <td>2018-02-18 14:36:24</td>\n",
              "    </tr>\n",
              "    <tr>\n",
              "      <th>3</th>\n",
              "      <td>e64fb393e7b32834bb789ff8bb30750e</td>\n",
              "      <td>658677c97b385a9be170737859d3511b</td>\n",
              "      <td>5</td>\n",
              "      <td>NaN</td>\n",
              "      <td>Recebi bem antes do prazo estipulado.</td>\n",
              "      <td>2017-04-21 00:00:00</td>\n",
              "      <td>2017-04-21 22:02:06</td>\n",
              "    </tr>\n",
              "    <tr>\n",
              "      <th>4</th>\n",
              "      <td>f7c4243c7fe1938f181bec41a392bdeb</td>\n",
              "      <td>8e6bfb81e283fa7e4f11123a3fb894f1</td>\n",
              "      <td>5</td>\n",
              "      <td>NaN</td>\n",
              "      <td>Parabéns lojas lannister adorei comprar pela I...</td>\n",
              "      <td>2018-03-01 00:00:00</td>\n",
              "      <td>2018-03-02 10:26:53</td>\n",
              "    </tr>\n",
              "  </tbody>\n",
              "</table>\n",
              "</div>"
            ],
            "text/plain": [
              "                          review_id                          order_id  \\\n",
              "0  7bc2406110b926393aa56f80a40eba40  73fc7af87114b39712e6da79b0a377eb   \n",
              "1  80e641a11e56f04c1ad469d5645fdfde  a548910a1c6147796b98fdf73dbeba33   \n",
              "2  228ce5500dc1d8e020d8d1322874b6f0  f9e4b658b201a9f2ecdecbb34bed034b   \n",
              "3  e64fb393e7b32834bb789ff8bb30750e  658677c97b385a9be170737859d3511b   \n",
              "4  f7c4243c7fe1938f181bec41a392bdeb  8e6bfb81e283fa7e4f11123a3fb894f1   \n",
              "\n",
              "   review_score review_comment_title  \\\n",
              "0             4                  NaN   \n",
              "1             5                  NaN   \n",
              "2             5                  NaN   \n",
              "3             5                  NaN   \n",
              "4             5                  NaN   \n",
              "\n",
              "                              review_comment_message review_creation_date  \\\n",
              "0                                                NaN  2018-01-18 00:00:00   \n",
              "1                                                NaN  2018-03-10 00:00:00   \n",
              "2                                                NaN  2018-02-17 00:00:00   \n",
              "3              Recebi bem antes do prazo estipulado.  2017-04-21 00:00:00   \n",
              "4  Parabéns lojas lannister adorei comprar pela I...  2018-03-01 00:00:00   \n",
              "\n",
              "  review_answer_timestamp  \n",
              "0     2018-01-18 21:46:59  \n",
              "1     2018-03-11 03:05:13  \n",
              "2     2018-02-18 14:36:24  \n",
              "3     2017-04-21 22:02:06  \n",
              "4     2018-03-02 10:26:53  "
            ]
          },
          "execution_count": 11,
          "metadata": {},
          "output_type": "execute_result"
        }
      ],
      "source": [
        "# prompt: Menggunakan order_reviews_df\n",
        "order_reviews_df.head()"
      ]
    },
    {
      "cell_type": "code",
      "execution_count": 12,
      "metadata": {
        "colab": {
          "base_uri": "https://localhost:8080/",
          "height": 226
        },
        "id": "QN2Jvay3-aEA",
        "outputId": "a08023de-83cc-406e-8467-f51882665a5d"
      },
      "outputs": [
        {
          "data": {
            "text/html": [
              "<div>\n",
              "<style scoped>\n",
              "    .dataframe tbody tr th:only-of-type {\n",
              "        vertical-align: middle;\n",
              "    }\n",
              "\n",
              "    .dataframe tbody tr th {\n",
              "        vertical-align: top;\n",
              "    }\n",
              "\n",
              "    .dataframe thead th {\n",
              "        text-align: right;\n",
              "    }\n",
              "</style>\n",
              "<table border=\"1\" class=\"dataframe\">\n",
              "  <thead>\n",
              "    <tr style=\"text-align: right;\">\n",
              "      <th></th>\n",
              "      <th>order_id</th>\n",
              "      <th>customer_id</th>\n",
              "      <th>order_status</th>\n",
              "      <th>order_purchase_timestamp</th>\n",
              "      <th>order_approved_at</th>\n",
              "      <th>order_delivered_carrier_date</th>\n",
              "      <th>order_delivered_customer_date</th>\n",
              "      <th>order_estimated_delivery_date</th>\n",
              "    </tr>\n",
              "  </thead>\n",
              "  <tbody>\n",
              "    <tr>\n",
              "      <th>0</th>\n",
              "      <td>e481f51cbdc54678b7cc49136f2d6af7</td>\n",
              "      <td>9ef432eb6251297304e76186b10a928d</td>\n",
              "      <td>delivered</td>\n",
              "      <td>2017-10-02 10:56:33</td>\n",
              "      <td>2017-10-02 11:07:15</td>\n",
              "      <td>2017-10-04 19:55:00</td>\n",
              "      <td>2017-10-10 21:25:13</td>\n",
              "      <td>2017-10-18 00:00:00</td>\n",
              "    </tr>\n",
              "    <tr>\n",
              "      <th>1</th>\n",
              "      <td>53cdb2fc8bc7dce0b6741e2150273451</td>\n",
              "      <td>b0830fb4747a6c6d20dea0b8c802d7ef</td>\n",
              "      <td>delivered</td>\n",
              "      <td>2018-07-24 20:41:37</td>\n",
              "      <td>2018-07-26 03:24:27</td>\n",
              "      <td>2018-07-26 14:31:00</td>\n",
              "      <td>2018-08-07 15:27:45</td>\n",
              "      <td>2018-08-13 00:00:00</td>\n",
              "    </tr>\n",
              "    <tr>\n",
              "      <th>2</th>\n",
              "      <td>47770eb9100c2d0c44946d9cf07ec65d</td>\n",
              "      <td>41ce2a54c0b03bf3443c3d931a367089</td>\n",
              "      <td>delivered</td>\n",
              "      <td>2018-08-08 08:38:49</td>\n",
              "      <td>2018-08-08 08:55:23</td>\n",
              "      <td>2018-08-08 13:50:00</td>\n",
              "      <td>2018-08-17 18:06:29</td>\n",
              "      <td>2018-09-04 00:00:00</td>\n",
              "    </tr>\n",
              "    <tr>\n",
              "      <th>3</th>\n",
              "      <td>949d5b44dbf5de918fe9c16f97b45f8a</td>\n",
              "      <td>f88197465ea7920adcdbec7375364d82</td>\n",
              "      <td>delivered</td>\n",
              "      <td>2017-11-18 19:28:06</td>\n",
              "      <td>2017-11-18 19:45:59</td>\n",
              "      <td>2017-11-22 13:39:59</td>\n",
              "      <td>2017-12-02 00:28:42</td>\n",
              "      <td>2017-12-15 00:00:00</td>\n",
              "    </tr>\n",
              "    <tr>\n",
              "      <th>4</th>\n",
              "      <td>ad21c59c0840e6cb83a9ceb5573f8159</td>\n",
              "      <td>8ab97904e6daea8866dbdbc4fb7aad2c</td>\n",
              "      <td>delivered</td>\n",
              "      <td>2018-02-13 21:18:39</td>\n",
              "      <td>2018-02-13 22:20:29</td>\n",
              "      <td>2018-02-14 19:46:34</td>\n",
              "      <td>2018-02-16 18:17:02</td>\n",
              "      <td>2018-02-26 00:00:00</td>\n",
              "    </tr>\n",
              "  </tbody>\n",
              "</table>\n",
              "</div>"
            ],
            "text/plain": [
              "                           order_id                       customer_id  \\\n",
              "0  e481f51cbdc54678b7cc49136f2d6af7  9ef432eb6251297304e76186b10a928d   \n",
              "1  53cdb2fc8bc7dce0b6741e2150273451  b0830fb4747a6c6d20dea0b8c802d7ef   \n",
              "2  47770eb9100c2d0c44946d9cf07ec65d  41ce2a54c0b03bf3443c3d931a367089   \n",
              "3  949d5b44dbf5de918fe9c16f97b45f8a  f88197465ea7920adcdbec7375364d82   \n",
              "4  ad21c59c0840e6cb83a9ceb5573f8159  8ab97904e6daea8866dbdbc4fb7aad2c   \n",
              "\n",
              "  order_status order_purchase_timestamp    order_approved_at  \\\n",
              "0    delivered      2017-10-02 10:56:33  2017-10-02 11:07:15   \n",
              "1    delivered      2018-07-24 20:41:37  2018-07-26 03:24:27   \n",
              "2    delivered      2018-08-08 08:38:49  2018-08-08 08:55:23   \n",
              "3    delivered      2017-11-18 19:28:06  2017-11-18 19:45:59   \n",
              "4    delivered      2018-02-13 21:18:39  2018-02-13 22:20:29   \n",
              "\n",
              "  order_delivered_carrier_date order_delivered_customer_date  \\\n",
              "0          2017-10-04 19:55:00           2017-10-10 21:25:13   \n",
              "1          2018-07-26 14:31:00           2018-08-07 15:27:45   \n",
              "2          2018-08-08 13:50:00           2018-08-17 18:06:29   \n",
              "3          2017-11-22 13:39:59           2017-12-02 00:28:42   \n",
              "4          2018-02-14 19:46:34           2018-02-16 18:17:02   \n",
              "\n",
              "  order_estimated_delivery_date  \n",
              "0           2017-10-18 00:00:00  \n",
              "1           2018-08-13 00:00:00  \n",
              "2           2018-09-04 00:00:00  \n",
              "3           2017-12-15 00:00:00  \n",
              "4           2018-02-26 00:00:00  "
            ]
          },
          "execution_count": 12,
          "metadata": {},
          "output_type": "execute_result"
        }
      ],
      "source": [
        "# prompt: Menggunakan orders_df\n",
        "\n",
        "# Display the first 5 rows of the order_reviews dataframe.\n",
        "orders_df.head()\n"
      ]
    },
    {
      "cell_type": "code",
      "execution_count": 13,
      "metadata": {
        "colab": {
          "base_uri": "https://localhost:8080/",
          "height": 226
        },
        "id": "WKd82PKI-mOO",
        "outputId": "12c45515-b5d9-44d7-a43c-1c8c7a2593b2"
      },
      "outputs": [
        {
          "data": {
            "text/html": [
              "<div>\n",
              "<style scoped>\n",
              "    .dataframe tbody tr th:only-of-type {\n",
              "        vertical-align: middle;\n",
              "    }\n",
              "\n",
              "    .dataframe tbody tr th {\n",
              "        vertical-align: top;\n",
              "    }\n",
              "\n",
              "    .dataframe thead th {\n",
              "        text-align: right;\n",
              "    }\n",
              "</style>\n",
              "<table border=\"1\" class=\"dataframe\">\n",
              "  <thead>\n",
              "    <tr style=\"text-align: right;\">\n",
              "      <th></th>\n",
              "      <th>product_id</th>\n",
              "      <th>product_category_name</th>\n",
              "      <th>product_name_lenght</th>\n",
              "      <th>product_description_lenght</th>\n",
              "      <th>product_photos_qty</th>\n",
              "      <th>product_weight_g</th>\n",
              "      <th>product_length_cm</th>\n",
              "      <th>product_height_cm</th>\n",
              "      <th>product_width_cm</th>\n",
              "    </tr>\n",
              "  </thead>\n",
              "  <tbody>\n",
              "    <tr>\n",
              "      <th>0</th>\n",
              "      <td>1e9e8ef04dbcff4541ed26657ea517e5</td>\n",
              "      <td>perfumaria</td>\n",
              "      <td>40.0</td>\n",
              "      <td>287.0</td>\n",
              "      <td>1.0</td>\n",
              "      <td>225.0</td>\n",
              "      <td>16.0</td>\n",
              "      <td>10.0</td>\n",
              "      <td>14.0</td>\n",
              "    </tr>\n",
              "    <tr>\n",
              "      <th>1</th>\n",
              "      <td>3aa071139cb16b67ca9e5dea641aaa2f</td>\n",
              "      <td>artes</td>\n",
              "      <td>44.0</td>\n",
              "      <td>276.0</td>\n",
              "      <td>1.0</td>\n",
              "      <td>1000.0</td>\n",
              "      <td>30.0</td>\n",
              "      <td>18.0</td>\n",
              "      <td>20.0</td>\n",
              "    </tr>\n",
              "    <tr>\n",
              "      <th>2</th>\n",
              "      <td>96bd76ec8810374ed1b65e291975717f</td>\n",
              "      <td>esporte_lazer</td>\n",
              "      <td>46.0</td>\n",
              "      <td>250.0</td>\n",
              "      <td>1.0</td>\n",
              "      <td>154.0</td>\n",
              "      <td>18.0</td>\n",
              "      <td>9.0</td>\n",
              "      <td>15.0</td>\n",
              "    </tr>\n",
              "    <tr>\n",
              "      <th>3</th>\n",
              "      <td>cef67bcfe19066a932b7673e239eb23d</td>\n",
              "      <td>bebes</td>\n",
              "      <td>27.0</td>\n",
              "      <td>261.0</td>\n",
              "      <td>1.0</td>\n",
              "      <td>371.0</td>\n",
              "      <td>26.0</td>\n",
              "      <td>4.0</td>\n",
              "      <td>26.0</td>\n",
              "    </tr>\n",
              "    <tr>\n",
              "      <th>4</th>\n",
              "      <td>9dc1a7de274444849c219cff195d0b71</td>\n",
              "      <td>utilidades_domesticas</td>\n",
              "      <td>37.0</td>\n",
              "      <td>402.0</td>\n",
              "      <td>4.0</td>\n",
              "      <td>625.0</td>\n",
              "      <td>20.0</td>\n",
              "      <td>17.0</td>\n",
              "      <td>13.0</td>\n",
              "    </tr>\n",
              "  </tbody>\n",
              "</table>\n",
              "</div>"
            ],
            "text/plain": [
              "                         product_id  product_category_name  \\\n",
              "0  1e9e8ef04dbcff4541ed26657ea517e5             perfumaria   \n",
              "1  3aa071139cb16b67ca9e5dea641aaa2f                  artes   \n",
              "2  96bd76ec8810374ed1b65e291975717f          esporte_lazer   \n",
              "3  cef67bcfe19066a932b7673e239eb23d                  bebes   \n",
              "4  9dc1a7de274444849c219cff195d0b71  utilidades_domesticas   \n",
              "\n",
              "   product_name_lenght  product_description_lenght  product_photos_qty  \\\n",
              "0                 40.0                       287.0                 1.0   \n",
              "1                 44.0                       276.0                 1.0   \n",
              "2                 46.0                       250.0                 1.0   \n",
              "3                 27.0                       261.0                 1.0   \n",
              "4                 37.0                       402.0                 4.0   \n",
              "\n",
              "   product_weight_g  product_length_cm  product_height_cm  product_width_cm  \n",
              "0             225.0               16.0               10.0              14.0  \n",
              "1            1000.0               30.0               18.0              20.0  \n",
              "2             154.0               18.0                9.0              15.0  \n",
              "3             371.0               26.0                4.0              26.0  \n",
              "4             625.0               20.0               17.0              13.0  "
            ]
          },
          "execution_count": 13,
          "metadata": {},
          "output_type": "execute_result"
        }
      ],
      "source": [
        "# prompt: Menggunakan products_df\n",
        "\n",
        "# Kode ini akan menampilkan 5 baris pertama dari dataframe yang disediakan 'orders_df'.\n",
        "# Ganti dengan operasi aktual pada 'products_df' setelah tersedia.\n",
        "\n",
        "products_df.head()\n"
      ]
    },
    {
      "cell_type": "code",
      "execution_count": 14,
      "metadata": {
        "colab": {
          "base_uri": "https://localhost:8080/",
          "height": 206
        },
        "id": "Ck_nyq02-vVK",
        "outputId": "18da05db-0ffb-46e8-80b8-51938514c8b8"
      },
      "outputs": [
        {
          "data": {
            "text/html": [
              "<div>\n",
              "<style scoped>\n",
              "    .dataframe tbody tr th:only-of-type {\n",
              "        vertical-align: middle;\n",
              "    }\n",
              "\n",
              "    .dataframe tbody tr th {\n",
              "        vertical-align: top;\n",
              "    }\n",
              "\n",
              "    .dataframe thead th {\n",
              "        text-align: right;\n",
              "    }\n",
              "</style>\n",
              "<table border=\"1\" class=\"dataframe\">\n",
              "  <thead>\n",
              "    <tr style=\"text-align: right;\">\n",
              "      <th></th>\n",
              "      <th>product_category_name</th>\n",
              "      <th>product_category_name_english</th>\n",
              "    </tr>\n",
              "  </thead>\n",
              "  <tbody>\n",
              "    <tr>\n",
              "      <th>0</th>\n",
              "      <td>beleza_saude</td>\n",
              "      <td>health_beauty</td>\n",
              "    </tr>\n",
              "    <tr>\n",
              "      <th>1</th>\n",
              "      <td>informatica_acessorios</td>\n",
              "      <td>computers_accessories</td>\n",
              "    </tr>\n",
              "    <tr>\n",
              "      <th>2</th>\n",
              "      <td>automotivo</td>\n",
              "      <td>auto</td>\n",
              "    </tr>\n",
              "    <tr>\n",
              "      <th>3</th>\n",
              "      <td>cama_mesa_banho</td>\n",
              "      <td>bed_bath_table</td>\n",
              "    </tr>\n",
              "    <tr>\n",
              "      <th>4</th>\n",
              "      <td>moveis_decoracao</td>\n",
              "      <td>furniture_decor</td>\n",
              "    </tr>\n",
              "  </tbody>\n",
              "</table>\n",
              "</div>"
            ],
            "text/plain": [
              "    product_category_name product_category_name_english\n",
              "0            beleza_saude                 health_beauty\n",
              "1  informatica_acessorios         computers_accessories\n",
              "2              automotivo                          auto\n",
              "3         cama_mesa_banho                bed_bath_table\n",
              "4        moveis_decoracao               furniture_decor"
            ]
          },
          "execution_count": 14,
          "metadata": {},
          "output_type": "execute_result"
        }
      ],
      "source": [
        "# prompt: Menggunakan product_category_name_translation_df\n",
        "\n",
        "product_category_name_translation_df.head()\n"
      ]
    },
    {
      "cell_type": "code",
      "execution_count": 15,
      "metadata": {
        "colab": {
          "base_uri": "https://localhost:8080/",
          "height": 206
        },
        "id": "spPaTcpD-6Wf",
        "outputId": "a048d5db-16c6-4e7b-cd3d-8970ea889e90"
      },
      "outputs": [
        {
          "data": {
            "text/html": [
              "<div>\n",
              "<style scoped>\n",
              "    .dataframe tbody tr th:only-of-type {\n",
              "        vertical-align: middle;\n",
              "    }\n",
              "\n",
              "    .dataframe tbody tr th {\n",
              "        vertical-align: top;\n",
              "    }\n",
              "\n",
              "    .dataframe thead th {\n",
              "        text-align: right;\n",
              "    }\n",
              "</style>\n",
              "<table border=\"1\" class=\"dataframe\">\n",
              "  <thead>\n",
              "    <tr style=\"text-align: right;\">\n",
              "      <th></th>\n",
              "      <th>seller_id</th>\n",
              "      <th>seller_zip_code_prefix</th>\n",
              "      <th>seller_city</th>\n",
              "      <th>seller_state</th>\n",
              "    </tr>\n",
              "  </thead>\n",
              "  <tbody>\n",
              "    <tr>\n",
              "      <th>0</th>\n",
              "      <td>3442f8959a84dea7ee197c632cb2df15</td>\n",
              "      <td>13023</td>\n",
              "      <td>campinas</td>\n",
              "      <td>SP</td>\n",
              "    </tr>\n",
              "    <tr>\n",
              "      <th>1</th>\n",
              "      <td>d1b65fc7debc3361ea86b5f14c68d2e2</td>\n",
              "      <td>13844</td>\n",
              "      <td>mogi guacu</td>\n",
              "      <td>SP</td>\n",
              "    </tr>\n",
              "    <tr>\n",
              "      <th>2</th>\n",
              "      <td>ce3ad9de960102d0677a81f5d0bb7b2d</td>\n",
              "      <td>20031</td>\n",
              "      <td>rio de janeiro</td>\n",
              "      <td>RJ</td>\n",
              "    </tr>\n",
              "    <tr>\n",
              "      <th>3</th>\n",
              "      <td>c0f3eea2e14555b6faeea3dd58c1b1c3</td>\n",
              "      <td>4195</td>\n",
              "      <td>sao paulo</td>\n",
              "      <td>SP</td>\n",
              "    </tr>\n",
              "    <tr>\n",
              "      <th>4</th>\n",
              "      <td>51a04a8a6bdcb23deccc82b0b80742cf</td>\n",
              "      <td>12914</td>\n",
              "      <td>braganca paulista</td>\n",
              "      <td>SP</td>\n",
              "    </tr>\n",
              "  </tbody>\n",
              "</table>\n",
              "</div>"
            ],
            "text/plain": [
              "                          seller_id  seller_zip_code_prefix  \\\n",
              "0  3442f8959a84dea7ee197c632cb2df15                   13023   \n",
              "1  d1b65fc7debc3361ea86b5f14c68d2e2                   13844   \n",
              "2  ce3ad9de960102d0677a81f5d0bb7b2d                   20031   \n",
              "3  c0f3eea2e14555b6faeea3dd58c1b1c3                    4195   \n",
              "4  51a04a8a6bdcb23deccc82b0b80742cf                   12914   \n",
              "\n",
              "         seller_city seller_state  \n",
              "0           campinas           SP  \n",
              "1         mogi guacu           SP  \n",
              "2     rio de janeiro           RJ  \n",
              "3          sao paulo           SP  \n",
              "4  braganca paulista           SP  "
            ]
          },
          "execution_count": 15,
          "metadata": {},
          "output_type": "execute_result"
        }
      ],
      "source": [
        "# prompt: Menggunakan sellers_df\n",
        "\n",
        "# Untuk menampilkan bingkai data, gunakan:\n",
        "sellers_df.head()\n"
      ]
    },
    {
      "cell_type": "markdown",
      "metadata": {
        "id": "MMi6xGaDkbCi"
      },
      "source": [
        "**Insight:**\n",
        "- Data pelanggan berhasil dimuat dengan baik, menunjukkan beberapa baris pertama untuk verifikasi.\n",
        "- Data dari berbagai file CSV digabungkan untuk analisis lebih lanjut.\n",
        "- Data ulasan memberikan wawasan tentang kepuasan pelanggan melalui rating dan komentar.\n",
        "- Data pesanan mencakup detail seperti status, waktu pembelian, dan waktu pengiriman. Ini memungkinkan evaluasi efisiensi proses pemesanan dan pengiriman.\n",
        "- Data produk dan kategorinya menyediakan informasi penting tentang atribut produk serta klasifikasinya.\n",
        "- Data penjual memberikan detail lokasi penjual, membantu menganalisis distribusi geografis penjual."
      ]
    },
    {
      "cell_type": "markdown",
      "metadata": {
        "id": "FHSiqaZp8DC1"
      },
      "source": [
        "### Assessing Data"
      ]
    },
    {
      "cell_type": "markdown",
      "metadata": {
        "id": "ky08WQxGAOE4"
      },
      "source": [
        "1. Data customers_df"
      ]
    },
    {
      "cell_type": "code",
      "execution_count": 16,
      "metadata": {
        "colab": {
          "base_uri": "https://localhost:8080/"
        },
        "id": "ax-3tEjc9Cj1",
        "outputId": "5e3cdf76-1a09-4e16-e7bc-54572e0c033c"
      },
      "outputs": [
        {
          "name": "stdout",
          "output_type": "stream",
          "text": [
            "<class 'pandas.core.frame.DataFrame'>\n",
            "RangeIndex: 99441 entries, 0 to 99440\n",
            "Data columns (total 5 columns):\n",
            " #   Column                    Non-Null Count  Dtype \n",
            "---  ------                    --------------  ----- \n",
            " 0   customer_id               99441 non-null  object\n",
            " 1   customer_unique_id        99441 non-null  object\n",
            " 2   customer_zip_code_prefix  99441 non-null  int64 \n",
            " 3   customer_city             99441 non-null  object\n",
            " 4   customer_state            99441 non-null  object\n",
            "dtypes: int64(1), object(4)\n",
            "memory usage: 3.8+ MB\n"
          ]
        }
      ],
      "source": [
        "# prompt: customers_df.info()\n",
        "\n",
        "customers_df.info()"
      ]
    },
    {
      "cell_type": "markdown",
      "metadata": {
        "id": "B6YvpQybaH8Y"
      },
      "source": [
        "Informasi Kolom dan Tipe Data:\n",
        "\n",
        "- customers_df memiliki 99,441 baris dan 5 kolom.\n",
        "\n",
        "- Kolom terdiri dari customer_id, customer_unique_id, customer_zip_code_prefix, customer_city, dan customer_state.\n",
        "\n",
        "- Kolom customer_zip_code_prefix bertipe int64 sementara kolom lainnya bertipe object."
      ]
    },
    {
      "cell_type": "code",
      "execution_count": 17,
      "metadata": {
        "colab": {
          "base_uri": "https://localhost:8080/",
          "height": 241
        },
        "id": "Ah9HcaHMBocI",
        "outputId": "bfa7d9ec-8c11-48f0-9f91-c0ce90088206"
      },
      "outputs": [
        {
          "data": {
            "text/plain": [
              "customer_id                 0\n",
              "customer_unique_id          0\n",
              "customer_zip_code_prefix    0\n",
              "customer_city               0\n",
              "customer_state              0\n",
              "dtype: int64"
            ]
          },
          "execution_count": 17,
          "metadata": {},
          "output_type": "execute_result"
        }
      ],
      "source": [
        "# prompt: customers_df.isna().sum()\n",
        "\n",
        "customers_df.isna().sum()"
      ]
    },
    {
      "cell_type": "markdown",
      "metadata": {
        "id": "nO699p-eaa60"
      },
      "source": [
        "Missing Values:\n",
        "\n",
        "- Tidak ada missing values di dalam dataset ini. Semua kolom terisi penuh dengan nilai yang valid."
      ]
    },
    {
      "cell_type": "code",
      "execution_count": 18,
      "metadata": {
        "colab": {
          "base_uri": "https://localhost:8080/"
        },
        "id": "a2lhjPCCB0Q3",
        "outputId": "a3d03a41-d942-4215-e50e-08a767225a76"
      },
      "outputs": [
        {
          "name": "stdout",
          "output_type": "stream",
          "text": [
            "Jumlah duplikasi:  0\n"
          ]
        }
      ],
      "source": [
        "# prompt: print(\"Jumlah duplikasi: \", customers_df.duplicated().sum())\n",
        "\n",
        "print(\"Jumlah duplikasi: \", customers_df.duplicated().sum())"
      ]
    },
    {
      "cell_type": "markdown",
      "metadata": {
        "id": "Xh4im9LgauB4"
      },
      "source": [
        "Duplikasi Data:\n",
        "\n",
        "- Tidak ada duplikasi data ditemukan di dalam dataset ini (Jumlah duplikasi: 0)."
      ]
    },
    {
      "cell_type": "code",
      "execution_count": 19,
      "metadata": {
        "colab": {
          "base_uri": "https://localhost:8080/",
          "height": 394
        },
        "id": "ATKB1xf-B9qQ",
        "outputId": "f73224e4-3d32-4d4b-a462-a6005ccc4c49"
      },
      "outputs": [
        {
          "data": {
            "text/html": [
              "<div>\n",
              "<style scoped>\n",
              "    .dataframe tbody tr th:only-of-type {\n",
              "        vertical-align: middle;\n",
              "    }\n",
              "\n",
              "    .dataframe tbody tr th {\n",
              "        vertical-align: top;\n",
              "    }\n",
              "\n",
              "    .dataframe thead th {\n",
              "        text-align: right;\n",
              "    }\n",
              "</style>\n",
              "<table border=\"1\" class=\"dataframe\">\n",
              "  <thead>\n",
              "    <tr style=\"text-align: right;\">\n",
              "      <th></th>\n",
              "      <th>customer_id</th>\n",
              "      <th>customer_unique_id</th>\n",
              "      <th>customer_zip_code_prefix</th>\n",
              "      <th>customer_city</th>\n",
              "      <th>customer_state</th>\n",
              "    </tr>\n",
              "  </thead>\n",
              "  <tbody>\n",
              "    <tr>\n",
              "      <th>count</th>\n",
              "      <td>99441</td>\n",
              "      <td>99441</td>\n",
              "      <td>99441.000000</td>\n",
              "      <td>99441</td>\n",
              "      <td>99441</td>\n",
              "    </tr>\n",
              "    <tr>\n",
              "      <th>unique</th>\n",
              "      <td>99441</td>\n",
              "      <td>96096</td>\n",
              "      <td>NaN</td>\n",
              "      <td>4119</td>\n",
              "      <td>27</td>\n",
              "    </tr>\n",
              "    <tr>\n",
              "      <th>top</th>\n",
              "      <td>274fa6071e5e17fe303b9748641082c8</td>\n",
              "      <td>8d50f5eadf50201ccdcedfb9e2ac8455</td>\n",
              "      <td>NaN</td>\n",
              "      <td>sao paulo</td>\n",
              "      <td>SP</td>\n",
              "    </tr>\n",
              "    <tr>\n",
              "      <th>freq</th>\n",
              "      <td>1</td>\n",
              "      <td>17</td>\n",
              "      <td>NaN</td>\n",
              "      <td>15540</td>\n",
              "      <td>41746</td>\n",
              "    </tr>\n",
              "    <tr>\n",
              "      <th>mean</th>\n",
              "      <td>NaN</td>\n",
              "      <td>NaN</td>\n",
              "      <td>35137.474583</td>\n",
              "      <td>NaN</td>\n",
              "      <td>NaN</td>\n",
              "    </tr>\n",
              "    <tr>\n",
              "      <th>std</th>\n",
              "      <td>NaN</td>\n",
              "      <td>NaN</td>\n",
              "      <td>29797.938996</td>\n",
              "      <td>NaN</td>\n",
              "      <td>NaN</td>\n",
              "    </tr>\n",
              "    <tr>\n",
              "      <th>min</th>\n",
              "      <td>NaN</td>\n",
              "      <td>NaN</td>\n",
              "      <td>1003.000000</td>\n",
              "      <td>NaN</td>\n",
              "      <td>NaN</td>\n",
              "    </tr>\n",
              "    <tr>\n",
              "      <th>25%</th>\n",
              "      <td>NaN</td>\n",
              "      <td>NaN</td>\n",
              "      <td>11347.000000</td>\n",
              "      <td>NaN</td>\n",
              "      <td>NaN</td>\n",
              "    </tr>\n",
              "    <tr>\n",
              "      <th>50%</th>\n",
              "      <td>NaN</td>\n",
              "      <td>NaN</td>\n",
              "      <td>24416.000000</td>\n",
              "      <td>NaN</td>\n",
              "      <td>NaN</td>\n",
              "    </tr>\n",
              "    <tr>\n",
              "      <th>75%</th>\n",
              "      <td>NaN</td>\n",
              "      <td>NaN</td>\n",
              "      <td>58900.000000</td>\n",
              "      <td>NaN</td>\n",
              "      <td>NaN</td>\n",
              "    </tr>\n",
              "    <tr>\n",
              "      <th>max</th>\n",
              "      <td>NaN</td>\n",
              "      <td>NaN</td>\n",
              "      <td>99990.000000</td>\n",
              "      <td>NaN</td>\n",
              "      <td>NaN</td>\n",
              "    </tr>\n",
              "  </tbody>\n",
              "</table>\n",
              "</div>"
            ],
            "text/plain": [
              "                             customer_id                customer_unique_id  \\\n",
              "count                              99441                             99441   \n",
              "unique                             99441                             96096   \n",
              "top     274fa6071e5e17fe303b9748641082c8  8d50f5eadf50201ccdcedfb9e2ac8455   \n",
              "freq                                   1                                17   \n",
              "mean                                 NaN                               NaN   \n",
              "std                                  NaN                               NaN   \n",
              "min                                  NaN                               NaN   \n",
              "25%                                  NaN                               NaN   \n",
              "50%                                  NaN                               NaN   \n",
              "75%                                  NaN                               NaN   \n",
              "max                                  NaN                               NaN   \n",
              "\n",
              "        customer_zip_code_prefix customer_city customer_state  \n",
              "count               99441.000000         99441          99441  \n",
              "unique                       NaN          4119             27  \n",
              "top                          NaN     sao paulo             SP  \n",
              "freq                         NaN         15540          41746  \n",
              "mean                35137.474583           NaN            NaN  \n",
              "std                 29797.938996           NaN            NaN  \n",
              "min                  1003.000000           NaN            NaN  \n",
              "25%                 11347.000000           NaN            NaN  \n",
              "50%                 24416.000000           NaN            NaN  \n",
              "75%                 58900.000000           NaN            NaN  \n",
              "max                 99990.000000           NaN            NaN  "
            ]
          },
          "execution_count": 19,
          "metadata": {},
          "output_type": "execute_result"
        }
      ],
      "source": [
        "# prompt: customers_df.describe(include=('all'))\n",
        "\n",
        "customers_df.describe(include='all')"
      ]
    },
    {
      "cell_type": "markdown",
      "metadata": {
        "id": "2j9pyDrvaxyc"
      },
      "source": [
        "Statistik Deskriptif:\n",
        "\n",
        "- Kolom customer_zip_code_prefix menunjukkan rata-rata, minimum, dan maksimum yang mencerminkan variasi kode pos pelanggan.\n",
        "\n",
        "- Kolom customer_city dan customer_state memberikan informasi tentang distribusi geografis pelanggan."
      ]
    },
    {
      "cell_type": "markdown",
      "metadata": {
        "id": "7dtxhAPrkhPL"
      },
      "source": [
        "**Insight: Data customers_df**\n",
        "- Data pelanggan di customers_df bersih dan lengkap, tanpa adanya missing values atau duplikasi.\n",
        "\n",
        "- Informasi dalam dataset ini sangat berguna untuk analisis demografis pelanggan berdasarkan kota dan negara bagian, serta untuk memahami persebaran geografis pelanggan berdasarkan kode pos."
      ]
    },
    {
      "cell_type": "markdown",
      "metadata": {
        "id": "3ZjjwMa0CICS"
      },
      "source": [
        "2. Data geolocation_df"
      ]
    },
    {
      "cell_type": "code",
      "execution_count": 20,
      "metadata": {
        "colab": {
          "base_uri": "https://localhost:8080/"
        },
        "id": "ousP-_k_CXza",
        "outputId": "4b8f24dd-fff6-46b5-c69b-c5be781d8c2f"
      },
      "outputs": [
        {
          "name": "stdout",
          "output_type": "stream",
          "text": [
            "<class 'pandas.core.frame.DataFrame'>\n",
            "RangeIndex: 99441 entries, 0 to 99440\n",
            "Data columns (total 3 columns):\n",
            " #   Column                    Non-Null Count  Dtype \n",
            "---  ------                    --------------  ----- \n",
            " 0   customer_zip_code_prefix  99441 non-null  int64 \n",
            " 1   customer_city             99441 non-null  object\n",
            " 2   customer_state            99441 non-null  object\n",
            "dtypes: int64(1), object(2)\n",
            "memory usage: 2.3+ MB\n"
          ]
        }
      ],
      "source": [
        "# prompt: geolocation_df\n",
        "\n",
        "geolocation_df.info()\n"
      ]
    },
    {
      "cell_type": "markdown",
      "metadata": {
        "id": "vTk9-JYVbY8y"
      },
      "source": [
        "Informasi Kolom dan Tipe Data:\n",
        "\n",
        "- geolocation_df memiliki 99,441 baris dan 3 kolom.\n",
        "\n",
        "- Kolom terdiri dari customer_zip_code_prefix, customer_city, dan customer_state.\n",
        "\n",
        "- Kolom customer_zip_code_prefix bertipe int64 sementara kolom lainnya bertipe object."
      ]
    },
    {
      "cell_type": "code",
      "execution_count": 21,
      "metadata": {
        "colab": {
          "base_uri": "https://localhost:8080/",
          "height": 178
        },
        "id": "lJA2wO8zC4X1",
        "outputId": "905701af-eb5e-4c8a-9e32-8f20651b6ca7"
      },
      "outputs": [
        {
          "data": {
            "text/plain": [
              "customer_zip_code_prefix    0\n",
              "customer_city               0\n",
              "customer_state              0\n",
              "dtype: int64"
            ]
          },
          "execution_count": 21,
          "metadata": {},
          "output_type": "execute_result"
        }
      ],
      "source": [
        "# prompt: geolocation_df.isna().sum()\n",
        "\n",
        "geolocation_df.isna().sum()\n"
      ]
    },
    {
      "cell_type": "markdown",
      "metadata": {
        "id": "I2jisOCdbcYi"
      },
      "source": [
        "Missing Values:\n",
        "\n",
        "- Tidak ada missing values di dalam dataset ini. Semua kolom terisi penuh dengan nilai yang valid."
      ]
    },
    {
      "cell_type": "code",
      "execution_count": 22,
      "metadata": {
        "colab": {
          "base_uri": "https://localhost:8080/"
        },
        "id": "oWurdDEwRfqq",
        "outputId": "1988aeec-2a0b-4390-a550-479facf752a1"
      },
      "outputs": [
        {
          "name": "stdout",
          "output_type": "stream",
          "text": [
            "Jumlah duplikasi:  84407\n"
          ]
        }
      ],
      "source": [
        "# prompt: print(\"Jumlah duplikasi: \", geolocation_df.duplicated().sum())\n",
        "\n",
        "print(\"Jumlah duplikasi: \", geolocation_df.duplicated().sum())"
      ]
    },
    {
      "cell_type": "markdown",
      "metadata": {
        "id": "sHqnnip-bgGB"
      },
      "source": [
        "Duplikasi Data:\n",
        "\n",
        "- Ditemukan 84,407 baris duplikasi di dalam dataset ini (Jumlah duplikasi: 84407), menunjukkan banyak entri yang berulang."
      ]
    },
    {
      "cell_type": "code",
      "execution_count": 23,
      "metadata": {
        "colab": {
          "base_uri": "https://localhost:8080/",
          "height": 394
        },
        "id": "lf2axdxsRsN3",
        "outputId": "551d16e1-5643-45fd-ff05-2b32d7acf556"
      },
      "outputs": [
        {
          "data": {
            "text/html": [
              "<div>\n",
              "<style scoped>\n",
              "    .dataframe tbody tr th:only-of-type {\n",
              "        vertical-align: middle;\n",
              "    }\n",
              "\n",
              "    .dataframe tbody tr th {\n",
              "        vertical-align: top;\n",
              "    }\n",
              "\n",
              "    .dataframe thead th {\n",
              "        text-align: right;\n",
              "    }\n",
              "</style>\n",
              "<table border=\"1\" class=\"dataframe\">\n",
              "  <thead>\n",
              "    <tr style=\"text-align: right;\">\n",
              "      <th></th>\n",
              "      <th>customer_zip_code_prefix</th>\n",
              "      <th>customer_city</th>\n",
              "      <th>customer_state</th>\n",
              "    </tr>\n",
              "  </thead>\n",
              "  <tbody>\n",
              "    <tr>\n",
              "      <th>count</th>\n",
              "      <td>99441.000000</td>\n",
              "      <td>99441</td>\n",
              "      <td>99441</td>\n",
              "    </tr>\n",
              "    <tr>\n",
              "      <th>unique</th>\n",
              "      <td>NaN</td>\n",
              "      <td>4119</td>\n",
              "      <td>27</td>\n",
              "    </tr>\n",
              "    <tr>\n",
              "      <th>top</th>\n",
              "      <td>NaN</td>\n",
              "      <td>sao paulo</td>\n",
              "      <td>SP</td>\n",
              "    </tr>\n",
              "    <tr>\n",
              "      <th>freq</th>\n",
              "      <td>NaN</td>\n",
              "      <td>15540</td>\n",
              "      <td>41746</td>\n",
              "    </tr>\n",
              "    <tr>\n",
              "      <th>mean</th>\n",
              "      <td>35137.474583</td>\n",
              "      <td>NaN</td>\n",
              "      <td>NaN</td>\n",
              "    </tr>\n",
              "    <tr>\n",
              "      <th>std</th>\n",
              "      <td>29797.938996</td>\n",
              "      <td>NaN</td>\n",
              "      <td>NaN</td>\n",
              "    </tr>\n",
              "    <tr>\n",
              "      <th>min</th>\n",
              "      <td>1003.000000</td>\n",
              "      <td>NaN</td>\n",
              "      <td>NaN</td>\n",
              "    </tr>\n",
              "    <tr>\n",
              "      <th>25%</th>\n",
              "      <td>11347.000000</td>\n",
              "      <td>NaN</td>\n",
              "      <td>NaN</td>\n",
              "    </tr>\n",
              "    <tr>\n",
              "      <th>50%</th>\n",
              "      <td>24416.000000</td>\n",
              "      <td>NaN</td>\n",
              "      <td>NaN</td>\n",
              "    </tr>\n",
              "    <tr>\n",
              "      <th>75%</th>\n",
              "      <td>58900.000000</td>\n",
              "      <td>NaN</td>\n",
              "      <td>NaN</td>\n",
              "    </tr>\n",
              "    <tr>\n",
              "      <th>max</th>\n",
              "      <td>99990.000000</td>\n",
              "      <td>NaN</td>\n",
              "      <td>NaN</td>\n",
              "    </tr>\n",
              "  </tbody>\n",
              "</table>\n",
              "</div>"
            ],
            "text/plain": [
              "        customer_zip_code_prefix customer_city customer_state\n",
              "count               99441.000000         99441          99441\n",
              "unique                       NaN          4119             27\n",
              "top                          NaN     sao paulo             SP\n",
              "freq                         NaN         15540          41746\n",
              "mean                35137.474583           NaN            NaN\n",
              "std                 29797.938996           NaN            NaN\n",
              "min                  1003.000000           NaN            NaN\n",
              "25%                 11347.000000           NaN            NaN\n",
              "50%                 24416.000000           NaN            NaN\n",
              "75%                 58900.000000           NaN            NaN\n",
              "max                 99990.000000           NaN            NaN"
            ]
          },
          "execution_count": 23,
          "metadata": {},
          "output_type": "execute_result"
        }
      ],
      "source": [
        "# prompt: geolocation_df.describe(include=('all'))\n",
        "\n",
        "geolocation_df.describe(include='all')"
      ]
    },
    {
      "cell_type": "markdown",
      "metadata": {
        "id": "zIPcnJRibjnM"
      },
      "source": [
        "Statistik Deskriptif:\n",
        "\n",
        "- Kolom customer_zip_code_prefix menunjukkan variasi kode pos pelanggan.\n",
        "\n",
        "- Kolom customer_city dan customer_state memberikan informasi tentang distribusi geografis pelanggan."
      ]
    },
    {
      "cell_type": "markdown",
      "metadata": {
        "id": "BQfLasF5SLOs"
      },
      "source": [
        "**Insight: Data geolocation_df**\n",
        "- Data geografis di geolocation_df bersih dan lengkap, tanpa adanya missing values.\n",
        "\n",
        "- Meskipun demikian, terdapat banyak duplikasi data yang perlu diperhatikan. Duplikasi ini mungkin perlu dihapus untuk analisis yang lebih akurat.\n",
        "\n",
        "- Informasi dalam dataset ini sangat berguna untuk analisis demografis pelanggan berdasarkan kota dan negara bagian, serta untuk memahami persebaran geografis pelanggan berdasarkan kode pos."
      ]
    },
    {
      "cell_type": "markdown",
      "metadata": {
        "id": "cjcQyRKmSE9x"
      },
      "source": [
        "3. Data order_items_df"
      ]
    },
    {
      "cell_type": "code",
      "execution_count": 24,
      "metadata": {
        "colab": {
          "base_uri": "https://localhost:8080/"
        },
        "id": "uH4z9oTZSGe4",
        "outputId": "6fbafd50-8327-4721-8623-ac1631bb4e30"
      },
      "outputs": [
        {
          "name": "stdout",
          "output_type": "stream",
          "text": [
            "<class 'pandas.core.frame.DataFrame'>\n",
            "RangeIndex: 112650 entries, 0 to 112649\n",
            "Data columns (total 7 columns):\n",
            " #   Column               Non-Null Count   Dtype  \n",
            "---  ------               --------------   -----  \n",
            " 0   order_id             112650 non-null  object \n",
            " 1   order_item_id        112650 non-null  int64  \n",
            " 2   product_id           112650 non-null  object \n",
            " 3   seller_id            112650 non-null  object \n",
            " 4   shipping_limit_date  112650 non-null  object \n",
            " 5   price                112650 non-null  float64\n",
            " 6   freight_value        112650 non-null  float64\n",
            "dtypes: float64(2), int64(1), object(4)\n",
            "memory usage: 6.0+ MB\n"
          ]
        }
      ],
      "source": [
        "# prompt: order_items_df.info()\n",
        "\n",
        "order_items_df.info()"
      ]
    },
    {
      "cell_type": "markdown",
      "metadata": {
        "id": "hF4jfFVgb-Xu"
      },
      "source": [
        "Informasi Kolom dan Tipe Data:\n",
        "\n",
        "- order_items_df memiliki 112,650 baris dan 7 kolom.\n",
        "\n",
        "- Kolom terdiri dari order_id, order_item_id, product_id, seller_id, shipping_limit_date, price, dan freight_value. pada shipping_limit_date terdapat kesalahan dalam mempresentasikan datanya yaitu **object** bukan **date** berikut perbaikan code:\n",
        "\n",
        "```\n",
        "# Ini diformat sebagai kode\n",
        "# Mengonversi kolom shipping_limit_date ke tipe datetime\n",
        "order_items_df['shipping_limit_date'] = pd.to_datetime(order_items_df['shipping_limit_date'], errors='coerce')\n",
        "\n",
        "# Memeriksa hasil perubahan tipe data\n",
        "print(order_items_df.info())\n",
        "```\n",
        "\n",
        "\n",
        "\n",
        "- Kolom price dan freight_value, sedang untuk shipping_limit_date sudah berubah dari object menjadi datetime64[ns]"
      ]
    },
    {
      "cell_type": "code",
      "execution_count": 25,
      "metadata": {
        "colab": {
          "base_uri": "https://localhost:8080/"
        },
        "id": "6ZJUDkLcwFrX",
        "outputId": "ca3c1b3f-cb60-4d3f-fba6-b33b5281b5e4"
      },
      "outputs": [
        {
          "name": "stdout",
          "output_type": "stream",
          "text": [
            "<class 'pandas.core.frame.DataFrame'>\n",
            "RangeIndex: 112650 entries, 0 to 112649\n",
            "Data columns (total 7 columns):\n",
            " #   Column               Non-Null Count   Dtype         \n",
            "---  ------               --------------   -----         \n",
            " 0   order_id             112650 non-null  object        \n",
            " 1   order_item_id        112650 non-null  int64         \n",
            " 2   product_id           112650 non-null  object        \n",
            " 3   seller_id            112650 non-null  object        \n",
            " 4   shipping_limit_date  112650 non-null  datetime64[ns]\n",
            " 5   price                112650 non-null  float64       \n",
            " 6   freight_value        112650 non-null  float64       \n",
            "dtypes: datetime64[ns](1), float64(2), int64(1), object(3)\n",
            "memory usage: 6.0+ MB\n",
            "None\n"
          ]
        }
      ],
      "source": [
        "# Mengonversi kolom shipping_limit_date ke tipe datetime\n",
        "order_items_df['shipping_limit_date'] = pd.to_datetime(order_items_df['shipping_limit_date'], errors='coerce')\n",
        "\n",
        "# Memeriksa hasil perubahan tipe data\n",
        "print(order_items_df.info())"
      ]
    },
    {
      "cell_type": "markdown",
      "metadata": {},
      "source": [
        "Informasi Column dan Tipe Data :\n",
        "- Mengonversi kolom shipping_limit_date ke format datetime agar bisa dianalisis lebih lanjut.\n",
        "- Setelah konversi, tidak ada data yang hilang, sehingga seluruh 112.650 entri valid.\n",
        "- Dengan format datetime, analisis seperti menghitung keterlambatan pengiriman, tren pesanan, dan filtering data berdasarkan waktu bisa dilakukan."
      ]
    },
    {
      "cell_type": "code",
      "execution_count": 26,
      "metadata": {
        "colab": {
          "base_uri": "https://localhost:8080/",
          "height": 303
        },
        "id": "bzpy8SfASXcJ",
        "outputId": "69edabaf-ce19-4c25-f315-d0b8e166bda4"
      },
      "outputs": [
        {
          "data": {
            "text/plain": [
              "order_id               0\n",
              "order_item_id          0\n",
              "product_id             0\n",
              "seller_id              0\n",
              "shipping_limit_date    0\n",
              "price                  0\n",
              "freight_value          0\n",
              "dtype: int64"
            ]
          },
          "execution_count": 26,
          "metadata": {},
          "output_type": "execute_result"
        }
      ],
      "source": [
        "# prompt: order_items_df.isna().sum()\n",
        "\n",
        "order_items_df.isna().sum()"
      ]
    },
    {
      "cell_type": "markdown",
      "metadata": {
        "id": "R5GMAIYDcDhu"
      },
      "source": [
        "Missing Values:\n",
        "\n",
        "- Tidak ada missing values di dalam dataset ini. Semua kolom terisi penuh dengan nilai yang valid."
      ]
    },
    {
      "cell_type": "code",
      "execution_count": 27,
      "metadata": {
        "colab": {
          "base_uri": "https://localhost:8080/"
        },
        "id": "NyzVzu-CSdxf",
        "outputId": "5cd4b008-9505-4bcc-acaf-24f5c41eaff4"
      },
      "outputs": [
        {
          "name": "stdout",
          "output_type": "stream",
          "text": [
            "Jumlah duplikasi:  0\n"
          ]
        }
      ],
      "source": [
        "# prompt: print(\"Jumlah duplikasi: \", order_items_df.duplicated().sum())\n",
        "\n",
        "print(\"Jumlah duplikasi: \", order_items_df.duplicated().sum())"
      ]
    },
    {
      "cell_type": "markdown",
      "metadata": {
        "id": "vdoLp8NmcGfN"
      },
      "source": [
        "Duplikasi Data:\n",
        "\n",
        "- Tidak ada duplikasi data ditemukan di dalam dataset ini (Jumlah duplikasi: 0)."
      ]
    },
    {
      "cell_type": "code",
      "execution_count": 28,
      "metadata": {
        "colab": {
          "base_uri": "https://localhost:8080/",
          "height": 429
        },
        "id": "xnLmazK9SmAl",
        "outputId": "e91f1a79-2d18-4805-c490-67a6dcb2be2e"
      },
      "outputs": [
        {
          "data": {
            "text/html": [
              "<div>\n",
              "<style scoped>\n",
              "    .dataframe tbody tr th:only-of-type {\n",
              "        vertical-align: middle;\n",
              "    }\n",
              "\n",
              "    .dataframe tbody tr th {\n",
              "        vertical-align: top;\n",
              "    }\n",
              "\n",
              "    .dataframe thead th {\n",
              "        text-align: right;\n",
              "    }\n",
              "</style>\n",
              "<table border=\"1\" class=\"dataframe\">\n",
              "  <thead>\n",
              "    <tr style=\"text-align: right;\">\n",
              "      <th></th>\n",
              "      <th>order_id</th>\n",
              "      <th>order_item_id</th>\n",
              "      <th>product_id</th>\n",
              "      <th>seller_id</th>\n",
              "      <th>shipping_limit_date</th>\n",
              "      <th>price</th>\n",
              "      <th>freight_value</th>\n",
              "    </tr>\n",
              "  </thead>\n",
              "  <tbody>\n",
              "    <tr>\n",
              "      <th>count</th>\n",
              "      <td>112650</td>\n",
              "      <td>112650.000000</td>\n",
              "      <td>112650</td>\n",
              "      <td>112650</td>\n",
              "      <td>112650</td>\n",
              "      <td>112650.000000</td>\n",
              "      <td>112650.000000</td>\n",
              "    </tr>\n",
              "    <tr>\n",
              "      <th>unique</th>\n",
              "      <td>98666</td>\n",
              "      <td>NaN</td>\n",
              "      <td>32951</td>\n",
              "      <td>3095</td>\n",
              "      <td>NaN</td>\n",
              "      <td>NaN</td>\n",
              "      <td>NaN</td>\n",
              "    </tr>\n",
              "    <tr>\n",
              "      <th>top</th>\n",
              "      <td>8272b63d03f5f79c56e9e4120aec44ef</td>\n",
              "      <td>NaN</td>\n",
              "      <td>aca2eb7d00ea1a7b8ebd4e68314663af</td>\n",
              "      <td>6560211a19b47992c3666cc44a7e94c0</td>\n",
              "      <td>NaN</td>\n",
              "      <td>NaN</td>\n",
              "      <td>NaN</td>\n",
              "    </tr>\n",
              "    <tr>\n",
              "      <th>freq</th>\n",
              "      <td>21</td>\n",
              "      <td>NaN</td>\n",
              "      <td>527</td>\n",
              "      <td>2033</td>\n",
              "      <td>NaN</td>\n",
              "      <td>NaN</td>\n",
              "      <td>NaN</td>\n",
              "    </tr>\n",
              "    <tr>\n",
              "      <th>mean</th>\n",
              "      <td>NaN</td>\n",
              "      <td>1.197834</td>\n",
              "      <td>NaN</td>\n",
              "      <td>NaN</td>\n",
              "      <td>2018-01-07 15:36:52.192685312</td>\n",
              "      <td>120.653739</td>\n",
              "      <td>19.990320</td>\n",
              "    </tr>\n",
              "    <tr>\n",
              "      <th>min</th>\n",
              "      <td>NaN</td>\n",
              "      <td>1.000000</td>\n",
              "      <td>NaN</td>\n",
              "      <td>NaN</td>\n",
              "      <td>2016-09-19 00:15:34</td>\n",
              "      <td>0.850000</td>\n",
              "      <td>0.000000</td>\n",
              "    </tr>\n",
              "    <tr>\n",
              "      <th>25%</th>\n",
              "      <td>NaN</td>\n",
              "      <td>1.000000</td>\n",
              "      <td>NaN</td>\n",
              "      <td>NaN</td>\n",
              "      <td>2017-09-20 20:57:27.500000</td>\n",
              "      <td>39.900000</td>\n",
              "      <td>13.080000</td>\n",
              "    </tr>\n",
              "    <tr>\n",
              "      <th>50%</th>\n",
              "      <td>NaN</td>\n",
              "      <td>1.000000</td>\n",
              "      <td>NaN</td>\n",
              "      <td>NaN</td>\n",
              "      <td>2018-01-26 13:59:35</td>\n",
              "      <td>74.990000</td>\n",
              "      <td>16.260000</td>\n",
              "    </tr>\n",
              "    <tr>\n",
              "      <th>75%</th>\n",
              "      <td>NaN</td>\n",
              "      <td>1.000000</td>\n",
              "      <td>NaN</td>\n",
              "      <td>NaN</td>\n",
              "      <td>2018-05-10 14:34:00.750000128</td>\n",
              "      <td>134.900000</td>\n",
              "      <td>21.150000</td>\n",
              "    </tr>\n",
              "    <tr>\n",
              "      <th>max</th>\n",
              "      <td>NaN</td>\n",
              "      <td>21.000000</td>\n",
              "      <td>NaN</td>\n",
              "      <td>NaN</td>\n",
              "      <td>2020-04-09 22:35:08</td>\n",
              "      <td>6735.000000</td>\n",
              "      <td>409.680000</td>\n",
              "    </tr>\n",
              "    <tr>\n",
              "      <th>std</th>\n",
              "      <td>NaN</td>\n",
              "      <td>0.705124</td>\n",
              "      <td>NaN</td>\n",
              "      <td>NaN</td>\n",
              "      <td>NaN</td>\n",
              "      <td>183.633928</td>\n",
              "      <td>15.806405</td>\n",
              "    </tr>\n",
              "  </tbody>\n",
              "</table>\n",
              "</div>"
            ],
            "text/plain": [
              "                                order_id  order_item_id  \\\n",
              "count                             112650  112650.000000   \n",
              "unique                             98666            NaN   \n",
              "top     8272b63d03f5f79c56e9e4120aec44ef            NaN   \n",
              "freq                                  21            NaN   \n",
              "mean                                 NaN       1.197834   \n",
              "min                                  NaN       1.000000   \n",
              "25%                                  NaN       1.000000   \n",
              "50%                                  NaN       1.000000   \n",
              "75%                                  NaN       1.000000   \n",
              "max                                  NaN      21.000000   \n",
              "std                                  NaN       0.705124   \n",
              "\n",
              "                              product_id                         seller_id  \\\n",
              "count                             112650                            112650   \n",
              "unique                             32951                              3095   \n",
              "top     aca2eb7d00ea1a7b8ebd4e68314663af  6560211a19b47992c3666cc44a7e94c0   \n",
              "freq                                 527                              2033   \n",
              "mean                                 NaN                               NaN   \n",
              "min                                  NaN                               NaN   \n",
              "25%                                  NaN                               NaN   \n",
              "50%                                  NaN                               NaN   \n",
              "75%                                  NaN                               NaN   \n",
              "max                                  NaN                               NaN   \n",
              "std                                  NaN                               NaN   \n",
              "\n",
              "                  shipping_limit_date          price  freight_value  \n",
              "count                          112650  112650.000000  112650.000000  \n",
              "unique                            NaN            NaN            NaN  \n",
              "top                               NaN            NaN            NaN  \n",
              "freq                              NaN            NaN            NaN  \n",
              "mean    2018-01-07 15:36:52.192685312     120.653739      19.990320  \n",
              "min               2016-09-19 00:15:34       0.850000       0.000000  \n",
              "25%        2017-09-20 20:57:27.500000      39.900000      13.080000  \n",
              "50%               2018-01-26 13:59:35      74.990000      16.260000  \n",
              "75%     2018-05-10 14:34:00.750000128     134.900000      21.150000  \n",
              "max               2020-04-09 22:35:08    6735.000000     409.680000  \n",
              "std                               NaN     183.633928      15.806405  "
            ]
          },
          "execution_count": 28,
          "metadata": {},
          "output_type": "execute_result"
        }
      ],
      "source": [
        "# prompt: order_items_df.describe(include=('all'))\n",
        "\n",
        "order_items_df.describe(include='all')\n"
      ]
    },
    {
      "cell_type": "markdown",
      "metadata": {
        "id": "VjlM6KTwcJS-"
      },
      "source": [
        "Statistik Deskriptif:\n",
        "\n",
        "- Kolom price menunjukkan variasi harga produk yang dipesan.\n",
        "\n",
        "- Kolom freight_value memberikan informasi tentang biaya pengiriman untuk setiap item pesanan."
      ]
    },
    {
      "cell_type": "markdown",
      "metadata": {
        "id": "kaJ1TQfaSw4U"
      },
      "source": [
        "**Insight: Data order_items_df**\n",
        "- Data pesanan di order_items_df bersih dan lengkap, tanpa adanya missing values atau duplikasi.\n",
        "\n",
        "- Informasi dalam dataset ini sangat berguna untuk menganalisis performa penjualan produk, biaya pengiriman, dan detail setiap item pesanan yang dilakukan."
      ]
    },
    {
      "cell_type": "markdown",
      "metadata": {
        "id": "Eh2bzj-uS5Rk"
      },
      "source": [
        "4. Data order_payment_df"
      ]
    },
    {
      "cell_type": "code",
      "execution_count": 29,
      "metadata": {
        "colab": {
          "base_uri": "https://localhost:8080/"
        },
        "id": "8GrBrEdpTG8q",
        "outputId": "7d37fc2a-d8f0-4af8-8a02-4f4961ffd6f2"
      },
      "outputs": [
        {
          "name": "stdout",
          "output_type": "stream",
          "text": [
            "<class 'pandas.core.frame.DataFrame'>\n",
            "RangeIndex: 103886 entries, 0 to 103885\n",
            "Data columns (total 5 columns):\n",
            " #   Column                Non-Null Count   Dtype  \n",
            "---  ------                --------------   -----  \n",
            " 0   order_id              103886 non-null  object \n",
            " 1   payment_sequential    103886 non-null  int64  \n",
            " 2   payment_type          103886 non-null  object \n",
            " 3   payment_installments  103886 non-null  int64  \n",
            " 4   payment_value         103886 non-null  float64\n",
            "dtypes: float64(1), int64(2), object(2)\n",
            "memory usage: 4.0+ MB\n"
          ]
        }
      ],
      "source": [
        "# prompt: order_payments_df.info()\n",
        "\n",
        "order_payments_df.info()\n"
      ]
    },
    {
      "cell_type": "markdown",
      "metadata": {
        "id": "rOqBXuhMcdMa"
      },
      "source": [
        "Informasi Kolom dan Tipe Data:\n",
        "\n",
        "- order_payments_df memiliki 103,886 baris dan 5 kolom.\n",
        "\n",
        "- Kolom terdiri dari order_id, payment_sequential, payment_type, payment_installments, dan payment_value.\n",
        "\n",
        "- Kolom payment_value bertipe float64, kolom payment_sequential dan payment_installments bertipe int64, sedangkan kolom lainnya bertipe object."
      ]
    },
    {
      "cell_type": "code",
      "execution_count": 30,
      "metadata": {
        "colab": {
          "base_uri": "https://localhost:8080/",
          "height": 241
        },
        "id": "YV1lXCufTNVL",
        "outputId": "2ea4d639-dd52-4007-a781-af890af07a47"
      },
      "outputs": [
        {
          "data": {
            "text/plain": [
              "order_id                0\n",
              "payment_sequential      0\n",
              "payment_type            0\n",
              "payment_installments    0\n",
              "payment_value           0\n",
              "dtype: int64"
            ]
          },
          "execution_count": 30,
          "metadata": {},
          "output_type": "execute_result"
        }
      ],
      "source": [
        "# prompt: order_payments_df.isna().sum()\n",
        "\n",
        "order_payments_df.isna().sum()"
      ]
    },
    {
      "cell_type": "markdown",
      "metadata": {
        "id": "94wq16KVchDs"
      },
      "source": [
        "Missing Values:\n",
        "\n",
        "- Tidak ada missing values di dalam dataset ini. Semua kolom terisi penuh dengan nilai yang valid."
      ]
    },
    {
      "cell_type": "code",
      "execution_count": 31,
      "metadata": {
        "colab": {
          "base_uri": "https://localhost:8080/"
        },
        "id": "P_Fe26NTTVlZ",
        "outputId": "755cc21d-e51f-4f97-c4d3-798ef3161e6c"
      },
      "outputs": [
        {
          "name": "stdout",
          "output_type": "stream",
          "text": [
            "Jumlah duplikasi:  0\n"
          ]
        }
      ],
      "source": [
        "# prompt: print(\"Jumlah duplikasi: \", order_payments_df.duplicated().sum())\n",
        "\n",
        "print(\"Jumlah duplikasi: \", order_payments_df.duplicated().sum())"
      ]
    },
    {
      "cell_type": "markdown",
      "metadata": {
        "id": "fkFJLMRRclxO"
      },
      "source": [
        "Duplikasi Data:\n",
        "\n",
        "- Tidak ada duplikasi data ditemukan di dalam dataset ini (Jumlah duplikasi: 0)."
      ]
    },
    {
      "cell_type": "code",
      "execution_count": 32,
      "metadata": {
        "colab": {
          "base_uri": "https://localhost:8080/",
          "height": 394
        },
        "id": "dRs3jhPATaHt",
        "outputId": "9349be25-491b-4dd5-9d53-8436b91d36ad"
      },
      "outputs": [
        {
          "data": {
            "text/html": [
              "<div>\n",
              "<style scoped>\n",
              "    .dataframe tbody tr th:only-of-type {\n",
              "        vertical-align: middle;\n",
              "    }\n",
              "\n",
              "    .dataframe tbody tr th {\n",
              "        vertical-align: top;\n",
              "    }\n",
              "\n",
              "    .dataframe thead th {\n",
              "        text-align: right;\n",
              "    }\n",
              "</style>\n",
              "<table border=\"1\" class=\"dataframe\">\n",
              "  <thead>\n",
              "    <tr style=\"text-align: right;\">\n",
              "      <th></th>\n",
              "      <th>order_id</th>\n",
              "      <th>payment_sequential</th>\n",
              "      <th>payment_type</th>\n",
              "      <th>payment_installments</th>\n",
              "      <th>payment_value</th>\n",
              "    </tr>\n",
              "  </thead>\n",
              "  <tbody>\n",
              "    <tr>\n",
              "      <th>count</th>\n",
              "      <td>103886</td>\n",
              "      <td>103886.000000</td>\n",
              "      <td>103886</td>\n",
              "      <td>103886.000000</td>\n",
              "      <td>103886.000000</td>\n",
              "    </tr>\n",
              "    <tr>\n",
              "      <th>unique</th>\n",
              "      <td>99440</td>\n",
              "      <td>NaN</td>\n",
              "      <td>5</td>\n",
              "      <td>NaN</td>\n",
              "      <td>NaN</td>\n",
              "    </tr>\n",
              "    <tr>\n",
              "      <th>top</th>\n",
              "      <td>fa65dad1b0e818e3ccc5cb0e39231352</td>\n",
              "      <td>NaN</td>\n",
              "      <td>credit_card</td>\n",
              "      <td>NaN</td>\n",
              "      <td>NaN</td>\n",
              "    </tr>\n",
              "    <tr>\n",
              "      <th>freq</th>\n",
              "      <td>29</td>\n",
              "      <td>NaN</td>\n",
              "      <td>76795</td>\n",
              "      <td>NaN</td>\n",
              "      <td>NaN</td>\n",
              "    </tr>\n",
              "    <tr>\n",
              "      <th>mean</th>\n",
              "      <td>NaN</td>\n",
              "      <td>1.092679</td>\n",
              "      <td>NaN</td>\n",
              "      <td>2.853349</td>\n",
              "      <td>154.100380</td>\n",
              "    </tr>\n",
              "    <tr>\n",
              "      <th>std</th>\n",
              "      <td>NaN</td>\n",
              "      <td>0.706584</td>\n",
              "      <td>NaN</td>\n",
              "      <td>2.687051</td>\n",
              "      <td>217.494064</td>\n",
              "    </tr>\n",
              "    <tr>\n",
              "      <th>min</th>\n",
              "      <td>NaN</td>\n",
              "      <td>1.000000</td>\n",
              "      <td>NaN</td>\n",
              "      <td>0.000000</td>\n",
              "      <td>0.000000</td>\n",
              "    </tr>\n",
              "    <tr>\n",
              "      <th>25%</th>\n",
              "      <td>NaN</td>\n",
              "      <td>1.000000</td>\n",
              "      <td>NaN</td>\n",
              "      <td>1.000000</td>\n",
              "      <td>56.790000</td>\n",
              "    </tr>\n",
              "    <tr>\n",
              "      <th>50%</th>\n",
              "      <td>NaN</td>\n",
              "      <td>1.000000</td>\n",
              "      <td>NaN</td>\n",
              "      <td>1.000000</td>\n",
              "      <td>100.000000</td>\n",
              "    </tr>\n",
              "    <tr>\n",
              "      <th>75%</th>\n",
              "      <td>NaN</td>\n",
              "      <td>1.000000</td>\n",
              "      <td>NaN</td>\n",
              "      <td>4.000000</td>\n",
              "      <td>171.837500</td>\n",
              "    </tr>\n",
              "    <tr>\n",
              "      <th>max</th>\n",
              "      <td>NaN</td>\n",
              "      <td>29.000000</td>\n",
              "      <td>NaN</td>\n",
              "      <td>24.000000</td>\n",
              "      <td>13664.080000</td>\n",
              "    </tr>\n",
              "  </tbody>\n",
              "</table>\n",
              "</div>"
            ],
            "text/plain": [
              "                                order_id  payment_sequential payment_type  \\\n",
              "count                             103886       103886.000000       103886   \n",
              "unique                             99440                 NaN            5   \n",
              "top     fa65dad1b0e818e3ccc5cb0e39231352                 NaN  credit_card   \n",
              "freq                                  29                 NaN        76795   \n",
              "mean                                 NaN            1.092679          NaN   \n",
              "std                                  NaN            0.706584          NaN   \n",
              "min                                  NaN            1.000000          NaN   \n",
              "25%                                  NaN            1.000000          NaN   \n",
              "50%                                  NaN            1.000000          NaN   \n",
              "75%                                  NaN            1.000000          NaN   \n",
              "max                                  NaN           29.000000          NaN   \n",
              "\n",
              "        payment_installments  payment_value  \n",
              "count          103886.000000  103886.000000  \n",
              "unique                   NaN            NaN  \n",
              "top                      NaN            NaN  \n",
              "freq                     NaN            NaN  \n",
              "mean                2.853349     154.100380  \n",
              "std                 2.687051     217.494064  \n",
              "min                 0.000000       0.000000  \n",
              "25%                 1.000000      56.790000  \n",
              "50%                 1.000000     100.000000  \n",
              "75%                 4.000000     171.837500  \n",
              "max                24.000000   13664.080000  "
            ]
          },
          "execution_count": 32,
          "metadata": {},
          "output_type": "execute_result"
        }
      ],
      "source": [
        "# prompt: order_payments_df.describe(include=('all'))\n",
        "\n",
        "order_payments_df.describe(include='all')\n"
      ]
    },
    {
      "cell_type": "markdown",
      "metadata": {
        "id": "zgQYt_oVcoep"
      },
      "source": [
        "Statistik Deskriptif:\n",
        "\n",
        "- Kolom payment_value menunjukkan variasi nilai pembayaran yang dilakukan pelanggan.\n",
        "\n",
        "- Kolom payment_type menyediakan informasi tentang berbagai jenis metode pembayaran yang digunakan, seperti kartu kredit, debit, dan lainnya.\n",
        "\n",
        "- Kolom payment_installments mengindikasikan jumlah cicilan yang dipilih oleh pelanggan."
      ]
    },
    {
      "cell_type": "markdown",
      "metadata": {
        "id": "v3eFFhzaTep9"
      },
      "source": [
        "**Insight: Data order_payment_df**\n",
        "- Data pembayaran di order_payments_df bersih dan lengkap, tanpa adanya missing values atau duplikasi.\n",
        "\n",
        "- Informasi dalam dataset ini sangat berguna untuk menganalisis preferensi metode pembayaran, jumlah cicilan, dan nilai transaksi rata-rata.\n",
        "\n",
        "- Dataset ini mendukung pemahaman yang lebih baik tentang perilaku pembayaran pelanggan dan membantu dalam merancang strategi pembayaran yang lebih efektif."
      ]
    },
    {
      "cell_type": "markdown",
      "metadata": {
        "id": "URfhRlzITxf5"
      },
      "source": [
        "5. Data order_reviews_df"
      ]
    },
    {
      "cell_type": "code",
      "execution_count": 33,
      "metadata": {
        "colab": {
          "base_uri": "https://localhost:8080/"
        },
        "id": "g1h7akscT1mb",
        "outputId": "d28684f1-4c91-412b-a7b2-2a51bf2a7a32"
      },
      "outputs": [
        {
          "name": "stdout",
          "output_type": "stream",
          "text": [
            "<class 'pandas.core.frame.DataFrame'>\n",
            "RangeIndex: 99224 entries, 0 to 99223\n",
            "Data columns (total 7 columns):\n",
            " #   Column                   Non-Null Count  Dtype \n",
            "---  ------                   --------------  ----- \n",
            " 0   review_id                99224 non-null  object\n",
            " 1   order_id                 99224 non-null  object\n",
            " 2   review_score             99224 non-null  int64 \n",
            " 3   review_comment_title     11568 non-null  object\n",
            " 4   review_comment_message   40977 non-null  object\n",
            " 5   review_creation_date     99224 non-null  object\n",
            " 6   review_answer_timestamp  99224 non-null  object\n",
            "dtypes: int64(1), object(6)\n",
            "memory usage: 5.3+ MB\n"
          ]
        }
      ],
      "source": [
        "# prompt: order_reviews_df.info()\n",
        "\n",
        "order_reviews_df.info()\n"
      ]
    },
    {
      "cell_type": "markdown",
      "metadata": {
        "id": "192fsyhidENW"
      },
      "source": [
        "Informasi Kolom dan Tipe Data:\n",
        "\n",
        "- order_reviews_df memiliki 99,224 baris dan 7 kolom.\n",
        "\n",
        "- Kolom terdiri dari review_id, order_id, review_score, review_comment_title, review_comment_message, review_creation_date, dan review_answer_timestamp. seharusnya **review_creation_date** dan **review_answer_timestamp** dipresentasikan **date** bukan **object**. berikut perbaikannya :\n",
        "\n",
        "```\n",
        "# Ini diformat sebagai kode\n",
        "# Mengonversi kolom waktu ke tipe datetime\n",
        "order_reviews_df['review_creation_date'] = pd.to_datetime(order_reviews_df['review_creation_date'], errors='coerce')\n",
        "order_reviews_df['review_answer_timestamp'] = pd.to_datetime(order_reviews_df['review_answer_timestamp'], errors='coerce')\n",
        "\n",
        "# Memeriksa hasil perubahan tipe data\n",
        "print(order_reviews_df.info())\n",
        "```\n",
        "\n",
        "\n",
        "\n",
        "- Kolom review_score bertipe int64, sedangkan kolom lainnya bertipe object yang seharusnya date telah diperbaiki."
      ]
    },
    {
      "cell_type": "code",
      "execution_count": 34,
      "metadata": {
        "colab": {
          "base_uri": "https://localhost:8080/"
        },
        "id": "Tko5Ij6awa7K",
        "outputId": "3f41f5a6-c2c1-4007-8e56-a4230208ddb3"
      },
      "outputs": [
        {
          "name": "stdout",
          "output_type": "stream",
          "text": [
            "<class 'pandas.core.frame.DataFrame'>\n",
            "RangeIndex: 99224 entries, 0 to 99223\n",
            "Data columns (total 7 columns):\n",
            " #   Column                   Non-Null Count  Dtype         \n",
            "---  ------                   --------------  -----         \n",
            " 0   review_id                99224 non-null  object        \n",
            " 1   order_id                 99224 non-null  object        \n",
            " 2   review_score             99224 non-null  int64         \n",
            " 3   review_comment_title     11568 non-null  object        \n",
            " 4   review_comment_message   40977 non-null  object        \n",
            " 5   review_creation_date     99224 non-null  datetime64[ns]\n",
            " 6   review_answer_timestamp  99224 non-null  datetime64[ns]\n",
            "dtypes: datetime64[ns](2), int64(1), object(4)\n",
            "memory usage: 5.3+ MB\n",
            "None\n"
          ]
        }
      ],
      "source": [
        "# Mengonversi kolom waktu ke tipe datetime\n",
        "order_reviews_df['review_creation_date'] = pd.to_datetime(order_reviews_df['review_creation_date'], errors='coerce')\n",
        "order_reviews_df['review_answer_timestamp'] = pd.to_datetime(order_reviews_df['review_answer_timestamp'], errors='coerce')\n",
        "\n",
        "# Memeriksa hasil perubahan tipe data\n",
        "print(order_reviews_df.info())"
      ]
    },
    {
      "cell_type": "markdown",
      "metadata": {},
      "source": [
        "Analisis Data\n",
        "- Kolom review_id (object), order_id (object), dan review_score (int64) selalu terisi (100% Non-Null Count).\n",
        "- Kolom review_comment_title (object) hanya terisi 11,7% dari total data (banyak pelanggan tidak mengisi judul ulasan).\n",
        "- Kolom review_comment_message (object) memiliki lebih banyak data (41,3%), berarti beberapa pelanggan hanya memberikan komentar tanpa judul.\n",
        "- Kolom review_creation_date dan review_answer_timestamp sudah dalam format datetime64[ns], sehingga bisa digunakan untuk analisis waktu respon penjual.\n",
        "\n",
        "Insight\n",
        "- ✅ Mayoritas ulasan hanya memberikan skor tanpa komentar.\n",
        "- ✅ Hanya 41,3% ulasan memiliki isi komentar, dan lebih sedikit lagi (11,7%) yang memiliki judul.\n",
        "- ✅ Bisa dianalisis apakah ulasan bintang rendah lebih sering memiliki komentar dibanding ulasan tinggi.\n",
        "- ✅ Data tanggal memungkinkan kita menghitung waktu rata-rata respon penjual terhadap ulasan pelanggan."
      ]
    },
    {
      "cell_type": "code",
      "execution_count": 35,
      "metadata": {
        "colab": {
          "base_uri": "https://localhost:8080/",
          "height": 303
        },
        "id": "8tGjLpHjT7Qj",
        "outputId": "bfb7a91e-cb2a-4e3b-9aa7-7f08e22c0976"
      },
      "outputs": [
        {
          "data": {
            "text/plain": [
              "review_id                      0\n",
              "order_id                       0\n",
              "review_score                   0\n",
              "review_comment_title       87656\n",
              "review_comment_message     58247\n",
              "review_creation_date           0\n",
              "review_answer_timestamp        0\n",
              "dtype: int64"
            ]
          },
          "execution_count": 35,
          "metadata": {},
          "output_type": "execute_result"
        }
      ],
      "source": [
        "# prompt: order_reviews_df.isna().sum()\n",
        "\n",
        "order_reviews_df.isna().sum()"
      ]
    },
    {
      "cell_type": "markdown",
      "metadata": {
        "id": "cY7-9whgdMdq"
      },
      "source": [
        "Missing Values:\n",
        "\n",
        "- Kolom review_comment_title dan review_comment_message memiliki banyak missing values. Hanya 87,656 baris yang terisi untuk review_comment_title dan 58,247 baris untuk review_comment_message.\n",
        "\n",
        "- Kolom lainnya tidak memiliki missing values dan terisi penuh dengan nilai yang valid."
      ]
    },
    {
      "cell_type": "code",
      "execution_count": 36,
      "metadata": {
        "colab": {
          "base_uri": "https://localhost:8080/"
        },
        "id": "wvRxKUrMUEVZ",
        "outputId": "08ab7f51-d637-4bc7-8e71-32ea879f6056"
      },
      "outputs": [
        {
          "name": "stdout",
          "output_type": "stream",
          "text": [
            "Jumlah duplikasi:  0\n"
          ]
        }
      ],
      "source": [
        "# prompt: print(\"Jumlah duplikasi: \", order_reviews_df.duplicated().sum())\n",
        "\n",
        "print(\"Jumlah duplikasi: \", order_reviews_df.duplicated().sum())"
      ]
    },
    {
      "cell_type": "markdown",
      "metadata": {
        "id": "p5Kn1IlPdRI0"
      },
      "source": [
        "Duplikasi Data:\n",
        "\n",
        "- Tidak ada duplikasi data ditemukan di dalam dataset ini (Jumlah duplikasi: 0)."
      ]
    },
    {
      "cell_type": "code",
      "execution_count": 37,
      "metadata": {
        "colab": {
          "base_uri": "https://localhost:8080/",
          "height": 483
        },
        "id": "jcOdkOxwUGab",
        "outputId": "a792a402-acf8-449e-92cd-593364b7d72d"
      },
      "outputs": [
        {
          "data": {
            "text/html": [
              "<div>\n",
              "<style scoped>\n",
              "    .dataframe tbody tr th:only-of-type {\n",
              "        vertical-align: middle;\n",
              "    }\n",
              "\n",
              "    .dataframe tbody tr th {\n",
              "        vertical-align: top;\n",
              "    }\n",
              "\n",
              "    .dataframe thead th {\n",
              "        text-align: right;\n",
              "    }\n",
              "</style>\n",
              "<table border=\"1\" class=\"dataframe\">\n",
              "  <thead>\n",
              "    <tr style=\"text-align: right;\">\n",
              "      <th></th>\n",
              "      <th>review_id</th>\n",
              "      <th>order_id</th>\n",
              "      <th>review_score</th>\n",
              "      <th>review_comment_title</th>\n",
              "      <th>review_comment_message</th>\n",
              "      <th>review_creation_date</th>\n",
              "      <th>review_answer_timestamp</th>\n",
              "    </tr>\n",
              "  </thead>\n",
              "  <tbody>\n",
              "    <tr>\n",
              "      <th>count</th>\n",
              "      <td>99224</td>\n",
              "      <td>99224</td>\n",
              "      <td>99224.000000</td>\n",
              "      <td>11568</td>\n",
              "      <td>40977</td>\n",
              "      <td>99224</td>\n",
              "      <td>99224</td>\n",
              "    </tr>\n",
              "    <tr>\n",
              "      <th>unique</th>\n",
              "      <td>98410</td>\n",
              "      <td>98673</td>\n",
              "      <td>NaN</td>\n",
              "      <td>4527</td>\n",
              "      <td>36159</td>\n",
              "      <td>NaN</td>\n",
              "      <td>NaN</td>\n",
              "    </tr>\n",
              "    <tr>\n",
              "      <th>top</th>\n",
              "      <td>08528f70f579f0c830189efc523d2182</td>\n",
              "      <td>df56136b8031ecd28e200bb18e6ddb2e</td>\n",
              "      <td>NaN</td>\n",
              "      <td>Recomendo</td>\n",
              "      <td>Muito bom</td>\n",
              "      <td>NaN</td>\n",
              "      <td>NaN</td>\n",
              "    </tr>\n",
              "    <tr>\n",
              "      <th>freq</th>\n",
              "      <td>3</td>\n",
              "      <td>3</td>\n",
              "      <td>NaN</td>\n",
              "      <td>423</td>\n",
              "      <td>230</td>\n",
              "      <td>NaN</td>\n",
              "      <td>NaN</td>\n",
              "    </tr>\n",
              "    <tr>\n",
              "      <th>mean</th>\n",
              "      <td>NaN</td>\n",
              "      <td>NaN</td>\n",
              "      <td>4.086421</td>\n",
              "      <td>NaN</td>\n",
              "      <td>NaN</td>\n",
              "      <td>2018-01-12 20:49:23.948238336</td>\n",
              "      <td>2018-01-16 00:23:56.977938688</td>\n",
              "    </tr>\n",
              "    <tr>\n",
              "      <th>min</th>\n",
              "      <td>NaN</td>\n",
              "      <td>NaN</td>\n",
              "      <td>1.000000</td>\n",
              "      <td>NaN</td>\n",
              "      <td>NaN</td>\n",
              "      <td>2016-10-02 00:00:00</td>\n",
              "      <td>2016-10-07 18:32:28</td>\n",
              "    </tr>\n",
              "    <tr>\n",
              "      <th>25%</th>\n",
              "      <td>NaN</td>\n",
              "      <td>NaN</td>\n",
              "      <td>4.000000</td>\n",
              "      <td>NaN</td>\n",
              "      <td>NaN</td>\n",
              "      <td>2017-09-23 00:00:00</td>\n",
              "      <td>2017-09-27 01:53:27.249999872</td>\n",
              "    </tr>\n",
              "    <tr>\n",
              "      <th>50%</th>\n",
              "      <td>NaN</td>\n",
              "      <td>NaN</td>\n",
              "      <td>5.000000</td>\n",
              "      <td>NaN</td>\n",
              "      <td>NaN</td>\n",
              "      <td>2018-02-02 00:00:00</td>\n",
              "      <td>2018-02-04 22:41:47.500000</td>\n",
              "    </tr>\n",
              "    <tr>\n",
              "      <th>75%</th>\n",
              "      <td>NaN</td>\n",
              "      <td>NaN</td>\n",
              "      <td>5.000000</td>\n",
              "      <td>NaN</td>\n",
              "      <td>NaN</td>\n",
              "      <td>2018-05-16 00:00:00</td>\n",
              "      <td>2018-05-20 12:11:21.500000</td>\n",
              "    </tr>\n",
              "    <tr>\n",
              "      <th>max</th>\n",
              "      <td>NaN</td>\n",
              "      <td>NaN</td>\n",
              "      <td>5.000000</td>\n",
              "      <td>NaN</td>\n",
              "      <td>NaN</td>\n",
              "      <td>2018-08-31 00:00:00</td>\n",
              "      <td>2018-10-29 12:27:35</td>\n",
              "    </tr>\n",
              "    <tr>\n",
              "      <th>std</th>\n",
              "      <td>NaN</td>\n",
              "      <td>NaN</td>\n",
              "      <td>1.347579</td>\n",
              "      <td>NaN</td>\n",
              "      <td>NaN</td>\n",
              "      <td>NaN</td>\n",
              "      <td>NaN</td>\n",
              "    </tr>\n",
              "  </tbody>\n",
              "</table>\n",
              "</div>"
            ],
            "text/plain": [
              "                               review_id                          order_id  \\\n",
              "count                              99224                             99224   \n",
              "unique                             98410                             98673   \n",
              "top     08528f70f579f0c830189efc523d2182  df56136b8031ecd28e200bb18e6ddb2e   \n",
              "freq                                   3                                 3   \n",
              "mean                                 NaN                               NaN   \n",
              "min                                  NaN                               NaN   \n",
              "25%                                  NaN                               NaN   \n",
              "50%                                  NaN                               NaN   \n",
              "75%                                  NaN                               NaN   \n",
              "max                                  NaN                               NaN   \n",
              "std                                  NaN                               NaN   \n",
              "\n",
              "        review_score review_comment_title review_comment_message  \\\n",
              "count   99224.000000                11568                  40977   \n",
              "unique           NaN                 4527                  36159   \n",
              "top              NaN            Recomendo              Muito bom   \n",
              "freq             NaN                  423                    230   \n",
              "mean        4.086421                  NaN                    NaN   \n",
              "min         1.000000                  NaN                    NaN   \n",
              "25%         4.000000                  NaN                    NaN   \n",
              "50%         5.000000                  NaN                    NaN   \n",
              "75%         5.000000                  NaN                    NaN   \n",
              "max         5.000000                  NaN                    NaN   \n",
              "std         1.347579                  NaN                    NaN   \n",
              "\n",
              "                 review_creation_date        review_answer_timestamp  \n",
              "count                           99224                          99224  \n",
              "unique                            NaN                            NaN  \n",
              "top                               NaN                            NaN  \n",
              "freq                              NaN                            NaN  \n",
              "mean    2018-01-12 20:49:23.948238336  2018-01-16 00:23:56.977938688  \n",
              "min               2016-10-02 00:00:00            2016-10-07 18:32:28  \n",
              "25%               2017-09-23 00:00:00  2017-09-27 01:53:27.249999872  \n",
              "50%               2018-02-02 00:00:00     2018-02-04 22:41:47.500000  \n",
              "75%               2018-05-16 00:00:00     2018-05-20 12:11:21.500000  \n",
              "max               2018-08-31 00:00:00            2018-10-29 12:27:35  \n",
              "std                               NaN                            NaN  "
            ]
          },
          "execution_count": 37,
          "metadata": {},
          "output_type": "execute_result"
        }
      ],
      "source": [
        "# prompt: order_reviews_df.describe(include=('all'))\n",
        "\n",
        "order_reviews_df.describe(include='all')"
      ]
    },
    {
      "cell_type": "markdown",
      "metadata": {
        "id": "C-MsurgOdT6_"
      },
      "source": [
        "Statistik Deskriptif:\n",
        "\n",
        "- Kolom review_score menunjukkan variasi nilai ulasan yang diberikan oleh pelanggan, membantu dalam mengukur tingkat kepuasan mereka.\n",
        "\n",
        "- Kolom review_creation_date dan review_answer_timestamp memberikan informasi tentang kapan ulasan dibuat dan dijawab."
      ]
    },
    {
      "cell_type": "markdown",
      "metadata": {
        "id": "ZwidMog7WGPw"
      },
      "source": [
        "**Insight: Data order_payment_df**\n",
        "- Data ulasan di order_reviews_df bersih dari duplikasi, meskipun terdapat banyak missing values di kolom review_comment_title dan review_comment_message.\n",
        "\n",
        "- Informasi dalam dataset ini sangat berguna untuk menganalisis kepuasan pelanggan berdasarkan skor ulasan dan untuk memahami umpan balik pelanggan melalui komentar yang diberikan.\n",
        "\n",
        "- Analisis ini dapat digunakan untuk meningkatkan kualitas produk dan layanan dengan menanggapi feedback pelanggan secara tepat waktu."
      ]
    },
    {
      "cell_type": "markdown",
      "metadata": {
        "id": "QDwLttzXUJxV"
      },
      "source": [
        "6. Data orders_df"
      ]
    },
    {
      "cell_type": "code",
      "execution_count": 38,
      "metadata": {
        "colab": {
          "base_uri": "https://localhost:8080/"
        },
        "id": "sO4QpG7oUMOL",
        "outputId": "a7e33ed0-4a46-40ef-b8ee-482ae71c2a76"
      },
      "outputs": [
        {
          "name": "stdout",
          "output_type": "stream",
          "text": [
            "<class 'pandas.core.frame.DataFrame'>\n",
            "RangeIndex: 99441 entries, 0 to 99440\n",
            "Data columns (total 8 columns):\n",
            " #   Column                         Non-Null Count  Dtype \n",
            "---  ------                         --------------  ----- \n",
            " 0   order_id                       99441 non-null  object\n",
            " 1   customer_id                    99441 non-null  object\n",
            " 2   order_status                   99441 non-null  object\n",
            " 3   order_purchase_timestamp       99441 non-null  object\n",
            " 4   order_approved_at              99281 non-null  object\n",
            " 5   order_delivered_carrier_date   97658 non-null  object\n",
            " 6   order_delivered_customer_date  96476 non-null  object\n",
            " 7   order_estimated_delivery_date  99441 non-null  object\n",
            "dtypes: object(8)\n",
            "memory usage: 6.1+ MB\n"
          ]
        }
      ],
      "source": [
        "# prompt: orders_df.info()\n",
        "\n",
        "orders_df.info()\n"
      ]
    },
    {
      "cell_type": "markdown",
      "metadata": {
        "id": "HgxhdfvWdlV-"
      },
      "source": [
        "Informasi Kolom dan Tipe Data:\n",
        "\n",
        "- orders_df memiliki 99,441 baris dan 8 kolom.\n",
        "\n",
        "- Kolom terdiri dari **order_id, customer_id, order_status, order_purchase_timestamp** data sudah benar, sedangkan **order_approved_at, order_delivered_carrier_date, order_delivered_customer_date, dan order_estimated_delivery_date** masih ada kesalahan dan perlu diperbaiki berikut perbaikannya.\n",
        "\n",
        "```\n",
        "# Ini diformat sebagai kode\n",
        "# Mengonversi kolom waktu yang masih bertipe object menjadi datetime64[ns]\n",
        "orders_df['order_approved_at'] = pd.to_datetime(orders_df['order_approved_at'], errors='coerce')\n",
        "orders_df['order_delivered_carrier_date'] = pd.to_datetime(orders_df['order_delivered_carrier_date'], errors='coerce')\n",
        "orders_df['order_delivered_customer_date'] = pd.to_datetime(orders_df['order_delivered_customer_date'], errors='coerce')\n",
        "orders_df['order_estimated_delivery_date'] = pd.to_datetime(orders_df['order_estimated_delivery_date'], errors='coerce')\n",
        "\n",
        "# Memeriksa hasil perubahan tipe data\n",
        "print(orders_df.info())\n",
        "\n",
        "```\n",
        "\n",
        "- Kolom order_purchase_timestamp bertipe datetime64[ns], sementara kolom lainnya **order_approved_at, order_delivered_carrier_date, order_delivered_customer_date, dan order_estimated_delivery_date** bertipe object sudah diperbaiki dibawah ini."
      ]
    },
    {
      "cell_type": "code",
      "execution_count": null,
      "metadata": {
        "colab": {
          "base_uri": "https://localhost:8080/"
        },
        "id": "L4C47J78jDJy",
        "outputId": "3523a652-f177-4a06-8f8d-fa350c48ec34"
      },
      "outputs": [
        {
          "name": "stdout",
          "output_type": "stream",
          "text": [
            "<class 'pandas.core.frame.DataFrame'>\n",
            "RangeIndex: 99441 entries, 0 to 99440\n",
            "Data columns (total 8 columns):\n",
            " #   Column                         Non-Null Count  Dtype         \n",
            "---  ------                         --------------  -----         \n",
            " 0   order_id                       99441 non-null  object        \n",
            " 1   customer_id                    99441 non-null  object        \n",
            " 2   order_status                   99441 non-null  object        \n",
            " 3   order_purchase_timestamp       99441 non-null  object        \n",
            " 4   order_approved_at              99281 non-null  datetime64[ns]\n",
            " 5   order_delivered_carrier_date   97658 non-null  datetime64[ns]\n",
            " 6   order_delivered_customer_date  96476 non-null  datetime64[ns]\n",
            " 7   order_estimated_delivery_date  99441 non-null  datetime64[ns]\n",
            "dtypes: datetime64[ns](4), object(4)\n",
            "memory usage: 6.1+ MB\n",
            "None\n"
          ]
        }
      ],
      "source": [
        "# Mengonversi kolom waktu yang masih bertipe object menjadi datetime64[ns]\n",
        "orders_df['order_approved_at'] = pd.to_datetime(orders_df['order_approved_at'], errors='coerce')\n",
        "orders_df['order_delivered_carrier_date'] = pd.to_datetime(orders_df['order_delivered_carrier_date'], errors='coerce')\n",
        "orders_df['order_delivered_customer_date'] = pd.to_datetime(orders_df['order_delivered_customer_date'], errors='coerce')\n",
        "orders_df['order_estimated_delivery_date'] = pd.to_datetime(orders_df['order_estimated_delivery_date'], errors='coerce')\n",
        "\n",
        "# Memeriksa hasil perubahan tipe data\n",
        "print(orders_df.info())\n"
      ]
    },
    {
      "cell_type": "markdown",
      "metadata": {
        "id": "JkPZbJmOjLlo"
      },
      "source": [
        "Analisis :\n",
        "\n",
        "Data ini berisi 99.441 baris dan 8 kolom, yang terdiri dari:\n",
        "- 4 kolom bertipe datetime64[ns] → Berisi informasi waktu.\n",
        "- 4 kolom bertipe object → Berisi teks atau kategori."
      ]
    },
    {
      "cell_type": "code",
      "execution_count": 40,
      "metadata": {
        "colab": {
          "base_uri": "https://localhost:8080/",
          "height": 335
        },
        "id": "sBOxASUMUS9f",
        "outputId": "731f26df-9825-4c40-8305-38584e4ef8f1"
      },
      "outputs": [
        {
          "data": {
            "text/plain": [
              "order_id                            0\n",
              "customer_id                         0\n",
              "order_status                        0\n",
              "order_purchase_timestamp            0\n",
              "order_approved_at                 160\n",
              "order_delivered_carrier_date     1783\n",
              "order_delivered_customer_date    2965\n",
              "order_estimated_delivery_date       0\n",
              "dtype: int64"
            ]
          },
          "execution_count": 40,
          "metadata": {},
          "output_type": "execute_result"
        }
      ],
      "source": [
        "# prompt: orders_df.isna().sum()\n",
        "\n",
        "orders_df.isna().sum()"
      ]
    },
    {
      "cell_type": "markdown",
      "metadata": {
        "id": "8-S78h3Sdp2L"
      },
      "source": [
        "Missing Values:\n",
        "\n",
        "- Kolom order_approved_at, order_delivered_carrier_date, dan order_delivered_customer_date memiliki beberapa missing values. Kolom order_approved_at memiliki 160 missing values, order_delivered_carrier_date memiliki 1,783 missing values, dan order_delivered_customer_date memiliki 2,965 missing values.\n",
        "\n",
        "- Kolom lainnya tidak memiliki missing values dan terisi penuh dengan nilai yang valid."
      ]
    },
    {
      "cell_type": "code",
      "execution_count": 41,
      "metadata": {
        "colab": {
          "base_uri": "https://localhost:8080/"
        },
        "id": "_oi-0yybUW-W",
        "outputId": "001483b6-1833-42bb-df41-b852bdc6860a"
      },
      "outputs": [
        {
          "name": "stdout",
          "output_type": "stream",
          "text": [
            "Jumlah duplikasi:  0\n"
          ]
        }
      ],
      "source": [
        "# prompt: print(\"Jumlah duplikasi: \", orders_df.duplicated().sum())\n",
        "\n",
        "print(\"Jumlah duplikasi: \", orders_df.duplicated().sum())"
      ]
    },
    {
      "cell_type": "markdown",
      "metadata": {
        "id": "EkcoN_-hdt_C"
      },
      "source": [
        "Duplikasi Data:\n",
        "\n",
        "- Tidak ada duplikasi data ditemukan di dalam dataset ini (Jumlah duplikasi: 0)."
      ]
    },
    {
      "cell_type": "code",
      "execution_count": 42,
      "metadata": {
        "colab": {
          "base_uri": "https://localhost:8080/",
          "height": 400
        },
        "id": "-hZEivxXUcc_",
        "outputId": "e2f0115a-57b2-4e84-e781-9cd212037b2a"
      },
      "outputs": [
        {
          "data": {
            "text/html": [
              "<div>\n",
              "<style scoped>\n",
              "    .dataframe tbody tr th:only-of-type {\n",
              "        vertical-align: middle;\n",
              "    }\n",
              "\n",
              "    .dataframe tbody tr th {\n",
              "        vertical-align: top;\n",
              "    }\n",
              "\n",
              "    .dataframe thead th {\n",
              "        text-align: right;\n",
              "    }\n",
              "</style>\n",
              "<table border=\"1\" class=\"dataframe\">\n",
              "  <thead>\n",
              "    <tr style=\"text-align: right;\">\n",
              "      <th></th>\n",
              "      <th>order_id</th>\n",
              "      <th>customer_id</th>\n",
              "      <th>order_status</th>\n",
              "      <th>order_purchase_timestamp</th>\n",
              "      <th>order_approved_at</th>\n",
              "      <th>order_delivered_carrier_date</th>\n",
              "      <th>order_delivered_customer_date</th>\n",
              "      <th>order_estimated_delivery_date</th>\n",
              "    </tr>\n",
              "  </thead>\n",
              "  <tbody>\n",
              "    <tr>\n",
              "      <th>count</th>\n",
              "      <td>99441</td>\n",
              "      <td>99441</td>\n",
              "      <td>99441</td>\n",
              "      <td>99441</td>\n",
              "      <td>99281</td>\n",
              "      <td>97658</td>\n",
              "      <td>96476</td>\n",
              "      <td>99441</td>\n",
              "    </tr>\n",
              "    <tr>\n",
              "      <th>unique</th>\n",
              "      <td>99441</td>\n",
              "      <td>99441</td>\n",
              "      <td>8</td>\n",
              "      <td>98875</td>\n",
              "      <td>NaN</td>\n",
              "      <td>NaN</td>\n",
              "      <td>NaN</td>\n",
              "      <td>NaN</td>\n",
              "    </tr>\n",
              "    <tr>\n",
              "      <th>top</th>\n",
              "      <td>66dea50a8b16d9b4dee7af250b4be1a5</td>\n",
              "      <td>edb027a75a1449115f6b43211ae02a24</td>\n",
              "      <td>delivered</td>\n",
              "      <td>2018-08-02 12:05:26</td>\n",
              "      <td>NaN</td>\n",
              "      <td>NaN</td>\n",
              "      <td>NaN</td>\n",
              "      <td>NaN</td>\n",
              "    </tr>\n",
              "    <tr>\n",
              "      <th>freq</th>\n",
              "      <td>1</td>\n",
              "      <td>1</td>\n",
              "      <td>96478</td>\n",
              "      <td>3</td>\n",
              "      <td>NaN</td>\n",
              "      <td>NaN</td>\n",
              "      <td>NaN</td>\n",
              "      <td>NaN</td>\n",
              "    </tr>\n",
              "    <tr>\n",
              "      <th>mean</th>\n",
              "      <td>NaN</td>\n",
              "      <td>NaN</td>\n",
              "      <td>NaN</td>\n",
              "      <td>NaN</td>\n",
              "      <td>2017-12-31 18:35:24.098800128</td>\n",
              "      <td>2018-01-04 21:49:48.138278656</td>\n",
              "      <td>2018-01-14 12:09:19.035542272</td>\n",
              "      <td>2018-01-24 03:08:37.730111232</td>\n",
              "    </tr>\n",
              "    <tr>\n",
              "      <th>min</th>\n",
              "      <td>NaN</td>\n",
              "      <td>NaN</td>\n",
              "      <td>NaN</td>\n",
              "      <td>NaN</td>\n",
              "      <td>2016-09-15 12:16:38</td>\n",
              "      <td>2016-10-08 10:34:01</td>\n",
              "      <td>2016-10-11 13:46:32</td>\n",
              "      <td>2016-09-30 00:00:00</td>\n",
              "    </tr>\n",
              "    <tr>\n",
              "      <th>25%</th>\n",
              "      <td>NaN</td>\n",
              "      <td>NaN</td>\n",
              "      <td>NaN</td>\n",
              "      <td>NaN</td>\n",
              "      <td>2017-09-12 23:24:16</td>\n",
              "      <td>2017-09-15 22:28:50.249999872</td>\n",
              "      <td>2017-09-25 22:07:22.249999872</td>\n",
              "      <td>2017-10-03 00:00:00</td>\n",
              "    </tr>\n",
              "    <tr>\n",
              "      <th>50%</th>\n",
              "      <td>NaN</td>\n",
              "      <td>NaN</td>\n",
              "      <td>NaN</td>\n",
              "      <td>NaN</td>\n",
              "      <td>2018-01-19 11:36:13</td>\n",
              "      <td>2018-01-24 16:10:58</td>\n",
              "      <td>2018-02-02 19:28:10.500000</td>\n",
              "      <td>2018-02-15 00:00:00</td>\n",
              "    </tr>\n",
              "    <tr>\n",
              "      <th>75%</th>\n",
              "      <td>NaN</td>\n",
              "      <td>NaN</td>\n",
              "      <td>NaN</td>\n",
              "      <td>NaN</td>\n",
              "      <td>2018-05-04 20:35:10</td>\n",
              "      <td>2018-05-08 13:37:45</td>\n",
              "      <td>2018-05-15 22:48:52.249999872</td>\n",
              "      <td>2018-05-25 00:00:00</td>\n",
              "    </tr>\n",
              "    <tr>\n",
              "      <th>max</th>\n",
              "      <td>NaN</td>\n",
              "      <td>NaN</td>\n",
              "      <td>NaN</td>\n",
              "      <td>NaN</td>\n",
              "      <td>2018-09-03 17:40:06</td>\n",
              "      <td>2018-09-11 19:48:28</td>\n",
              "      <td>2018-10-17 13:22:46</td>\n",
              "      <td>2018-11-12 00:00:00</td>\n",
              "    </tr>\n",
              "  </tbody>\n",
              "</table>\n",
              "</div>"
            ],
            "text/plain": [
              "                                order_id                       customer_id  \\\n",
              "count                              99441                             99441   \n",
              "unique                             99441                             99441   \n",
              "top     66dea50a8b16d9b4dee7af250b4be1a5  edb027a75a1449115f6b43211ae02a24   \n",
              "freq                                   1                                 1   \n",
              "mean                                 NaN                               NaN   \n",
              "min                                  NaN                               NaN   \n",
              "25%                                  NaN                               NaN   \n",
              "50%                                  NaN                               NaN   \n",
              "75%                                  NaN                               NaN   \n",
              "max                                  NaN                               NaN   \n",
              "\n",
              "       order_status order_purchase_timestamp              order_approved_at  \\\n",
              "count         99441                    99441                          99281   \n",
              "unique            8                    98875                            NaN   \n",
              "top       delivered      2018-08-02 12:05:26                            NaN   \n",
              "freq          96478                        3                            NaN   \n",
              "mean            NaN                      NaN  2017-12-31 18:35:24.098800128   \n",
              "min             NaN                      NaN            2016-09-15 12:16:38   \n",
              "25%             NaN                      NaN            2017-09-12 23:24:16   \n",
              "50%             NaN                      NaN            2018-01-19 11:36:13   \n",
              "75%             NaN                      NaN            2018-05-04 20:35:10   \n",
              "max             NaN                      NaN            2018-09-03 17:40:06   \n",
              "\n",
              "         order_delivered_carrier_date  order_delivered_customer_date  \\\n",
              "count                           97658                          96476   \n",
              "unique                            NaN                            NaN   \n",
              "top                               NaN                            NaN   \n",
              "freq                              NaN                            NaN   \n",
              "mean    2018-01-04 21:49:48.138278656  2018-01-14 12:09:19.035542272   \n",
              "min               2016-10-08 10:34:01            2016-10-11 13:46:32   \n",
              "25%     2017-09-15 22:28:50.249999872  2017-09-25 22:07:22.249999872   \n",
              "50%               2018-01-24 16:10:58     2018-02-02 19:28:10.500000   \n",
              "75%               2018-05-08 13:37:45  2018-05-15 22:48:52.249999872   \n",
              "max               2018-09-11 19:48:28            2018-10-17 13:22:46   \n",
              "\n",
              "        order_estimated_delivery_date  \n",
              "count                           99441  \n",
              "unique                            NaN  \n",
              "top                               NaN  \n",
              "freq                              NaN  \n",
              "mean    2018-01-24 03:08:37.730111232  \n",
              "min               2016-09-30 00:00:00  \n",
              "25%               2017-10-03 00:00:00  \n",
              "50%               2018-02-15 00:00:00  \n",
              "75%               2018-05-25 00:00:00  \n",
              "max               2018-11-12 00:00:00  "
            ]
          },
          "execution_count": 42,
          "metadata": {},
          "output_type": "execute_result"
        }
      ],
      "source": [
        "# prompt: orders_df.describe(include=('all'))\n",
        "\n",
        "orders_df.describe(include='all')"
      ]
    },
    {
      "cell_type": "markdown",
      "metadata": {
        "id": "62DDLXG6dwMN"
      },
      "source": [
        "Statistik Deskriptif:\n",
        "\n",
        "- Kolom order_purchase_timestamp memberikan informasi tentang kapan pesanan dilakukan.\n",
        "\n",
        "- Kolom order_status menunjukkan status pesanan, seperti delivered, shipped, invoiced, dll.\n",
        "\n",
        "- Kolom order_estimated_delivery_date menunjukkan perkiraan waktu pengiriman untuk setiap pesanan."
      ]
    },
    {
      "cell_type": "markdown",
      "metadata": {
        "id": "2pkmBMf7WIfK"
      },
      "source": [
        "**Insight: Data order_payment_df**\n",
        "- Data pesanan di orders_df bersih dari duplikasi, meskipun terdapat beberapa missing values di kolom tertentu yang berhubungan dengan status dan waktu pengiriman.\n",
        "\n",
        "- Informasi dalam dataset ini sangat berguna untuk menganalisis efisiensi proses pemesanan dan pengiriman, memahami pola pembelian pelanggan, serta mengevaluasi kinerja pengiriman terhadap estimasi waktu pengiriman yang diberikan."
      ]
    },
    {
      "cell_type": "markdown",
      "metadata": {
        "id": "lhmeXVQEUs1h"
      },
      "source": [
        "7. Data product_category_df"
      ]
    },
    {
      "cell_type": "code",
      "execution_count": 43,
      "metadata": {
        "colab": {
          "base_uri": "https://localhost:8080/"
        },
        "id": "ju3OtJFXUtxn",
        "outputId": "2753ad00-af11-4093-a4e8-e34336262d05"
      },
      "outputs": [
        {
          "name": "stdout",
          "output_type": "stream",
          "text": [
            "<class 'pandas.core.frame.DataFrame'>\n",
            "RangeIndex: 71 entries, 0 to 70\n",
            "Data columns (total 2 columns):\n",
            " #   Column                         Non-Null Count  Dtype \n",
            "---  ------                         --------------  ----- \n",
            " 0   product_category_name          71 non-null     object\n",
            " 1   product_category_name_english  71 non-null     object\n",
            "dtypes: object(2)\n",
            "memory usage: 1.2+ KB\n"
          ]
        }
      ],
      "source": [
        "# prompt: product_category_df.info()\n",
        "\n",
        "product_category_name_translation_df.info()"
      ]
    },
    {
      "cell_type": "markdown",
      "metadata": {
        "id": "jirsPV7eeDTL"
      },
      "source": [
        "Informasi Kolom dan Tipe Data:\n",
        "\n",
        "- product_category_name_translation_df memiliki 71 baris dan 2 kolom.\n",
        "\n",
        "- Kolom terdiri dari product_category_name dan product_category_name_english, keduanya bertipe object."
      ]
    },
    {
      "cell_type": "code",
      "execution_count": 44,
      "metadata": {
        "colab": {
          "base_uri": "https://localhost:8080/",
          "height": 147
        },
        "id": "yKQkCabgUxXc",
        "outputId": "0afbdba6-debc-4049-83d5-5d9bcad53090"
      },
      "outputs": [
        {
          "data": {
            "text/plain": [
              "product_category_name            0\n",
              "product_category_name_english    0\n",
              "dtype: int64"
            ]
          },
          "execution_count": 44,
          "metadata": {},
          "output_type": "execute_result"
        }
      ],
      "source": [
        "# prompt: product_category_df.isna().sum()\n",
        "\n",
        "product_category_name_translation_df.isna().sum()\n"
      ]
    },
    {
      "cell_type": "markdown",
      "metadata": {
        "id": "0YKUlUrceGPx"
      },
      "source": [
        "Missing Values:\n",
        "\n",
        "- Tidak ada missing values di dalam dataset ini. Semua kolom terisi penuh dengan nilai yang valid."
      ]
    },
    {
      "cell_type": "code",
      "execution_count": 45,
      "metadata": {
        "colab": {
          "base_uri": "https://localhost:8080/"
        },
        "id": "5Nu-k5jkU1zk",
        "outputId": "3dc017cc-f99f-4754-b176-38f34638c00e"
      },
      "outputs": [
        {
          "name": "stdout",
          "output_type": "stream",
          "text": [
            "Jumlah duplikasi:  0\n"
          ]
        }
      ],
      "source": [
        "# prompt: print(\"Jumlah duplikasi: \", product_category_df.duplicated().sum())\n",
        "\n",
        "print(\"Jumlah duplikasi: \", product_category_name_translation_df.duplicated().sum())"
      ]
    },
    {
      "cell_type": "markdown",
      "metadata": {
        "id": "WpLtVP0peIl2"
      },
      "source": [
        "Duplikasi Data:\n",
        "\n",
        "- Tidak ada duplikasi data ditemukan di dalam dataset ini (Jumlah duplikasi: 0)."
      ]
    },
    {
      "cell_type": "code",
      "execution_count": 46,
      "metadata": {
        "colab": {
          "base_uri": "https://localhost:8080/",
          "height": 175
        },
        "id": "0FZDEBohU5hx",
        "outputId": "476e677f-418e-4101-c317-75910f9c6426"
      },
      "outputs": [
        {
          "data": {
            "text/html": [
              "<div>\n",
              "<style scoped>\n",
              "    .dataframe tbody tr th:only-of-type {\n",
              "        vertical-align: middle;\n",
              "    }\n",
              "\n",
              "    .dataframe tbody tr th {\n",
              "        vertical-align: top;\n",
              "    }\n",
              "\n",
              "    .dataframe thead th {\n",
              "        text-align: right;\n",
              "    }\n",
              "</style>\n",
              "<table border=\"1\" class=\"dataframe\">\n",
              "  <thead>\n",
              "    <tr style=\"text-align: right;\">\n",
              "      <th></th>\n",
              "      <th>product_category_name</th>\n",
              "      <th>product_category_name_english</th>\n",
              "    </tr>\n",
              "  </thead>\n",
              "  <tbody>\n",
              "    <tr>\n",
              "      <th>count</th>\n",
              "      <td>71</td>\n",
              "      <td>71</td>\n",
              "    </tr>\n",
              "    <tr>\n",
              "      <th>unique</th>\n",
              "      <td>71</td>\n",
              "      <td>71</td>\n",
              "    </tr>\n",
              "    <tr>\n",
              "      <th>top</th>\n",
              "      <td>beleza_saude</td>\n",
              "      <td>health_beauty</td>\n",
              "    </tr>\n",
              "    <tr>\n",
              "      <th>freq</th>\n",
              "      <td>1</td>\n",
              "      <td>1</td>\n",
              "    </tr>\n",
              "  </tbody>\n",
              "</table>\n",
              "</div>"
            ],
            "text/plain": [
              "       product_category_name product_category_name_english\n",
              "count                     71                            71\n",
              "unique                    71                            71\n",
              "top             beleza_saude                 health_beauty\n",
              "freq                       1                             1"
            ]
          },
          "execution_count": 46,
          "metadata": {},
          "output_type": "execute_result"
        }
      ],
      "source": [
        "# prompt: product_category_df.describe(include=('all'))\n",
        "\n",
        "product_category_name_translation_df.describe(include='all')"
      ]
    },
    {
      "cell_type": "markdown",
      "metadata": {
        "id": "WnKyr_U-eMm8"
      },
      "source": [
        "Statistik Deskriptif:\n",
        "\n",
        "- Kolom product_category_name dan product_category_name_english memberikan informasi tentang terjemahan nama kategori produk dari bahasa Portugis ke bahasa Inggris."
      ]
    },
    {
      "cell_type": "markdown",
      "metadata": {
        "id": "Rly9gkhxWKlQ"
      },
      "source": [
        "**Insight: Data order_payment_df**\n",
        "- Data kategori produk di product_category_name_translation_df bersih dan lengkap, tanpa adanya missing values atau duplikasi.\n",
        "\n",
        "- Informasi dalam dataset ini sangat berguna untuk mengklasifikasikan produk berdasarkan kategori yang diterjemahkan, mendukung analisis dan pelaporan yang lebih baik."
      ]
    },
    {
      "cell_type": "markdown",
      "metadata": {
        "id": "pEI7N1PBU_Wf"
      },
      "source": [
        "8. Data products_df"
      ]
    },
    {
      "cell_type": "code",
      "execution_count": 47,
      "metadata": {
        "colab": {
          "base_uri": "https://localhost:8080/"
        },
        "id": "PrzcAvqzVBEL",
        "outputId": "08757166-45e3-4221-f1bc-42236191f100"
      },
      "outputs": [
        {
          "name": "stdout",
          "output_type": "stream",
          "text": [
            "<class 'pandas.core.frame.DataFrame'>\n",
            "RangeIndex: 32951 entries, 0 to 32950\n",
            "Data columns (total 9 columns):\n",
            " #   Column                      Non-Null Count  Dtype  \n",
            "---  ------                      --------------  -----  \n",
            " 0   product_id                  32951 non-null  object \n",
            " 1   product_category_name       32341 non-null  object \n",
            " 2   product_name_lenght         32341 non-null  float64\n",
            " 3   product_description_lenght  32341 non-null  float64\n",
            " 4   product_photos_qty          32341 non-null  float64\n",
            " 5   product_weight_g            32949 non-null  float64\n",
            " 6   product_length_cm           32949 non-null  float64\n",
            " 7   product_height_cm           32949 non-null  float64\n",
            " 8   product_width_cm            32949 non-null  float64\n",
            "dtypes: float64(7), object(2)\n",
            "memory usage: 2.3+ MB\n"
          ]
        }
      ],
      "source": [
        "# prompt: products_df.info()\n",
        "\n",
        "products_df.info()\n"
      ]
    },
    {
      "cell_type": "markdown",
      "metadata": {
        "id": "1f6CCILVefPF"
      },
      "source": [
        "Informasi Kolom dan Tipe Data:\n",
        "\n",
        "- products_df memiliki 32,951 baris dan 9 kolom.\n",
        "\n",
        "- Kolom terdiri dari product_id, product_category_name, product_name_lenght, product_description_lenght, product_photos_qty, product_weight_g, product_length_cm, product_height_cm, dan product_width_cm.\n",
        "\n",
        "- Kolom product_name_lenght, product_description_lenght, product_photos_qty, product_weight_g, product_length_cm, product_height_cm, dan product_width_cm bertipe float64, sedangkan kolom product_id dan product_category_name bertipe object."
      ]
    },
    {
      "cell_type": "code",
      "execution_count": 48,
      "metadata": {
        "colab": {
          "base_uri": "https://localhost:8080/",
          "height": 366
        },
        "id": "Wb9NjvtQVE86",
        "outputId": "39b96f44-2013-4480-eb2b-e38275bd2a16"
      },
      "outputs": [
        {
          "data": {
            "text/plain": [
              "product_id                      0\n",
              "product_category_name         610\n",
              "product_name_lenght           610\n",
              "product_description_lenght    610\n",
              "product_photos_qty            610\n",
              "product_weight_g                2\n",
              "product_length_cm               2\n",
              "product_height_cm               2\n",
              "product_width_cm                2\n",
              "dtype: int64"
            ]
          },
          "execution_count": 48,
          "metadata": {},
          "output_type": "execute_result"
        }
      ],
      "source": [
        "# prompt: products_df.isna().sum()\n",
        "\n",
        "products_df.isna().sum()\n"
      ]
    },
    {
      "cell_type": "markdown",
      "metadata": {
        "id": "BN2Fofcqei31"
      },
      "source": [
        "Missing Values:\n",
        "\n",
        "- Kolom product_category_name, product_name_lenght, product_description_lenght, dan product_photos_qty memiliki missing values. Masing-masing kolom ini memiliki sekitar 610 missing values.\n",
        "\n",
        "- Kolom product_weight_g, product_length_cm, product_height_cm, dan product_width_cm memiliki 2 missing values masing-masing.\n",
        "\n",
        "- Kolom product_id terisi penuh tanpa missing values."
      ]
    },
    {
      "cell_type": "code",
      "execution_count": 49,
      "metadata": {
        "colab": {
          "base_uri": "https://localhost:8080/"
        },
        "id": "57b-2MSjVJDD",
        "outputId": "6b8eb92e-f68c-4154-9485-d57e046cb9c0"
      },
      "outputs": [
        {
          "name": "stdout",
          "output_type": "stream",
          "text": [
            "Jumlah duplikasi:  0\n"
          ]
        }
      ],
      "source": [
        "# prompt: print(\"Jumlah duplikasi: \", products_df.duplicated().sum())\n",
        "\n",
        "print(\"Jumlah duplikasi: \", products_df.duplicated().sum())"
      ]
    },
    {
      "cell_type": "markdown",
      "metadata": {
        "id": "0CuoXrzIen1C"
      },
      "source": [
        "Duplikasi Data:\n",
        "\n",
        "- Tidak ada duplikasi data ditemukan di dalam dataset ini (Jumlah duplikasi: 0)."
      ]
    },
    {
      "cell_type": "code",
      "execution_count": 50,
      "metadata": {
        "colab": {
          "base_uri": "https://localhost:8080/",
          "height": 414
        },
        "id": "eeKJ_eEwVMT1",
        "outputId": "cc39ade0-6bcf-44c7-d988-3c557bc1ef7e"
      },
      "outputs": [
        {
          "data": {
            "text/html": [
              "<div>\n",
              "<style scoped>\n",
              "    .dataframe tbody tr th:only-of-type {\n",
              "        vertical-align: middle;\n",
              "    }\n",
              "\n",
              "    .dataframe tbody tr th {\n",
              "        vertical-align: top;\n",
              "    }\n",
              "\n",
              "    .dataframe thead th {\n",
              "        text-align: right;\n",
              "    }\n",
              "</style>\n",
              "<table border=\"1\" class=\"dataframe\">\n",
              "  <thead>\n",
              "    <tr style=\"text-align: right;\">\n",
              "      <th></th>\n",
              "      <th>product_id</th>\n",
              "      <th>product_category_name</th>\n",
              "      <th>product_name_lenght</th>\n",
              "      <th>product_description_lenght</th>\n",
              "      <th>product_photos_qty</th>\n",
              "      <th>product_weight_g</th>\n",
              "      <th>product_length_cm</th>\n",
              "      <th>product_height_cm</th>\n",
              "      <th>product_width_cm</th>\n",
              "    </tr>\n",
              "  </thead>\n",
              "  <tbody>\n",
              "    <tr>\n",
              "      <th>count</th>\n",
              "      <td>32951</td>\n",
              "      <td>32341</td>\n",
              "      <td>32341.000000</td>\n",
              "      <td>32341.000000</td>\n",
              "      <td>32341.000000</td>\n",
              "      <td>32949.000000</td>\n",
              "      <td>32949.000000</td>\n",
              "      <td>32949.000000</td>\n",
              "      <td>32949.000000</td>\n",
              "    </tr>\n",
              "    <tr>\n",
              "      <th>unique</th>\n",
              "      <td>32951</td>\n",
              "      <td>73</td>\n",
              "      <td>NaN</td>\n",
              "      <td>NaN</td>\n",
              "      <td>NaN</td>\n",
              "      <td>NaN</td>\n",
              "      <td>NaN</td>\n",
              "      <td>NaN</td>\n",
              "      <td>NaN</td>\n",
              "    </tr>\n",
              "    <tr>\n",
              "      <th>top</th>\n",
              "      <td>106392145fca363410d287a815be6de4</td>\n",
              "      <td>cama_mesa_banho</td>\n",
              "      <td>NaN</td>\n",
              "      <td>NaN</td>\n",
              "      <td>NaN</td>\n",
              "      <td>NaN</td>\n",
              "      <td>NaN</td>\n",
              "      <td>NaN</td>\n",
              "      <td>NaN</td>\n",
              "    </tr>\n",
              "    <tr>\n",
              "      <th>freq</th>\n",
              "      <td>1</td>\n",
              "      <td>3029</td>\n",
              "      <td>NaN</td>\n",
              "      <td>NaN</td>\n",
              "      <td>NaN</td>\n",
              "      <td>NaN</td>\n",
              "      <td>NaN</td>\n",
              "      <td>NaN</td>\n",
              "      <td>NaN</td>\n",
              "    </tr>\n",
              "    <tr>\n",
              "      <th>mean</th>\n",
              "      <td>NaN</td>\n",
              "      <td>NaN</td>\n",
              "      <td>48.476949</td>\n",
              "      <td>771.495285</td>\n",
              "      <td>2.188986</td>\n",
              "      <td>2276.472488</td>\n",
              "      <td>30.815078</td>\n",
              "      <td>16.937661</td>\n",
              "      <td>23.196728</td>\n",
              "    </tr>\n",
              "    <tr>\n",
              "      <th>std</th>\n",
              "      <td>NaN</td>\n",
              "      <td>NaN</td>\n",
              "      <td>10.245741</td>\n",
              "      <td>635.115225</td>\n",
              "      <td>1.736766</td>\n",
              "      <td>4282.038731</td>\n",
              "      <td>16.914458</td>\n",
              "      <td>13.637554</td>\n",
              "      <td>12.079047</td>\n",
              "    </tr>\n",
              "    <tr>\n",
              "      <th>min</th>\n",
              "      <td>NaN</td>\n",
              "      <td>NaN</td>\n",
              "      <td>5.000000</td>\n",
              "      <td>4.000000</td>\n",
              "      <td>1.000000</td>\n",
              "      <td>0.000000</td>\n",
              "      <td>7.000000</td>\n",
              "      <td>2.000000</td>\n",
              "      <td>6.000000</td>\n",
              "    </tr>\n",
              "    <tr>\n",
              "      <th>25%</th>\n",
              "      <td>NaN</td>\n",
              "      <td>NaN</td>\n",
              "      <td>42.000000</td>\n",
              "      <td>339.000000</td>\n",
              "      <td>1.000000</td>\n",
              "      <td>300.000000</td>\n",
              "      <td>18.000000</td>\n",
              "      <td>8.000000</td>\n",
              "      <td>15.000000</td>\n",
              "    </tr>\n",
              "    <tr>\n",
              "      <th>50%</th>\n",
              "      <td>NaN</td>\n",
              "      <td>NaN</td>\n",
              "      <td>51.000000</td>\n",
              "      <td>595.000000</td>\n",
              "      <td>1.000000</td>\n",
              "      <td>700.000000</td>\n",
              "      <td>25.000000</td>\n",
              "      <td>13.000000</td>\n",
              "      <td>20.000000</td>\n",
              "    </tr>\n",
              "    <tr>\n",
              "      <th>75%</th>\n",
              "      <td>NaN</td>\n",
              "      <td>NaN</td>\n",
              "      <td>57.000000</td>\n",
              "      <td>972.000000</td>\n",
              "      <td>3.000000</td>\n",
              "      <td>1900.000000</td>\n",
              "      <td>38.000000</td>\n",
              "      <td>21.000000</td>\n",
              "      <td>30.000000</td>\n",
              "    </tr>\n",
              "    <tr>\n",
              "      <th>max</th>\n",
              "      <td>NaN</td>\n",
              "      <td>NaN</td>\n",
              "      <td>76.000000</td>\n",
              "      <td>3992.000000</td>\n",
              "      <td>20.000000</td>\n",
              "      <td>40425.000000</td>\n",
              "      <td>105.000000</td>\n",
              "      <td>105.000000</td>\n",
              "      <td>118.000000</td>\n",
              "    </tr>\n",
              "  </tbody>\n",
              "</table>\n",
              "</div>"
            ],
            "text/plain": [
              "                              product_id product_category_name  \\\n",
              "count                              32951                 32341   \n",
              "unique                             32951                    73   \n",
              "top     106392145fca363410d287a815be6de4       cama_mesa_banho   \n",
              "freq                                   1                  3029   \n",
              "mean                                 NaN                   NaN   \n",
              "std                                  NaN                   NaN   \n",
              "min                                  NaN                   NaN   \n",
              "25%                                  NaN                   NaN   \n",
              "50%                                  NaN                   NaN   \n",
              "75%                                  NaN                   NaN   \n",
              "max                                  NaN                   NaN   \n",
              "\n",
              "        product_name_lenght  product_description_lenght  product_photos_qty  \\\n",
              "count          32341.000000                32341.000000        32341.000000   \n",
              "unique                  NaN                         NaN                 NaN   \n",
              "top                     NaN                         NaN                 NaN   \n",
              "freq                    NaN                         NaN                 NaN   \n",
              "mean              48.476949                  771.495285            2.188986   \n",
              "std               10.245741                  635.115225            1.736766   \n",
              "min                5.000000                    4.000000            1.000000   \n",
              "25%               42.000000                  339.000000            1.000000   \n",
              "50%               51.000000                  595.000000            1.000000   \n",
              "75%               57.000000                  972.000000            3.000000   \n",
              "max               76.000000                 3992.000000           20.000000   \n",
              "\n",
              "        product_weight_g  product_length_cm  product_height_cm  \\\n",
              "count       32949.000000       32949.000000       32949.000000   \n",
              "unique               NaN                NaN                NaN   \n",
              "top                  NaN                NaN                NaN   \n",
              "freq                 NaN                NaN                NaN   \n",
              "mean         2276.472488          30.815078          16.937661   \n",
              "std          4282.038731          16.914458          13.637554   \n",
              "min             0.000000           7.000000           2.000000   \n",
              "25%           300.000000          18.000000           8.000000   \n",
              "50%           700.000000          25.000000          13.000000   \n",
              "75%          1900.000000          38.000000          21.000000   \n",
              "max         40425.000000         105.000000         105.000000   \n",
              "\n",
              "        product_width_cm  \n",
              "count       32949.000000  \n",
              "unique               NaN  \n",
              "top                  NaN  \n",
              "freq                 NaN  \n",
              "mean           23.196728  \n",
              "std            12.079047  \n",
              "min             6.000000  \n",
              "25%            15.000000  \n",
              "50%            20.000000  \n",
              "75%            30.000000  \n",
              "max           118.000000  "
            ]
          },
          "execution_count": 50,
          "metadata": {},
          "output_type": "execute_result"
        }
      ],
      "source": [
        "# prompt: products_df.describe(include=('all'))\n",
        "\n",
        "products_df.describe(include='all')\n"
      ]
    },
    {
      "cell_type": "markdown",
      "metadata": {
        "id": "iScCBlZueqoF"
      },
      "source": [
        "Statistik Deskriptif:\n",
        "\n",
        "- Kolom product_name_lenght, product_description_lenght, product_photos_qty, product_weight_g, product_length_cm, product_height_cm, dan product_width_cm menunjukkan variasi dalam atribut produk, membantu dalam memahami karakteristik produk yang berbeda."
      ]
    },
    {
      "cell_type": "markdown",
      "metadata": {
        "id": "Br9yqZ82WNCs"
      },
      "source": [
        "**Insight: Data order_payment_df**\n",
        "- Data produk di products_df sebagian besar bersih dan lengkap, meskipun ada beberapa missing values pada atribut produk tertentu.\n",
        "\n",
        "- Informasi dalam dataset ini sangat berguna untuk menganalisis karakteristik produk, kinerja kategori produk, dan memahami preferensi pelanggan terhadap produk tertentu.\n",
        "\n",
        "- Analisis ini dapat digunakan untuk meningkatkan penawaran produk dan strategi pemasaran berdasarkan atribut produk yang relevan."
      ]
    },
    {
      "cell_type": "markdown",
      "metadata": {
        "id": "lSirDhcxVS_A"
      },
      "source": [
        "9. Data sellers_df"
      ]
    },
    {
      "cell_type": "code",
      "execution_count": 51,
      "metadata": {
        "colab": {
          "base_uri": "https://localhost:8080/"
        },
        "id": "PouaCV12VTlT",
        "outputId": "dd515a7c-c16b-4496-a584-b6cd9d772f50"
      },
      "outputs": [
        {
          "name": "stdout",
          "output_type": "stream",
          "text": [
            "<class 'pandas.core.frame.DataFrame'>\n",
            "RangeIndex: 3095 entries, 0 to 3094\n",
            "Data columns (total 4 columns):\n",
            " #   Column                  Non-Null Count  Dtype \n",
            "---  ------                  --------------  ----- \n",
            " 0   seller_id               3095 non-null   object\n",
            " 1   seller_zip_code_prefix  3095 non-null   int64 \n",
            " 2   seller_city             3095 non-null   object\n",
            " 3   seller_state            3095 non-null   object\n",
            "dtypes: int64(1), object(3)\n",
            "memory usage: 96.8+ KB\n"
          ]
        }
      ],
      "source": [
        "# prompt: sellers_df.info()\n",
        "\n",
        "sellers_df.info()\n"
      ]
    },
    {
      "cell_type": "markdown",
      "metadata": {
        "id": "AzdVkqO3e8xn"
      },
      "source": [
        "Informasi Kolom dan Tipe Data:\n",
        "\n",
        "- sellers_df memiliki 3,095 baris dan 4 kolom.\n",
        "\n",
        "- Kolom terdiri dari seller_id, seller_zip_code_prefix, seller_city, dan seller_state.\n",
        "\n",
        "- Kolom seller_zip_code_prefix bertipe int64, sedangkan kolom lainnya bertipe object."
      ]
    },
    {
      "cell_type": "code",
      "execution_count": 52,
      "metadata": {
        "colab": {
          "base_uri": "https://localhost:8080/",
          "height": 209
        },
        "id": "tUI5O4IFVXLf",
        "outputId": "ea1996dd-41f9-4d6b-803f-1ddaf932f47b"
      },
      "outputs": [
        {
          "data": {
            "text/plain": [
              "seller_id                 0\n",
              "seller_zip_code_prefix    0\n",
              "seller_city               0\n",
              "seller_state              0\n",
              "dtype: int64"
            ]
          },
          "execution_count": 52,
          "metadata": {},
          "output_type": "execute_result"
        }
      ],
      "source": [
        "# prompt: sellers_df.isna().sum()\n",
        "\n",
        "sellers_df.isna().sum()"
      ]
    },
    {
      "cell_type": "markdown",
      "metadata": {
        "id": "ArbnicF7fBNk"
      },
      "source": [
        "Missing Values:\n",
        "\n",
        "- Tidak ada missing values di dalam dataset ini. Semua kolom terisi penuh dengan nilai yang valid."
      ]
    },
    {
      "cell_type": "code",
      "execution_count": 53,
      "metadata": {
        "colab": {
          "base_uri": "https://localhost:8080/"
        },
        "id": "K_LaskELVZ__",
        "outputId": "48c82c60-e356-4732-9046-dd8edfa394f2"
      },
      "outputs": [
        {
          "name": "stdout",
          "output_type": "stream",
          "text": [
            "Jumlah duplikasi:  0\n"
          ]
        }
      ],
      "source": [
        "# prompt: print(\"Jumlah duplikasi: \", sellers_df.duplicated().sum())\n",
        "\n",
        "print(\"Jumlah duplikasi: \", sellers_df.duplicated().sum())"
      ]
    },
    {
      "cell_type": "markdown",
      "metadata": {
        "id": "SODdjbqMfFoo"
      },
      "source": [
        "Duplikasi Data:\n",
        "\n",
        "- Tidak ada duplikasi data ditemukan di dalam dataset ini (Jumlah duplikasi: 0)."
      ]
    },
    {
      "cell_type": "code",
      "execution_count": 54,
      "metadata": {
        "colab": {
          "base_uri": "https://localhost:8080/",
          "height": 394
        },
        "id": "cu4ChDcYVdKW",
        "outputId": "b53022f4-d3da-4506-e619-da3abbbfd7bd"
      },
      "outputs": [
        {
          "data": {
            "text/html": [
              "<div>\n",
              "<style scoped>\n",
              "    .dataframe tbody tr th:only-of-type {\n",
              "        vertical-align: middle;\n",
              "    }\n",
              "\n",
              "    .dataframe tbody tr th {\n",
              "        vertical-align: top;\n",
              "    }\n",
              "\n",
              "    .dataframe thead th {\n",
              "        text-align: right;\n",
              "    }\n",
              "</style>\n",
              "<table border=\"1\" class=\"dataframe\">\n",
              "  <thead>\n",
              "    <tr style=\"text-align: right;\">\n",
              "      <th></th>\n",
              "      <th>seller_id</th>\n",
              "      <th>seller_zip_code_prefix</th>\n",
              "      <th>seller_city</th>\n",
              "      <th>seller_state</th>\n",
              "    </tr>\n",
              "  </thead>\n",
              "  <tbody>\n",
              "    <tr>\n",
              "      <th>count</th>\n",
              "      <td>3095</td>\n",
              "      <td>3095.000000</td>\n",
              "      <td>3095</td>\n",
              "      <td>3095</td>\n",
              "    </tr>\n",
              "    <tr>\n",
              "      <th>unique</th>\n",
              "      <td>3095</td>\n",
              "      <td>NaN</td>\n",
              "      <td>611</td>\n",
              "      <td>23</td>\n",
              "    </tr>\n",
              "    <tr>\n",
              "      <th>top</th>\n",
              "      <td>9e25199f6ef7e7c347120ff175652c3b</td>\n",
              "      <td>NaN</td>\n",
              "      <td>sao paulo</td>\n",
              "      <td>SP</td>\n",
              "    </tr>\n",
              "    <tr>\n",
              "      <th>freq</th>\n",
              "      <td>1</td>\n",
              "      <td>NaN</td>\n",
              "      <td>694</td>\n",
              "      <td>1849</td>\n",
              "    </tr>\n",
              "    <tr>\n",
              "      <th>mean</th>\n",
              "      <td>NaN</td>\n",
              "      <td>32291.059451</td>\n",
              "      <td>NaN</td>\n",
              "      <td>NaN</td>\n",
              "    </tr>\n",
              "    <tr>\n",
              "      <th>std</th>\n",
              "      <td>NaN</td>\n",
              "      <td>32713.453830</td>\n",
              "      <td>NaN</td>\n",
              "      <td>NaN</td>\n",
              "    </tr>\n",
              "    <tr>\n",
              "      <th>min</th>\n",
              "      <td>NaN</td>\n",
              "      <td>1001.000000</td>\n",
              "      <td>NaN</td>\n",
              "      <td>NaN</td>\n",
              "    </tr>\n",
              "    <tr>\n",
              "      <th>25%</th>\n",
              "      <td>NaN</td>\n",
              "      <td>7093.500000</td>\n",
              "      <td>NaN</td>\n",
              "      <td>NaN</td>\n",
              "    </tr>\n",
              "    <tr>\n",
              "      <th>50%</th>\n",
              "      <td>NaN</td>\n",
              "      <td>14940.000000</td>\n",
              "      <td>NaN</td>\n",
              "      <td>NaN</td>\n",
              "    </tr>\n",
              "    <tr>\n",
              "      <th>75%</th>\n",
              "      <td>NaN</td>\n",
              "      <td>64552.500000</td>\n",
              "      <td>NaN</td>\n",
              "      <td>NaN</td>\n",
              "    </tr>\n",
              "    <tr>\n",
              "      <th>max</th>\n",
              "      <td>NaN</td>\n",
              "      <td>99730.000000</td>\n",
              "      <td>NaN</td>\n",
              "      <td>NaN</td>\n",
              "    </tr>\n",
              "  </tbody>\n",
              "</table>\n",
              "</div>"
            ],
            "text/plain": [
              "                               seller_id  seller_zip_code_prefix seller_city  \\\n",
              "count                               3095             3095.000000        3095   \n",
              "unique                              3095                     NaN         611   \n",
              "top     9e25199f6ef7e7c347120ff175652c3b                     NaN   sao paulo   \n",
              "freq                                   1                     NaN         694   \n",
              "mean                                 NaN            32291.059451         NaN   \n",
              "std                                  NaN            32713.453830         NaN   \n",
              "min                                  NaN             1001.000000         NaN   \n",
              "25%                                  NaN             7093.500000         NaN   \n",
              "50%                                  NaN            14940.000000         NaN   \n",
              "75%                                  NaN            64552.500000         NaN   \n",
              "max                                  NaN            99730.000000         NaN   \n",
              "\n",
              "       seller_state  \n",
              "count          3095  \n",
              "unique           23  \n",
              "top              SP  \n",
              "freq           1849  \n",
              "mean            NaN  \n",
              "std             NaN  \n",
              "min             NaN  \n",
              "25%             NaN  \n",
              "50%             NaN  \n",
              "75%             NaN  \n",
              "max             NaN  "
            ]
          },
          "execution_count": 54,
          "metadata": {},
          "output_type": "execute_result"
        }
      ],
      "source": [
        "# prompt: sellers_df.describe(include=('all'))\n",
        "\n",
        "sellers_df.describe(include='all')"
      ]
    },
    {
      "cell_type": "markdown",
      "metadata": {
        "id": "RgOrMrfhfIQd"
      },
      "source": [
        "Statistik Deskriptif:\n",
        "\n",
        "- Kolom seller_zip_code_prefix menunjukkan variasi kode pos penjual.\n",
        "\n",
        "- Kolom seller_city dan seller_state memberikan informasi tentang distribusi geografis penjual di berbagai kota dan negara bagian."
      ]
    },
    {
      "cell_type": "markdown",
      "metadata": {
        "id": "MYQgeQ0CWPEd"
      },
      "source": [
        "**Insight: Data order_payment_df**\n",
        "- Data penjual di sellers_df bersih dan lengkap, tanpa adanya missing values atau duplikasi.\n",
        "\n",
        "- Informasi dalam dataset ini sangat berguna untuk menganalisis distribusi geografis penjual dan lokasi mereka.\n",
        "\n",
        "- Dataset ini mendukung evaluasi kinerja penjual dan memastikan ketersediaan produk di berbagai wilayah."
      ]
    },
    {
      "cell_type": "markdown",
      "metadata": {
        "id": "EhN5R4hr8DC1"
      },
      "source": [
        "### Cleaning Data"
      ]
    },
    {
      "cell_type": "markdown",
      "metadata": {
        "id": "Ij6G0RPQuyLl"
      },
      "source": [
        "**1. Data Duplikat**"
      ]
    },
    {
      "cell_type": "markdown",
      "metadata": {
        "id": "5zqd6TRAu7Dq"
      },
      "source": [
        "Data duplikat terdeteksi pada geolocation_df. Namun, data tidak dihapus karena duplikasi mencerminkan variasi kode pos yang valid di wilayah yang sama, seperti \"Sao Paulo,\" yang memiliki frekuensi tertinggi dalam kolom geolocation_city dan geolocation_state. Duplikasi ini dianggap tidak mengganggu analisis atau relevan untuk representasi lokasi geografis."
      ]
    },
    {
      "cell_type": "code",
      "execution_count": 55,
      "metadata": {
        "colab": {
          "base_uri": "https://localhost:8080/"
        },
        "id": "jVnYpprE9Evz",
        "outputId": "77fd47f2-23cf-4f45-efc6-1ad8f06183ef"
      },
      "outputs": [
        {
          "name": "stdout",
          "output_type": "stream",
          "text": [
            "Jumlah data duplikat: 84407\n"
          ]
        }
      ],
      "source": [
        "# Mengecek jumlah data duplikat\n",
        "duplicates = geolocation_df.duplicated().sum()\n",
        "print(f\"Jumlah data duplikat: {duplicates}\")"
      ]
    },
    {
      "cell_type": "code",
      "execution_count": 56,
      "metadata": {
        "colab": {
          "base_uri": "https://localhost:8080/"
        },
        "id": "-4FyUsA0xASR",
        "outputId": "d73cdf76-c265-44d0-becc-bb90a472b3a6"
      },
      "outputs": [
        {
          "name": "stdout",
          "output_type": "stream",
          "text": [
            "       customer_zip_code_prefix    customer_city customer_state\n",
            "49                        89254   jaragua do sul             SC\n",
            "131                       24431      sao goncalo             RJ\n",
            "187                       22251   rio de janeiro             RJ\n",
            "251                       12280         cacapava             SP\n",
            "252                       13212          jundiai             SP\n",
            "...                         ...              ...            ...\n",
            "99436                      3937        sao paulo             SP\n",
            "99437                      6764  taboao da serra             SP\n",
            "99438                     60115        fortaleza             CE\n",
            "99439                     92120           canoas             RS\n",
            "99440                      6703            cotia             SP\n",
            "\n",
            "[84407 rows x 3 columns]\n"
          ]
        }
      ],
      "source": [
        "# Menampilkan baris duplikat\n",
        "duplicate_rows = geolocation_df[geolocation_df.duplicated()]\n",
        "print(duplicate_rows)"
      ]
    },
    {
      "cell_type": "markdown",
      "metadata": {
        "id": "6BMCh6H_xQO8"
      },
      "source": [
        "**2. Missing Value**"
      ]
    },
    {
      "cell_type": "markdown",
      "metadata": {
        "id": "pBGDEKdmxRe8"
      },
      "source": [
        "Berdasarkan statistik deskriptif yang ada, kita mengidentifikasi missing values pada data order_reviews_df pada **Kolom review_comment_title** & **Kolom review_comment_message**:"
      ]
    },
    {
      "cell_type": "code",
      "execution_count": 57,
      "metadata": {
        "colab": {
          "base_uri": "https://localhost:8080/",
          "height": 513
        },
        "id": "7CFu3T8vyySs",
        "outputId": "8e72db4d-3209-4a09-f4d7-a61c243e656e"
      },
      "outputs": [
        {
          "data": {
            "text/html": [
              "<div>\n",
              "<style scoped>\n",
              "    .dataframe tbody tr th:only-of-type {\n",
              "        vertical-align: middle;\n",
              "    }\n",
              "\n",
              "    .dataframe tbody tr th {\n",
              "        vertical-align: top;\n",
              "    }\n",
              "\n",
              "    .dataframe thead th {\n",
              "        text-align: right;\n",
              "    }\n",
              "</style>\n",
              "<table border=\"1\" class=\"dataframe\">\n",
              "  <thead>\n",
              "    <tr style=\"text-align: right;\">\n",
              "      <th></th>\n",
              "      <th>review_id</th>\n",
              "      <th>order_id</th>\n",
              "      <th>review_score</th>\n",
              "      <th>review_comment_title</th>\n",
              "      <th>review_comment_message</th>\n",
              "      <th>review_creation_date</th>\n",
              "      <th>review_answer_timestamp</th>\n",
              "    </tr>\n",
              "  </thead>\n",
              "  <tbody>\n",
              "    <tr>\n",
              "      <th>0</th>\n",
              "      <td>7bc2406110b926393aa56f80a40eba40</td>\n",
              "      <td>73fc7af87114b39712e6da79b0a377eb</td>\n",
              "      <td>4</td>\n",
              "      <td>NaN</td>\n",
              "      <td>NaN</td>\n",
              "      <td>2018-01-18</td>\n",
              "      <td>2018-01-18 21:46:59</td>\n",
              "    </tr>\n",
              "    <tr>\n",
              "      <th>1</th>\n",
              "      <td>80e641a11e56f04c1ad469d5645fdfde</td>\n",
              "      <td>a548910a1c6147796b98fdf73dbeba33</td>\n",
              "      <td>5</td>\n",
              "      <td>NaN</td>\n",
              "      <td>NaN</td>\n",
              "      <td>2018-03-10</td>\n",
              "      <td>2018-03-11 03:05:13</td>\n",
              "    </tr>\n",
              "    <tr>\n",
              "      <th>2</th>\n",
              "      <td>228ce5500dc1d8e020d8d1322874b6f0</td>\n",
              "      <td>f9e4b658b201a9f2ecdecbb34bed034b</td>\n",
              "      <td>5</td>\n",
              "      <td>NaN</td>\n",
              "      <td>NaN</td>\n",
              "      <td>2018-02-17</td>\n",
              "      <td>2018-02-18 14:36:24</td>\n",
              "    </tr>\n",
              "    <tr>\n",
              "      <th>3</th>\n",
              "      <td>e64fb393e7b32834bb789ff8bb30750e</td>\n",
              "      <td>658677c97b385a9be170737859d3511b</td>\n",
              "      <td>5</td>\n",
              "      <td>NaN</td>\n",
              "      <td>Recebi bem antes do prazo estipulado.</td>\n",
              "      <td>2017-04-21</td>\n",
              "      <td>2017-04-21 22:02:06</td>\n",
              "    </tr>\n",
              "    <tr>\n",
              "      <th>4</th>\n",
              "      <td>f7c4243c7fe1938f181bec41a392bdeb</td>\n",
              "      <td>8e6bfb81e283fa7e4f11123a3fb894f1</td>\n",
              "      <td>5</td>\n",
              "      <td>NaN</td>\n",
              "      <td>Parabéns lojas lannister adorei comprar pela I...</td>\n",
              "      <td>2018-03-01</td>\n",
              "      <td>2018-03-02 10:26:53</td>\n",
              "    </tr>\n",
              "    <tr>\n",
              "      <th>...</th>\n",
              "      <td>...</td>\n",
              "      <td>...</td>\n",
              "      <td>...</td>\n",
              "      <td>...</td>\n",
              "      <td>...</td>\n",
              "      <td>...</td>\n",
              "      <td>...</td>\n",
              "    </tr>\n",
              "    <tr>\n",
              "      <th>99219</th>\n",
              "      <td>574ed12dd733e5fa530cfd4bbf39d7c9</td>\n",
              "      <td>2a8c23fee101d4d5662fa670396eb8da</td>\n",
              "      <td>5</td>\n",
              "      <td>NaN</td>\n",
              "      <td>NaN</td>\n",
              "      <td>2018-07-07</td>\n",
              "      <td>2018-07-14 17:18:30</td>\n",
              "    </tr>\n",
              "    <tr>\n",
              "      <th>99220</th>\n",
              "      <td>f3897127253a9592a73be9bdfdf4ed7a</td>\n",
              "      <td>22ec9f0669f784db00fa86d035cf8602</td>\n",
              "      <td>5</td>\n",
              "      <td>NaN</td>\n",
              "      <td>NaN</td>\n",
              "      <td>2017-12-09</td>\n",
              "      <td>2017-12-11 20:06:42</td>\n",
              "    </tr>\n",
              "    <tr>\n",
              "      <th>99221</th>\n",
              "      <td>b3de70c89b1510c4cd3d0649fd302472</td>\n",
              "      <td>55d4004744368f5571d1f590031933e4</td>\n",
              "      <td>5</td>\n",
              "      <td>NaN</td>\n",
              "      <td>Excelente mochila, entrega super rápida. Super...</td>\n",
              "      <td>2018-03-22</td>\n",
              "      <td>2018-03-23 09:10:43</td>\n",
              "    </tr>\n",
              "    <tr>\n",
              "      <th>99222</th>\n",
              "      <td>1adeb9d84d72fe4e337617733eb85149</td>\n",
              "      <td>7725825d039fc1f0ceb7635e3f7d9206</td>\n",
              "      <td>4</td>\n",
              "      <td>NaN</td>\n",
              "      <td>NaN</td>\n",
              "      <td>2018-07-01</td>\n",
              "      <td>2018-07-02 12:59:13</td>\n",
              "    </tr>\n",
              "    <tr>\n",
              "      <th>99223</th>\n",
              "      <td>efe49f1d6f951dd88b51e6ccd4cc548f</td>\n",
              "      <td>90531360ecb1eec2a1fbb265a0db0508</td>\n",
              "      <td>1</td>\n",
              "      <td>NaN</td>\n",
              "      <td>meu produto chegou e ja tenho que devolver, po...</td>\n",
              "      <td>2017-07-03</td>\n",
              "      <td>2017-07-03 21:01:49</td>\n",
              "    </tr>\n",
              "  </tbody>\n",
              "</table>\n",
              "<p>87656 rows × 7 columns</p>\n",
              "</div>"
            ],
            "text/plain": [
              "                              review_id                          order_id  \\\n",
              "0      7bc2406110b926393aa56f80a40eba40  73fc7af87114b39712e6da79b0a377eb   \n",
              "1      80e641a11e56f04c1ad469d5645fdfde  a548910a1c6147796b98fdf73dbeba33   \n",
              "2      228ce5500dc1d8e020d8d1322874b6f0  f9e4b658b201a9f2ecdecbb34bed034b   \n",
              "3      e64fb393e7b32834bb789ff8bb30750e  658677c97b385a9be170737859d3511b   \n",
              "4      f7c4243c7fe1938f181bec41a392bdeb  8e6bfb81e283fa7e4f11123a3fb894f1   \n",
              "...                                 ...                               ...   \n",
              "99219  574ed12dd733e5fa530cfd4bbf39d7c9  2a8c23fee101d4d5662fa670396eb8da   \n",
              "99220  f3897127253a9592a73be9bdfdf4ed7a  22ec9f0669f784db00fa86d035cf8602   \n",
              "99221  b3de70c89b1510c4cd3d0649fd302472  55d4004744368f5571d1f590031933e4   \n",
              "99222  1adeb9d84d72fe4e337617733eb85149  7725825d039fc1f0ceb7635e3f7d9206   \n",
              "99223  efe49f1d6f951dd88b51e6ccd4cc548f  90531360ecb1eec2a1fbb265a0db0508   \n",
              "\n",
              "       review_score review_comment_title  \\\n",
              "0                 4                  NaN   \n",
              "1                 5                  NaN   \n",
              "2                 5                  NaN   \n",
              "3                 5                  NaN   \n",
              "4                 5                  NaN   \n",
              "...             ...                  ...   \n",
              "99219             5                  NaN   \n",
              "99220             5                  NaN   \n",
              "99221             5                  NaN   \n",
              "99222             4                  NaN   \n",
              "99223             1                  NaN   \n",
              "\n",
              "                                  review_comment_message review_creation_date  \\\n",
              "0                                                    NaN           2018-01-18   \n",
              "1                                                    NaN           2018-03-10   \n",
              "2                                                    NaN           2018-02-17   \n",
              "3                  Recebi bem antes do prazo estipulado.           2017-04-21   \n",
              "4      Parabéns lojas lannister adorei comprar pela I...           2018-03-01   \n",
              "...                                                  ...                  ...   \n",
              "99219                                                NaN           2018-07-07   \n",
              "99220                                                NaN           2017-12-09   \n",
              "99221  Excelente mochila, entrega super rápida. Super...           2018-03-22   \n",
              "99222                                                NaN           2018-07-01   \n",
              "99223  meu produto chegou e ja tenho que devolver, po...           2017-07-03   \n",
              "\n",
              "      review_answer_timestamp  \n",
              "0         2018-01-18 21:46:59  \n",
              "1         2018-03-11 03:05:13  \n",
              "2         2018-02-18 14:36:24  \n",
              "3         2017-04-21 22:02:06  \n",
              "4         2018-03-02 10:26:53  \n",
              "...                       ...  \n",
              "99219     2018-07-14 17:18:30  \n",
              "99220     2017-12-11 20:06:42  \n",
              "99221     2018-03-23 09:10:43  \n",
              "99222     2018-07-02 12:59:13  \n",
              "99223     2017-07-03 21:01:49  \n",
              "\n",
              "[87656 rows x 7 columns]"
            ]
          },
          "execution_count": 57,
          "metadata": {},
          "output_type": "execute_result"
        }
      ],
      "source": [
        "# prompt: order_reviews_df[order_reviews_df.review_comment_title.isna()]\n",
        "\n",
        "order_reviews_df[order_reviews_df.review_comment_title.isna()]"
      ]
    },
    {
      "cell_type": "code",
      "execution_count": 58,
      "metadata": {
        "colab": {
          "base_uri": "https://localhost:8080/",
          "height": 489
        },
        "id": "5X_yJQjf1be3",
        "outputId": "ce2104b5-317d-4141-cfbb-e93f30de83d0"
      },
      "outputs": [
        {
          "data": {
            "text/plain": [
              "review_comment_title\n",
              "Recomendo                    423\n",
              "recomendo                    345\n",
              "Bom                          293\n",
              "super recomendo              270\n",
              "Excelente                    248\n",
              "                            ... \n",
              "Nota máxima!                   1\n",
              "muito bom produto              1\n",
              "Não foi entregue o pedido      1\n",
              "OTIMA EMBALAGEM                1\n",
              "excelente loja.                1\n",
              "Name: count, Length: 4527, dtype: int64"
            ]
          },
          "execution_count": 58,
          "metadata": {},
          "output_type": "execute_result"
        }
      ],
      "source": [
        "# prompt: order_reviews_df.review_comment_title.value_counts()\n",
        "\n",
        "order_reviews_df.review_comment_title.value_counts()"
      ]
    },
    {
      "cell_type": "code",
      "execution_count": 59,
      "metadata": {
        "colab": {
          "base_uri": "https://localhost:8080/",
          "height": 443
        },
        "id": "ErH7NRIe1pfN",
        "outputId": "b6228853-37db-4661-c474-c913d70b3ddd"
      },
      "outputs": [
        {
          "data": {
            "text/html": [
              "<div>\n",
              "<style scoped>\n",
              "    .dataframe tbody tr th:only-of-type {\n",
              "        vertical-align: middle;\n",
              "    }\n",
              "\n",
              "    .dataframe tbody tr th {\n",
              "        vertical-align: top;\n",
              "    }\n",
              "\n",
              "    .dataframe thead th {\n",
              "        text-align: right;\n",
              "    }\n",
              "</style>\n",
              "<table border=\"1\" class=\"dataframe\">\n",
              "  <thead>\n",
              "    <tr style=\"text-align: right;\">\n",
              "      <th></th>\n",
              "      <th>review_id</th>\n",
              "      <th>order_id</th>\n",
              "      <th>review_score</th>\n",
              "      <th>review_comment_title</th>\n",
              "      <th>review_comment_message</th>\n",
              "      <th>review_creation_date</th>\n",
              "      <th>review_answer_timestamp</th>\n",
              "    </tr>\n",
              "  </thead>\n",
              "  <tbody>\n",
              "    <tr>\n",
              "      <th>0</th>\n",
              "      <td>7bc2406110b926393aa56f80a40eba40</td>\n",
              "      <td>73fc7af87114b39712e6da79b0a377eb</td>\n",
              "      <td>4</td>\n",
              "      <td>NaN</td>\n",
              "      <td>NaN</td>\n",
              "      <td>2018-01-18</td>\n",
              "      <td>2018-01-18 21:46:59</td>\n",
              "    </tr>\n",
              "    <tr>\n",
              "      <th>1</th>\n",
              "      <td>80e641a11e56f04c1ad469d5645fdfde</td>\n",
              "      <td>a548910a1c6147796b98fdf73dbeba33</td>\n",
              "      <td>5</td>\n",
              "      <td>NaN</td>\n",
              "      <td>NaN</td>\n",
              "      <td>2018-03-10</td>\n",
              "      <td>2018-03-11 03:05:13</td>\n",
              "    </tr>\n",
              "    <tr>\n",
              "      <th>2</th>\n",
              "      <td>228ce5500dc1d8e020d8d1322874b6f0</td>\n",
              "      <td>f9e4b658b201a9f2ecdecbb34bed034b</td>\n",
              "      <td>5</td>\n",
              "      <td>NaN</td>\n",
              "      <td>NaN</td>\n",
              "      <td>2018-02-17</td>\n",
              "      <td>2018-02-18 14:36:24</td>\n",
              "    </tr>\n",
              "    <tr>\n",
              "      <th>5</th>\n",
              "      <td>15197aa66ff4d0650b5434f1b46cda19</td>\n",
              "      <td>b18dcdf73be66366873cd26c5724d1dc</td>\n",
              "      <td>1</td>\n",
              "      <td>NaN</td>\n",
              "      <td>NaN</td>\n",
              "      <td>2018-04-13</td>\n",
              "      <td>2018-04-16 00:39:37</td>\n",
              "    </tr>\n",
              "    <tr>\n",
              "      <th>6</th>\n",
              "      <td>07f9bee5d1b850860defd761afa7ff16</td>\n",
              "      <td>e48aa0d2dcec3a2e87348811bcfdf22b</td>\n",
              "      <td>5</td>\n",
              "      <td>NaN</td>\n",
              "      <td>NaN</td>\n",
              "      <td>2017-07-16</td>\n",
              "      <td>2017-07-18 19:30:34</td>\n",
              "    </tr>\n",
              "    <tr>\n",
              "      <th>...</th>\n",
              "      <td>...</td>\n",
              "      <td>...</td>\n",
              "      <td>...</td>\n",
              "      <td>...</td>\n",
              "      <td>...</td>\n",
              "      <td>...</td>\n",
              "      <td>...</td>\n",
              "    </tr>\n",
              "    <tr>\n",
              "      <th>99217</th>\n",
              "      <td>c6b270c61f67c9f7cb07d84ea8aeaf8b</td>\n",
              "      <td>48f7ee67313eda32bfcf5b9c1dd9522d</td>\n",
              "      <td>5</td>\n",
              "      <td>NaN</td>\n",
              "      <td>NaN</td>\n",
              "      <td>2017-12-13</td>\n",
              "      <td>2017-12-14 11:09:36</td>\n",
              "    </tr>\n",
              "    <tr>\n",
              "      <th>99218</th>\n",
              "      <td>af2dc0519de6e0720ef0c74292fb4114</td>\n",
              "      <td>d699c734a0b1c8111f2272a3f36d398c</td>\n",
              "      <td>5</td>\n",
              "      <td>NaN</td>\n",
              "      <td>NaN</td>\n",
              "      <td>2018-04-27</td>\n",
              "      <td>2018-04-30 01:18:57</td>\n",
              "    </tr>\n",
              "    <tr>\n",
              "      <th>99219</th>\n",
              "      <td>574ed12dd733e5fa530cfd4bbf39d7c9</td>\n",
              "      <td>2a8c23fee101d4d5662fa670396eb8da</td>\n",
              "      <td>5</td>\n",
              "      <td>NaN</td>\n",
              "      <td>NaN</td>\n",
              "      <td>2018-07-07</td>\n",
              "      <td>2018-07-14 17:18:30</td>\n",
              "    </tr>\n",
              "    <tr>\n",
              "      <th>99220</th>\n",
              "      <td>f3897127253a9592a73be9bdfdf4ed7a</td>\n",
              "      <td>22ec9f0669f784db00fa86d035cf8602</td>\n",
              "      <td>5</td>\n",
              "      <td>NaN</td>\n",
              "      <td>NaN</td>\n",
              "      <td>2017-12-09</td>\n",
              "      <td>2017-12-11 20:06:42</td>\n",
              "    </tr>\n",
              "    <tr>\n",
              "      <th>99222</th>\n",
              "      <td>1adeb9d84d72fe4e337617733eb85149</td>\n",
              "      <td>7725825d039fc1f0ceb7635e3f7d9206</td>\n",
              "      <td>4</td>\n",
              "      <td>NaN</td>\n",
              "      <td>NaN</td>\n",
              "      <td>2018-07-01</td>\n",
              "      <td>2018-07-02 12:59:13</td>\n",
              "    </tr>\n",
              "  </tbody>\n",
              "</table>\n",
              "<p>58247 rows × 7 columns</p>\n",
              "</div>"
            ],
            "text/plain": [
              "                              review_id                          order_id  \\\n",
              "0      7bc2406110b926393aa56f80a40eba40  73fc7af87114b39712e6da79b0a377eb   \n",
              "1      80e641a11e56f04c1ad469d5645fdfde  a548910a1c6147796b98fdf73dbeba33   \n",
              "2      228ce5500dc1d8e020d8d1322874b6f0  f9e4b658b201a9f2ecdecbb34bed034b   \n",
              "5      15197aa66ff4d0650b5434f1b46cda19  b18dcdf73be66366873cd26c5724d1dc   \n",
              "6      07f9bee5d1b850860defd761afa7ff16  e48aa0d2dcec3a2e87348811bcfdf22b   \n",
              "...                                 ...                               ...   \n",
              "99217  c6b270c61f67c9f7cb07d84ea8aeaf8b  48f7ee67313eda32bfcf5b9c1dd9522d   \n",
              "99218  af2dc0519de6e0720ef0c74292fb4114  d699c734a0b1c8111f2272a3f36d398c   \n",
              "99219  574ed12dd733e5fa530cfd4bbf39d7c9  2a8c23fee101d4d5662fa670396eb8da   \n",
              "99220  f3897127253a9592a73be9bdfdf4ed7a  22ec9f0669f784db00fa86d035cf8602   \n",
              "99222  1adeb9d84d72fe4e337617733eb85149  7725825d039fc1f0ceb7635e3f7d9206   \n",
              "\n",
              "       review_score review_comment_title review_comment_message  \\\n",
              "0                 4                  NaN                    NaN   \n",
              "1                 5                  NaN                    NaN   \n",
              "2                 5                  NaN                    NaN   \n",
              "5                 1                  NaN                    NaN   \n",
              "6                 5                  NaN                    NaN   \n",
              "...             ...                  ...                    ...   \n",
              "99217             5                  NaN                    NaN   \n",
              "99218             5                  NaN                    NaN   \n",
              "99219             5                  NaN                    NaN   \n",
              "99220             5                  NaN                    NaN   \n",
              "99222             4                  NaN                    NaN   \n",
              "\n",
              "      review_creation_date review_answer_timestamp  \n",
              "0               2018-01-18     2018-01-18 21:46:59  \n",
              "1               2018-03-10     2018-03-11 03:05:13  \n",
              "2               2018-02-17     2018-02-18 14:36:24  \n",
              "5               2018-04-13     2018-04-16 00:39:37  \n",
              "6               2017-07-16     2017-07-18 19:30:34  \n",
              "...                    ...                     ...  \n",
              "99217           2017-12-13     2017-12-14 11:09:36  \n",
              "99218           2018-04-27     2018-04-30 01:18:57  \n",
              "99219           2018-07-07     2018-07-14 17:18:30  \n",
              "99220           2017-12-09     2017-12-11 20:06:42  \n",
              "99222           2018-07-01     2018-07-02 12:59:13  \n",
              "\n",
              "[58247 rows x 7 columns]"
            ]
          },
          "execution_count": 59,
          "metadata": {},
          "output_type": "execute_result"
        }
      ],
      "source": [
        "# prompt: order_reviews_df[order_reviews_df.review_comment_message.isna()]\n",
        "\n",
        "order_reviews_df[order_reviews_df.review_comment_message.isna()]"
      ]
    },
    {
      "cell_type": "code",
      "execution_count": 116,
      "metadata": {
        "colab": {
          "base_uri": "https://localhost:8080/",
          "height": 507
        },
        "id": "csRcjFFh13uw",
        "outputId": "2388e782-7410-44bf-942d-0f088dcf35e8"
      },
      "outputs": [
        {
          "data": {
            "text/plain": [
              "review_comment_message\n",
              "sem comentários                                                                                                                  58248\n",
              "Muito bom                                                                                                                          230\n",
              "Bom                                                                                                                                189\n",
              "muito bom                                                                                                                          122\n",
              "bom                                                                                                                                107\n",
              "                                                                                                                                 ...  \n",
              "para este produto recebi de acordo com a compra realizada!                                                                           1\n",
              "Entregou dentro do prazo. O produto chegou em condições perfeitas. Estou muito satisfeita!                                           1\n",
              "O produto não foi enviado com NF, não existe venda sem NF, com certeza fico no aguardo do envio da NF podendo ser por e-mail.        1\n",
              "Excelente mochila, entrega super rápida. Super recomendo essa loja!                                                                  1\n",
              "GOSTARIA DE SABER O QUE HOUVE, SEMPRE RECEBI E ESSA COMPRA AGORA ME DECPCIONOU                                                       1\n",
              "Name: count, Length: 36159, dtype: int64"
            ]
          },
          "execution_count": 116,
          "metadata": {},
          "output_type": "execute_result"
        }
      ],
      "source": [
        "# prompt: order_reviews_df.review_comment_message.value_counts()\n",
        "\n",
        "order_reviews_df.review_comment_message.value_counts()"
      ]
    },
    {
      "cell_type": "code",
      "execution_count": 115,
      "metadata": {
        "id": "I1dixJd02P8j"
      },
      "outputs": [],
      "source": [
        "# prompt: order_reviews_df.fillna(value=\"sem comentários\", inplace=True)\n",
        "\n",
        "order_reviews_df.fillna(value=\"sem comentários\", inplace=True)"
      ]
    },
    {
      "cell_type": "markdown",
      "metadata": {
        "id": "6R3K79Sg2zQT"
      },
      "source": [
        "Mengisi missing value pada kolom review_comment_title dan review_comment_message dengan value \"sem comentários\" dengan arti \"no comment\" adalah salah satu cara yang umum digunakan karena:\n",
        "- Konsistensi: Menggunakan \"sem comentários\" memberikan konsistensi dalam data, menunjukkan bahwa tidak ada komentar yang diberikan oleh pelanggan.\n",
        "\n",
        "- Analisis Teks: Dengan mengisi missing values dengan frasa yang umum, analisis teks menjadi lebih mudah karena kita bisa langsung mengetahui dan memisahkan ulasan yang benar-benar kosong dari ulasan yang memiliki konten.\n",
        "\n",
        "- Representasi yang Mudah Dipahami: Ini adalah nilai default yang mudah dipahami oleh tim analisis data dan pemangku kepentingan lainnya."
      ]
    },
    {
      "cell_type": "code",
      "execution_count": 66,
      "metadata": {
        "colab": {
          "base_uri": "https://localhost:8080/",
          "height": 303
        },
        "id": "2Yb2g-CG3KsP",
        "outputId": "600d7b45-84b4-48c8-be65-8573afd554d8"
      },
      "outputs": [
        {
          "data": {
            "text/plain": [
              "review_id                  0\n",
              "order_id                   0\n",
              "review_score               0\n",
              "review_comment_title       0\n",
              "review_comment_message     0\n",
              "review_creation_date       0\n",
              "review_answer_timestamp    0\n",
              "dtype: int64"
            ]
          },
          "execution_count": 66,
          "metadata": {},
          "output_type": "execute_result"
        }
      ],
      "source": [
        "# prompt: order_reviews_df.isna().sum()\n",
        "\n",
        "order_reviews_df.isna().sum()"
      ]
    },
    {
      "cell_type": "markdown",
      "metadata": {
        "id": "nIDF5tfp3mA3"
      },
      "source": [
        "Penyelesaian Missing Values:\n",
        "- Missing value pada kolom review_comment_title dan review_comment_message telah diatasi dengan mengisi nilai yang hilang menggunakan metode tertentu (misalnya diisi dengan nilai \"sem comentários\" atau string kosong). Data tersebut menunjukkan jumlah missing values (nilai yang hilang) di setiap kolom dari DataFrame order_reviews_df. Kolom-kolom yang ditampilkan adalah: review_id, order_id, review_score, review_comment_title, review_comment_message, review_creation_date, dan review_answer_timestamp."
      ]
    },
    {
      "cell_type": "markdown",
      "metadata": {
        "id": "njYwVCOM32V9"
      },
      "source": [
        "**3. Tipe Data**"
      ]
    },
    {
      "cell_type": "code",
      "execution_count": 67,
      "metadata": {
        "id": "XfT1EegT4bqt"
      },
      "outputs": [],
      "source": [
        "# prompt: # Definisikan kolom yang perlu diubah ke tipe datetime\n",
        "# kolom_datetime = [\"shipping_limit_date\"]\n",
        "# # Ubah setiap kolom dalam daftar ke tipe datetime menggunakan iterasi\n",
        "# for kolom in kolom_datetime:\n",
        "#     order_items_df[kolom] = pd.to_datetime(order_items_df[kolom])\n",
        "\n",
        "# Definisikan kolom yang perlu diubah ke tipe datetime\n",
        "kolom_datetime = [\"shipping_limit_date\"]\n",
        "\n",
        "# Ubah setiap kolom dalam daftar ke tipe datetime menggunakan iterasi\n",
        "for kolom in kolom_datetime:\n",
        "    order_items_df[kolom] = pd.to_datetime(order_items_df[kolom], errors='coerce')"
      ]
    },
    {
      "cell_type": "markdown",
      "metadata": {
        "id": "43GG3wKV5bWw"
      },
      "source": [
        "Mengubah tipe data kolom shipping_limit_date dalam DataFrame order_items_df menjadi tipe datetime. Ini penting untuk mempermudah analisis data yang melibatkan tanggal, seperti menghitung durasi pengiriman atau memfilter data berdasarkan rentang waktu tertentu."
      ]
    },
    {
      "cell_type": "code",
      "execution_count": 68,
      "metadata": {
        "colab": {
          "base_uri": "https://localhost:8080/"
        },
        "id": "Z0jZ5iQU5kuC",
        "outputId": "cecbcf3c-9c0b-41a4-abd2-e7a79695e30b"
      },
      "outputs": [
        {
          "name": "stdout",
          "output_type": "stream",
          "text": [
            "<class 'pandas.core.frame.DataFrame'>\n",
            "RangeIndex: 112650 entries, 0 to 112649\n",
            "Data columns (total 7 columns):\n",
            " #   Column               Non-Null Count   Dtype         \n",
            "---  ------               --------------   -----         \n",
            " 0   order_id             112650 non-null  object        \n",
            " 1   order_item_id        112650 non-null  int64         \n",
            " 2   product_id           112650 non-null  object        \n",
            " 3   seller_id            112650 non-null  object        \n",
            " 4   shipping_limit_date  112650 non-null  datetime64[ns]\n",
            " 5   price                112650 non-null  float64       \n",
            " 6   freight_value        112650 non-null  float64       \n",
            "dtypes: datetime64[ns](1), float64(2), int64(1), object(3)\n",
            "memory usage: 6.0+ MB\n",
            "None\n"
          ]
        }
      ],
      "source": [
        "# prompt: order_items_df.info()\n",
        "\n",
        "print(order_items_df.info())"
      ]
    },
    {
      "cell_type": "code",
      "execution_count": 69,
      "metadata": {
        "id": "J76VqXlO548e"
      },
      "outputs": [],
      "source": [
        "# prompt: # Tentukan daftar kolom yang perlu diubah menjadi tipe datetime\n",
        "# kolom_tanggal = [\"review_creation_date\", \"review_answer_timestamp\"]\n",
        "# # Ubah setiap kolom dalam daftar tersebut menjadi tipe datetime\n",
        "# for kolom in kolom_tanggal:\n",
        "#     order_reviews_df[kolom] = pd.to_datetime(order_reviews_df[kolom])\n",
        "\n",
        "# Tentukan daftar kolom yang perlu diubah menjadi tipe datetime\n",
        "kolom_tanggal = [\"review_creation_date\", \"review_answer_timestamp\"]\n",
        "\n",
        "# Ubah setiap kolom dalam daftar tersebut menjadi tipe datetime\n",
        "for kolom in kolom_tanggal:\n",
        "    order_reviews_df[kolom] = pd.to_datetime(order_reviews_df[kolom], errors='coerce')"
      ]
    },
    {
      "cell_type": "code",
      "execution_count": 70,
      "metadata": {
        "colab": {
          "base_uri": "https://localhost:8080/"
        },
        "id": "795NRU4X6NgV",
        "outputId": "aa82bc20-cc3d-468e-a850-3a4cf0d8d8f6"
      },
      "outputs": [
        {
          "name": "stdout",
          "output_type": "stream",
          "text": [
            "<class 'pandas.core.frame.DataFrame'>\n",
            "RangeIndex: 99224 entries, 0 to 99223\n",
            "Data columns (total 7 columns):\n",
            " #   Column                   Non-Null Count  Dtype         \n",
            "---  ------                   --------------  -----         \n",
            " 0   review_id                99224 non-null  object        \n",
            " 1   order_id                 99224 non-null  object        \n",
            " 2   review_score             99224 non-null  int64         \n",
            " 3   review_comment_title     99224 non-null  object        \n",
            " 4   review_comment_message   99224 non-null  object        \n",
            " 5   review_creation_date     99224 non-null  datetime64[ns]\n",
            " 6   review_answer_timestamp  99224 non-null  datetime64[ns]\n",
            "dtypes: datetime64[ns](2), int64(1), object(4)\n",
            "memory usage: 5.3+ MB\n",
            "None\n"
          ]
        }
      ],
      "source": [
        "# prompt: order_reviews_df.info()\n",
        "\n",
        "print(order_reviews_df.info())"
      ]
    },
    {
      "cell_type": "code",
      "execution_count": 71,
      "metadata": {
        "id": "RyCoHWhA6y67"
      },
      "outputs": [],
      "source": [
        "# Tentukan kolom yang perlu diubah menjadi tipe datetime\n",
        "kolom_waktu = [\n",
        "    \"order_purchase_timestamp\",\n",
        "    \"order_approved_at\",\n",
        "    \"order_delivered_carrier_date\",\n",
        "    \"order_delivered_customer_date\",\n",
        "    \"order_estimated_delivery_date\"\n",
        "]\n",
        "\n",
        "# Konversi setiap kolom dalam daftar menjadi tipe datetime\n",
        "for kol in kolom_waktu:\n",
        "    orders_df[kol] = pd.to_datetime(orders_df[kol])\n"
      ]
    },
    {
      "cell_type": "code",
      "execution_count": 72,
      "metadata": {
        "colab": {
          "base_uri": "https://localhost:8080/"
        },
        "id": "q1B8ylEQ7MYl",
        "outputId": "8d0516b9-a923-4d03-a890-b176ea5d2f8d"
      },
      "outputs": [
        {
          "name": "stdout",
          "output_type": "stream",
          "text": [
            "<class 'pandas.core.frame.DataFrame'>\n",
            "RangeIndex: 99441 entries, 0 to 99440\n",
            "Data columns (total 8 columns):\n",
            " #   Column                         Non-Null Count  Dtype         \n",
            "---  ------                         --------------  -----         \n",
            " 0   order_id                       99441 non-null  object        \n",
            " 1   customer_id                    99441 non-null  object        \n",
            " 2   order_status                   99441 non-null  object        \n",
            " 3   order_purchase_timestamp       99441 non-null  datetime64[ns]\n",
            " 4   order_approved_at              99281 non-null  datetime64[ns]\n",
            " 5   order_delivered_carrier_date   97658 non-null  datetime64[ns]\n",
            " 6   order_delivered_customer_date  96476 non-null  datetime64[ns]\n",
            " 7   order_estimated_delivery_date  99441 non-null  datetime64[ns]\n",
            "dtypes: datetime64[ns](5), object(3)\n",
            "memory usage: 6.1+ MB\n",
            "None\n"
          ]
        }
      ],
      "source": [
        "# prompt: orders_df.info()\n",
        "\n",
        "print(orders_df.info())"
      ]
    },
    {
      "cell_type": "markdown",
      "metadata": {
        "id": "EWi2H5QV7IUz"
      },
      "source": [
        "Mengubah tipe data pada kolom-kolom tertentu dalam DataFrame orders_df menjadi tipe datetime."
      ]
    },
    {
      "cell_type": "markdown",
      "metadata": {
        "id": "Q_5ejIqckiSP"
      },
      "source": [
        "**Insight:**\n",
        "- Konsistensi Data: Proses pembersihan ini memastikan bahwa data menjadi lebih konsisten dan siap untuk analisis lebih lanjut.\n",
        "\n",
        "- Kemudahan Analisis: Mengatasi missing values dan mengonversi tipe data membantu dalam melakukan analisis yang lebih mendalam dan akurat.\n",
        "\n",
        "- Relevansi Data: Mempertahankan data duplikat yang valid memastikan bahwa analisis geografis tetap akurat dan relevan."
      ]
    },
    {
      "cell_type": "markdown",
      "metadata": {
        "id": "gp-Y6wU38DC1"
      },
      "source": [
        "## Exploratory Data Analysis (EDA)"
      ]
    },
    {
      "cell_type": "markdown",
      "metadata": {
        "id": "MW7WF2kr8DC1"
      },
      "source": [
        "### Explore ..."
      ]
    },
    {
      "cell_type": "markdown",
      "metadata": {
        "id": "356vCR4H9yEi"
      },
      "source": [
        "**1. Statistik Deskriptif dari customers_df**"
      ]
    },
    {
      "cell_type": "code",
      "execution_count": 73,
      "metadata": {
        "colab": {
          "base_uri": "https://localhost:8080/"
        },
        "id": "e9CQCZjk8DC2",
        "outputId": "8a1f0bce-2a54-4112-e407-4a3b078e49b5"
      },
      "outputs": [
        {
          "name": "stdout",
          "output_type": "stream",
          "text": [
            "                             customer_id                customer_unique_id  \\\n",
            "count                              99441                             99441   \n",
            "unique                             99441                             96096   \n",
            "top     274fa6071e5e17fe303b9748641082c8  8d50f5eadf50201ccdcedfb9e2ac8455   \n",
            "freq                                   1                                17   \n",
            "mean                                 NaN                               NaN   \n",
            "std                                  NaN                               NaN   \n",
            "min                                  NaN                               NaN   \n",
            "25%                                  NaN                               NaN   \n",
            "50%                                  NaN                               NaN   \n",
            "75%                                  NaN                               NaN   \n",
            "max                                  NaN                               NaN   \n",
            "\n",
            "        customer_zip_code_prefix customer_city customer_state  \n",
            "count               99441.000000         99441          99441  \n",
            "unique                       NaN          4119             27  \n",
            "top                          NaN     sao paulo             SP  \n",
            "freq                         NaN         15540          41746  \n",
            "mean                35137.474583           NaN            NaN  \n",
            "std                 29797.938996           NaN            NaN  \n",
            "min                  1003.000000           NaN            NaN  \n",
            "25%                 11347.000000           NaN            NaN  \n",
            "50%                 24416.000000           NaN            NaN  \n",
            "75%                 58900.000000           NaN            NaN  \n",
            "max                 99990.000000           NaN            NaN  \n",
            "                            customer_id                customer_unique_id  \\\n",
            "34129  1c28481d143e1a14d3943639f5b5340a  e5402cd5f610a62fa80db20de9578490   \n",
            "50549  1e5e274f5f75c09122b857147166f53f  ba9839f887179b69f59497695179fb84   \n",
            "2386   48fdce8f3b86a9177f826892cc29b8ec  2edbc56cb0ca4af60be547d9a7d48895   \n",
            "96314  dc1834da069ea08c451cbb03961ee644  f851ddfafd2e30ed3944f49411b0f551   \n",
            "50470  c0220048be27a3faa01fab2bc5d5354f  a163d05eecb19576ff0157a8f55844f1   \n",
            "\n",
            "       customer_zip_code_prefix     customer_city customer_state  \n",
            "34129                     85440           ubirata             PR  \n",
            "50549                     13360          capivari             SP  \n",
            "2386                      18682  lencois paulista             SP  \n",
            "96314                     92030            canoas             RS  \n",
            "50470                     57545            inhapi             AL  \n",
            "Apakah customer_id unik? True\n",
            "Jumlah unik ID pelanggan per kota:\n",
            "customer_city\n",
            "sao paulo             15540\n",
            "rio de janeiro         6882\n",
            "belo horizonte         2773\n",
            "brasilia               2131\n",
            "curitiba               1521\n",
            "                      ...  \n",
            "ponto novo                1\n",
            "populina                  1\n",
            "porteiras                 1\n",
            "portela                   1\n",
            "pitanga de estrada        1\n",
            "Name: customer_id, Length: 4119, dtype: int64\n",
            "Jumlah unik ID pelanggan per negara bagian:\n",
            "customer_state\n",
            "SP    41746\n",
            "RJ    12852\n",
            "MG    11635\n",
            "RS     5466\n",
            "PR     5045\n",
            "SC     3637\n",
            "BA     3380\n",
            "DF     2140\n",
            "ES     2033\n",
            "GO     2020\n",
            "PE     1652\n",
            "CE     1336\n",
            "PA      975\n",
            "MT      907\n",
            "MA      747\n",
            "MS      715\n",
            "PB      536\n",
            "PI      495\n",
            "RN      485\n",
            "AL      413\n",
            "SE      350\n",
            "TO      280\n",
            "RO      253\n",
            "AM      148\n",
            "AC       81\n",
            "AP       68\n",
            "RR       46\n",
            "Name: customer_id, dtype: int64\n"
          ]
        }
      ],
      "source": [
        "# Statistik deskriptif dari customers_df\n",
        "print(customers_df.describe(include=\"all\"))\n",
        "\n",
        "# Contoh acak dari customers_df\n",
        "print(customers_df.sample(5))\n",
        "\n",
        "# Cek apakah customer_id unik\n",
        "is_unique = customers_df.customer_id.is_unique\n",
        "print(f\"Apakah customer_id unik? {is_unique}\")\n",
        "\n",
        "# Jumlah unik ID pelanggan per kota\n",
        "unique_customers_city = customers_df.groupby(by=\"customer_city\").customer_id.nunique().sort_values(ascending=False)\n",
        "print(\"Jumlah unik ID pelanggan per kota:\")\n",
        "print(unique_customers_city)\n",
        "\n",
        "# Jumlah unik ID pelanggan per negara bagian\n",
        "unique_customers_state = customers_df.groupby(by=\"customer_state\").customer_id.nunique().sort_values(ascending=False)\n",
        "print(\"Jumlah unik ID pelanggan per negara bagian:\")\n",
        "print(unique_customers_state)\n"
      ]
    },
    {
      "cell_type": "markdown",
      "metadata": {
        "id": "6fDgzZ2W91uv"
      },
      "source": [
        "**2. Statistik Deskriptif dari order_payments_df**"
      ]
    },
    {
      "cell_type": "code",
      "execution_count": 74,
      "metadata": {
        "colab": {
          "base_uri": "https://localhost:8080/"
        },
        "id": "fKDEME0X-NMg",
        "outputId": "6569653d-2379-48a3-9e15-99568eaf684a"
      },
      "outputs": [
        {
          "name": "stdout",
          "output_type": "stream",
          "text": [
            "                                order_id  payment_sequential payment_type  \\\n",
            "count                             103886       103886.000000       103886   \n",
            "unique                             99440                 NaN            5   \n",
            "top     fa65dad1b0e818e3ccc5cb0e39231352                 NaN  credit_card   \n",
            "freq                                  29                 NaN        76795   \n",
            "mean                                 NaN            1.092679          NaN   \n",
            "std                                  NaN            0.706584          NaN   \n",
            "min                                  NaN            1.000000          NaN   \n",
            "25%                                  NaN            1.000000          NaN   \n",
            "50%                                  NaN            1.000000          NaN   \n",
            "75%                                  NaN            1.000000          NaN   \n",
            "max                                  NaN           29.000000          NaN   \n",
            "\n",
            "        payment_installments  payment_value  \n",
            "count          103886.000000  103886.000000  \n",
            "unique                   NaN            NaN  \n",
            "top                      NaN            NaN  \n",
            "freq                     NaN            NaN  \n",
            "mean                2.853349     154.100380  \n",
            "std                 2.687051     217.494064  \n",
            "min                 0.000000       0.000000  \n",
            "25%                 1.000000      56.790000  \n",
            "50%                 1.000000     100.000000  \n",
            "75%                 4.000000     171.837500  \n",
            "max                24.000000   13664.080000  \n",
            "                               order_id  payment_sequential payment_type  \\\n",
            "1154   901b43947af8cf93ba28921adc6bbb8b                   1  credit_card   \n",
            "12203  3faea9ccc65ef88c63119314772b5598                   1  credit_card   \n",
            "66776  e0f9660f398f606fc4326973728ad4cd                   2      voucher   \n",
            "81172  0ed61f5ab3280ff43b157a6e91942538                   1  credit_card   \n",
            "94290  a9850cfaa6a85bd626e548413454f108                   1  credit_card   \n",
            "\n",
            "       payment_installments  payment_value  \n",
            "1154                      1          87.64  \n",
            "12203                     3          67.77  \n",
            "66776                     1          50.00  \n",
            "81172                     6         403.69  \n",
            "94290                     6         206.84  \n",
            "Jumlah unik ID pesanan per tipe pembayaran:\n",
            "payment_type\n",
            "credit_card    76505\n",
            "boleto         19784\n",
            "voucher         3866\n",
            "debit_card      1528\n",
            "not_defined        3\n",
            "Name: order_id, dtype: int64\n"
          ]
        }
      ],
      "source": [
        "# Statistik deskriptif dari order_payments_df\n",
        "print(order_payments_df.describe(include=\"all\"))\n",
        "\n",
        "# Contoh acak dari order_payments_df\n",
        "print(order_payments_df.sample(5))\n",
        "\n",
        "# Jumlah unik ID pesanan per tipe pembayaran\n",
        "unique_orders_payment_type = order_payments_df.groupby(by=\"payment_type\").order_id.nunique().sort_values(ascending=False)\n",
        "print(\"Jumlah unik ID pesanan per tipe pembayaran:\")\n",
        "print(unique_orders_payment_type)\n"
      ]
    },
    {
      "cell_type": "markdown",
      "metadata": {
        "id": "qQZVuGG_REnk"
      },
      "source": []
    },
    {
      "cell_type": "markdown",
      "metadata": {
        "id": "U_3d-y2N-cyZ"
      },
      "source": [
        "**3. Data orders_df**"
      ]
    },
    {
      "cell_type": "code",
      "execution_count": 75,
      "metadata": {
        "colab": {
          "base_uri": "https://localhost:8080/"
        },
        "id": "vvvNnnEdREEH",
        "outputId": "11e0fb86-2bd0-4c2a-f284-84101b301125"
      },
      "outputs": [
        {
          "name": "stdout",
          "output_type": "stream",
          "text": [
            "                               order_id                       customer_id  \\\n",
            "99288  2d74fd323d42fddd4e9a4398d5c589c6  17089785734f497b2cd404fc39932fda   \n",
            "26520  7cbf82e1c7dc73fa8949aefcdf3cfdc9  ce44006c34eee6e18fca84d926452692   \n",
            "85315  483ff5a41552b4071ff9d8bef07c6ee7  d4420d4e2444c03abf4a6e64563feea1   \n",
            "19919  ce0a53468ddde09e79f73edba370ceec  be661c8beed58e228518d223a539700e   \n",
            "17795  b40c4af3ffbbc82b406eb247212668f9  2e13d8aee4a4b6ba67b119efad66a999   \n",
            "\n",
            "      order_status order_purchase_timestamp   order_approved_at  \\\n",
            "99288    delivered      2017-08-08 17:18:06 2017-08-08 17:38:11   \n",
            "26520    delivered      2018-02-27 10:29:12 2018-02-28 09:55:46   \n",
            "85315    delivered      2018-02-16 13:57:31 2018-02-16 14:06:49   \n",
            "19919     canceled      2018-02-08 16:39:22 2018-02-08 17:29:35   \n",
            "17795    delivered      2018-01-04 17:09:02 2018-01-04 17:16:26   \n",
            "\n",
            "      order_delivered_carrier_date order_delivered_customer_date  \\\n",
            "99288          2017-08-09 18:32:53           2017-08-14 21:22:13   \n",
            "26520          2018-03-02 21:32:54           2018-03-20 17:18:55   \n",
            "85315          2018-02-23 22:52:14           2018-03-05 20:08:10   \n",
            "19919                          NaT                           NaT   \n",
            "17795          2018-01-31 22:46:58           2018-02-08 17:22:18   \n",
            "\n",
            "      order_estimated_delivery_date  \n",
            "99288                    2017-08-21  \n",
            "26520                    2018-03-28  \n",
            "85315                    2018-03-19  \n",
            "19919                    2018-03-08  \n",
            "17795                    2018-01-29  \n"
          ]
        }
      ],
      "source": [
        "# prompt: orders_df.sample(5)\n",
        "\n",
        "print(orders_df.sample(5))\n"
      ]
    },
    {
      "cell_type": "code",
      "execution_count": 76,
      "metadata": {
        "id": "dZjz0xplWiuT"
      },
      "outputs": [],
      "source": [
        "# prompt: # Menghitung selisih waktu pengiriman dalam detik\n",
        "# selisih_waktu_pengiriman = orders_df[\"order_delivered_customer_date\"] - orders_df[\"order_delivered_carrier_date\"]\n",
        "# selisih_waktu_pengiriman = selisih_waktu_pengiriman.apply(lambda x: x.total_seconds())\n",
        "# # Menambahkan kolom delivery_days dalam hari\n",
        "# orders_df[\"delivery_days\"] = round(selisih_waktu_pengiriman / 86400)\n",
        "\n",
        "# Menghitung selisih waktu pengiriman dalam detik\n",
        "selisih_waktu_pengiriman = orders_df[\"order_delivered_customer_date\"] - orders_df[\"order_delivered_carrier_date\"]\n",
        "selisih_waktu_pengiriman = selisih_waktu_pengiriman.dt.total_seconds() # Use dt accessor for datetime objects\n",
        "# Menambahkan kolom delivery_days dalam hari\n",
        "orders_df[\"delivery_days\"] = round(selisih_waktu_pengiriman / 86400)"
      ]
    },
    {
      "cell_type": "code",
      "execution_count": 77,
      "metadata": {
        "colab": {
          "base_uri": "https://localhost:8080/"
        },
        "id": "aR22VrMVWxZy",
        "outputId": "8ddfd827-24d6-44a8-b0cf-578eaa6bde74"
      },
      "outputs": [
        {
          "name": "stdout",
          "output_type": "stream",
          "text": [
            "                               order_id                       customer_id  \\\n",
            "32346  e83f4ca0e182aa00e538e354aea8a6a8  bd5ef06b3f1546fa26e653fc94df5a97   \n",
            "85291  343d0d5dcda28198afc688aaa821762f  de03a1499d92ae668adf7cbe3436ad1d   \n",
            "2661   3f8ef8494797fd747668dde5870c1a76  b3b7a79be761431b60e2945100e694cb   \n",
            "71039  bb5be1811a54b7c516ea8c1eeb48272a  38b44dd008d81d41ec5390f334a855e1   \n",
            "93847  5c4ec0b02d869e3ebd5468a344b99268  db2f809e35c2ad2c41a316d7c645aeb9   \n",
            "\n",
            "      order_status order_purchase_timestamp   order_approved_at  \\\n",
            "32346    delivered      2018-04-23 16:31:53 2018-04-24 17:50:37   \n",
            "85291    delivered      2017-11-07 23:35:30 2017-11-08 01:26:21   \n",
            "2661     delivered      2017-12-11 19:56:32 2017-12-11 20:11:47   \n",
            "71039    delivered      2018-07-05 14:45:14 2018-07-05 16:17:23   \n",
            "93847    delivered      2018-03-20 19:53:27 2018-03-20 20:08:20   \n",
            "\n",
            "      order_delivered_carrier_date order_delivered_customer_date  \\\n",
            "32346          2018-04-30 13:58:00           2018-05-07 14:08:42   \n",
            "85291          2017-11-09 18:36:28           2017-11-21 12:17:11   \n",
            "2661           2017-12-12 19:03:33           2017-12-21 19:29:00   \n",
            "71039          2018-07-06 11:05:00           2018-07-07 16:51:36   \n",
            "93847          2018-03-27 00:54:34           2018-04-04 23:13:40   \n",
            "\n",
            "      order_estimated_delivery_date  delivery_days  \n",
            "32346                    2018-05-07            7.0  \n",
            "85291                    2017-12-07           12.0  \n",
            "2661                     2018-01-05            9.0  \n",
            "71039                    2018-07-18            1.0  \n",
            "93847                    2018-04-06            9.0  \n"
          ]
        }
      ],
      "source": [
        "# prompt: orders_df.sample(5)\n",
        "\n",
        "print(orders_df.sample(5))\n"
      ]
    },
    {
      "cell_type": "code",
      "execution_count": 78,
      "metadata": {
        "colab": {
          "base_uri": "https://localhost:8080/"
        },
        "id": "t49ES9seXX1C",
        "outputId": "4b6cab3c-1972-4cc9-93b5-014c071b8feb"
      },
      "outputs": [
        {
          "name": "stdout",
          "output_type": "stream",
          "text": [
            "                            customer_id                customer_unique_id  \\\n",
            "36485  a3c9f9938f51f409773bbda6b13f7f3b  4162c8f38b17df48915250f4fcd3a080   \n",
            "69908  378ecea65f92a1ec086b469d9d0e20c1  4deb6655fc8cae677a82b424859b2576   \n",
            "34715  9cd9908817c0c07c4de221e72a128838  3722dfb5869de8db3dec5a7094dd9ad6   \n",
            "92087  f9a942e123f26ef3b2837f9b90e52bfa  8c07bbd74c60a5498b2bc1015d48bd60   \n",
            "53865  462440503feca45c383d83e790692061  2e80f02d8e19f90ec5ecf91f5a13811f   \n",
            "61654  6b7c4885e1dd12bd058d809f39e2d660  5ed603e92ce43d47e8f3a5ec4b1746d4   \n",
            "15422  9b19611cde9d30a2bab502ee94b70643  6bdfe930d9eef8346b551c53e41778b9   \n",
            "23284  7b02e94a2352d4185b50fe7503b4b753  6321bbd80d2615bf1ce7d905265f9681   \n",
            "59818  370beb82ba0d76cd2e15e6fd9d252abe  99da47faa711959b94cc6cae8ba5ccf4   \n",
            "27113  7f0c5c75576d4445ce6793cc0083c358  d7dbbc7712693c0578ead69f29911162   \n",
            "\n",
            "       customer_zip_code_prefix   customer_city customer_state  status  \n",
            "36485                     71660        brasilia             DF  Active  \n",
            "69908                      6154          osasco             SP  Active  \n",
            "34715                     15808       catanduva             SP  Active  \n",
            "92087                     30180  belo horizonte             MG  Active  \n",
            "53865                     13098        campinas             SP  Active  \n",
            "61654                     33040     santa luzia             MG  Active  \n",
            "15422                     35400      ouro preto             MG  Active  \n",
            "23284                     23535  rio de janeiro             RJ  Active  \n",
            "59818                     22760  rio de janeiro             RJ  Active  \n",
            "27113                     13219         jundiai             SP  Active  \n"
          ]
        }
      ],
      "source": [
        "# Membuat daftar customer_id dari orders_df\n",
        "daftar_customer_id = orders_df[\"customer_id\"].tolist()\n",
        "\n",
        "# Menandai status pelanggan sebagai \"Active\" atau \"Non Active\" di customers_df\n",
        "customers_df[\"status\"] = customers_df[\"customer_id\"].apply(lambda id: \"Active\" if id in daftar_customer_id else \"Non Active\")\n",
        "\n",
        "# Menampilkan 10 baris acak dari customers_df setelah penambahan kolom status\n",
        "print(customers_df.sample(10))"
      ]
    },
    {
      "cell_type": "code",
      "execution_count": 79,
      "metadata": {
        "colab": {
          "base_uri": "https://localhost:8080/"
        },
        "id": "eiIQx4mOY1wL",
        "outputId": "30f94c98-9907-49a9-82a3-ab218ded21e6"
      },
      "outputs": [
        {
          "name": "stdout",
          "output_type": "stream",
          "text": [
            "status\n",
            "Active    99441\n",
            "Name: customer_id, dtype: int64\n"
          ]
        }
      ],
      "source": [
        "# prompt: ustomers_df.groupby(by=\"status\").customer_id.count()\n",
        "\n",
        "print(customers_df.groupby(by=\"status\").customer_id.count())"
      ]
    },
    {
      "cell_type": "markdown",
      "metadata": {
        "id": "f2R0S4trZN0m"
      },
      "source": [
        "**4. Menggabungkan data customers_df dan orders_df**"
      ]
    },
    {
      "cell_type": "code",
      "execution_count": 80,
      "metadata": {
        "colab": {
          "base_uri": "https://localhost:8080/"
        },
        "id": "SLBNydGRZW_p",
        "outputId": "39afd483-c525-4b08-bab3-f4bfa217696a"
      },
      "outputs": [
        {
          "name": "stdout",
          "output_type": "stream",
          "text": [
            "                        customer_id                customer_unique_id  \\\n",
            "0  06b8999e2fba1a1fbc88172c00ba8bc7  861eff4711a542e4b93843c6dd7febb0   \n",
            "1  18955e83d337fd6b2def6b18a428ac77  290c77bc529b7ac935b93aa66c333dc3   \n",
            "2  4e7b3e00288586ebd08712fdd0374a03  060e732b5b29e8181a18229c7b0b2b5e   \n",
            "3  b2b6027bc5c5109e529d4dc6358b12c3  259dac757896d24d7702b9acbbff3f3c   \n",
            "4  4f2d8ab171c80ec8364f7c12e35b23ad  345ecd01c38d18a9036ed96c73b8d066   \n",
            "\n",
            "   customer_zip_code_prefix          customer_city customer_state  status  \\\n",
            "0                     14409                 franca             SP  Active   \n",
            "1                      9790  sao bernardo do campo             SP  Active   \n",
            "2                      1151              sao paulo             SP  Active   \n",
            "3                      8775        mogi das cruzes             SP  Active   \n",
            "4                     13056               campinas             SP  Active   \n",
            "\n",
            "                           order_id order_status order_purchase_timestamp  \\\n",
            "0  00e7ee1b050b8499577073aeb2a297a1    delivered      2017-05-16 15:05:35   \n",
            "1  29150127e6685892b6eab3eec79f59c7    delivered      2018-01-12 20:48:24   \n",
            "2  b2059ed67ce144a36e2aa97d2c9e9ad2    delivered      2018-05-19 16:07:45   \n",
            "3  951670f92359f4fe4a63112aa7306eba    delivered      2018-03-13 16:06:38   \n",
            "4  6b7d50bd145f6fc7f33cebabd7e49d0f    delivered      2018-07-29 09:51:30   \n",
            "\n",
            "    order_approved_at order_delivered_carrier_date  \\\n",
            "0 2017-05-16 15:22:12          2017-05-23 10:47:57   \n",
            "1 2018-01-12 20:58:32          2018-01-15 17:14:59   \n",
            "2 2018-05-20 16:19:10          2018-06-11 14:31:00   \n",
            "3 2018-03-13 17:29:19          2018-03-27 23:22:42   \n",
            "4 2018-07-29 10:10:09          2018-07-30 15:16:00   \n",
            "\n",
            "  order_delivered_customer_date order_estimated_delivery_date  delivery_days  \n",
            "0           2017-05-25 10:35:35                    2017-06-05            2.0  \n",
            "1           2018-01-29 12:41:19                    2018-02-06           14.0  \n",
            "2           2018-06-14 17:58:51                    2018-06-13            3.0  \n",
            "3           2018-03-28 16:04:25                    2018-04-10            1.0  \n",
            "4           2018-08-09 20:55:48                    2018-08-15           10.0  \n"
          ]
        }
      ],
      "source": [
        "# Menggabungkan DataFrame customers_df dengan orders_df\n",
        "customers_orders_merged = customers_df.merge(\n",
        "    orders_df,\n",
        "    how=\"left\",\n",
        "    on=\"customer_id\"\n",
        ")\n",
        "# Menampilkan 5 baris pertama dari hasil penggabungan\n",
        "print(customers_orders_merged.head())"
      ]
    },
    {
      "cell_type": "code",
      "execution_count": 81,
      "metadata": {
        "colab": {
          "base_uri": "https://localhost:8080/"
        },
        "id": "fBcVA6D8Ztl9",
        "outputId": "4cf2925a-903b-4ed3-840c-c0f37bba1590"
      },
      "outputs": [
        {
          "name": "stdout",
          "output_type": "stream",
          "text": [
            "customer_city\n",
            "sao paulo                15540\n",
            "rio de janeiro            6882\n",
            "belo horizonte            2773\n",
            "brasilia                  2131\n",
            "curitiba                  1521\n",
            "campinas                  1444\n",
            "porto alegre              1379\n",
            "salvador                  1245\n",
            "guarulhos                 1189\n",
            "sao bernardo do campo      938\n",
            "Name: order_id, dtype: int64\n"
          ]
        }
      ],
      "source": [
        "# Menggabungkan DataFrame customers_df dengan orders_df\n",
        "customers_orders_df = customers_df.merge(orders_df, how=\"left\", on=\"customer_id\")\n",
        "\n",
        "# Menentukan 10 kota teratas berdasarkan jumlah pesanan unik\n",
        "top_10_cities = customers_orders_df.groupby(\"customer_city\").order_id.nunique().sort_values(ascending=False).head(10)\n",
        "\n",
        "# Menampilkan hasil\n",
        "print(top_10_cities)\n"
      ]
    },
    {
      "cell_type": "code",
      "execution_count": 82,
      "metadata": {
        "colab": {
          "base_uri": "https://localhost:8080/"
        },
        "id": "VrXqXqwgbo3h",
        "outputId": "e8ab6b68-5ab9-4cfe-c909-ff4ccec10109"
      },
      "outputs": [
        {
          "name": "stdout",
          "output_type": "stream",
          "text": [
            "10 negara bagian teratas berdasarkan jumlah pesanan unik:\n",
            "customer_state\n",
            "SP    41746\n",
            "RJ    12852\n",
            "MG    11635\n",
            "RS     5466\n",
            "PR     5045\n",
            "SC     3637\n",
            "BA     3380\n",
            "DF     2140\n",
            "ES     2033\n",
            "GO     2020\n",
            "Name: order_id, dtype: int64\n"
          ]
        }
      ],
      "source": [
        "# Asumsikan customers_orders_df sudah terdefinisi dan terisi seperti dalam konteks yang diberikan\n",
        "top_10_states = customers_orders_df.groupby(\"customer_state\")[\"order_id\"].nunique().sort_values(ascending=False).head(10)\n",
        "\n",
        "# Menampilkan hasil\n",
        "print(\"10 negara bagian teratas berdasarkan jumlah pesanan unik:\")\n",
        "print(top_10_states)\n"
      ]
    },
    {
      "cell_type": "code",
      "execution_count": 83,
      "metadata": {
        "colab": {
          "base_uri": "https://localhost:8080/"
        },
        "id": "kx9X0nDhcRWv",
        "outputId": "3e3fdc91-4d40-4646-d3e2-1e688786af2d"
      },
      "outputs": [
        {
          "name": "stdout",
          "output_type": "stream",
          "text": [
            "10 negara bagian teratas berdasarkan jumlah pesanan unik:\n",
            "customer_state\n",
            "SP    41746\n",
            "RJ    12852\n",
            "MG    11635\n",
            "RS     5466\n",
            "PR     5045\n",
            "SC     3637\n",
            "BA     3380\n",
            "DF     2140\n",
            "ES     2033\n",
            "GO     2020\n",
            "Name: order_id, dtype: int64\n"
          ]
        }
      ],
      "source": [
        "# Mengelompokkan data berdasarkan customer_state dan menghitung jumlah unik order_id\n",
        "top_10_states = customers_orders_df.groupby(\"customer_state\")[\"order_id\"].nunique().sort_values(ascending=False).head(10)\n",
        "\n",
        "# Menampilkan hasil\n",
        "print(\"10 negara bagian teratas berdasarkan jumlah pesanan unik:\")\n",
        "print(top_10_states)"
      ]
    },
    {
      "cell_type": "code",
      "execution_count": 84,
      "metadata": {
        "colab": {
          "base_uri": "https://localhost:8080/"
        },
        "id": "7KRorYoNc0EX",
        "outputId": "77ad3892-1951-415c-eabf-a586e968683a"
      },
      "outputs": [
        {
          "name": "stdout",
          "output_type": "stream",
          "text": [
            "10 kode pos teratas berdasarkan jumlah pesanan unik:\n",
            "customer_zip_code_prefix\n",
            "22790    142\n",
            "24220    124\n",
            "22793    121\n",
            "24230    117\n",
            "22775    110\n",
            "29101    101\n",
            "13212     95\n",
            "35162     93\n",
            "22631     89\n",
            "38400     87\n",
            "Name: order_id, dtype: int64\n"
          ]
        }
      ],
      "source": [
        "# Mengelompokkan data berdasarkan customer_zip_code_prefix dan menghitung jumlah unik order_id\n",
        "top_10_zip_codes = customers_orders_df.groupby(\"customer_zip_code_prefix\")[\"order_id\"].nunique().sort_values(ascending=False).head(10)\n",
        "\n",
        "# Menampilkan hasil\n",
        "print(\"10 kode pos teratas berdasarkan jumlah pesanan unik:\")\n",
        "print(top_10_zip_codes)\n"
      ]
    },
    {
      "cell_type": "markdown",
      "metadata": {
        "id": "mCZCDIqMdD97"
      },
      "source": [
        "**5. Menggabungkan data order_payments_df dan order_reviews_df**"
      ]
    },
    {
      "cell_type": "code",
      "execution_count": 85,
      "metadata": {
        "colab": {
          "base_uri": "https://localhost:8080/"
        },
        "id": "yYTY9t_2dFrS",
        "outputId": "e5ee3c68-3ac4-48fc-f90c-150f9ae948dc"
      },
      "outputs": [
        {
          "name": "stdout",
          "output_type": "stream",
          "text": [
            "                           order_id  payment_sequential payment_type  \\\n",
            "0  b81ef226f3fe1789b1e8b2acac839d17                   1  credit_card   \n",
            "1  a9810da82917af2d9aefd1278f1dcfa0                   1  credit_card   \n",
            "2  25e8ea4e93396b6fa0d3dd708e76c1bd                   1  credit_card   \n",
            "3  ba78997921bbcdc1373bb41e913ab953                   1  credit_card   \n",
            "4  ba78997921bbcdc1373bb41e913ab953                   1  credit_card   \n",
            "\n",
            "   payment_installments  payment_value                         review_id  \\\n",
            "0                     8          99.33  4ce650e117a5b292bf5ea980a61eb61e   \n",
            "1                     1          24.39  ad2036caca61484fc435d7e673c020f2   \n",
            "2                     1          65.71  bcddfa0f7d2e54cfc74bae4f01b84d92   \n",
            "3                     8         107.78  c37a0e51e5df82bdb55d38ff0ffb6af3   \n",
            "4                     8         107.78  5bc7680443b4ef765fec11a8201eeb0c   \n",
            "\n",
            "   review_score review_comment_title  \\\n",
            "0           1.0        Não recomendo   \n",
            "1           5.0      sem comentários   \n",
            "2           5.0      sem comentários   \n",
            "3           5.0      sem comentários   \n",
            "4           5.0      sem comentários   \n",
            "\n",
            "                              review_comment_message review_creation_date  \\\n",
            "0  Produto com qualidade ruim, amassado e descasc...           2018-05-10   \n",
            "1                                    sem comentários           2018-06-30   \n",
            "2                                           Aprovada           2017-12-19   \n",
            "3                                    sem comentários           2017-12-21   \n",
            "4                                    sem comentários           2017-12-21   \n",
            "\n",
            "  review_answer_timestamp  \n",
            "0     2018-05-15 23:38:00  \n",
            "1     2018-07-03 11:23:16  \n",
            "2     2017-12-22 17:55:30  \n",
            "3     2017-12-21 21:42:31  \n",
            "4     2017-12-22 01:10:39  \n"
          ]
        }
      ],
      "source": [
        "# Menggabungkan DataFrame order_payments_df dengan order_reviews_df\n",
        "merged_order_payment_reviews = order_payments_df.merge(\n",
        "    order_reviews_df,\n",
        "    how=\"left\",\n",
        "    on=\"order_id\"\n",
        ")\n",
        "\n",
        "# Menampilkan 5 baris pertama dari hasil penggabungan\n",
        "print(merged_order_payment_reviews.head())\n"
      ]
    },
    {
      "cell_type": "code",
      "execution_count": 86,
      "metadata": {
        "colab": {
          "base_uri": "https://localhost:8080/"
        },
        "id": "Aj7fkFlkdanM",
        "outputId": "46828f01-7cb3-4a29-9d3e-f6cbcc7178e9"
      },
      "outputs": [
        {
          "name": "stdout",
          "output_type": "stream",
          "text": [
            "10 metode pembayaran teratas berdasarkan jumlah pesanan unik:\n",
            "payment_type\n",
            "credit_card    76505\n",
            "boleto         19784\n",
            "voucher         3866\n",
            "debit_card      1528\n",
            "not_defined        3\n",
            "Name: order_id, dtype: int64\n"
          ]
        }
      ],
      "source": [
        "# Menggabungkan DataFrame order_payments_df dengan order_reviews_df\n",
        "order_payment_reviews_df = order_payments_df.merge(order_reviews_df, how=\"left\", on=\"order_id\")\n",
        "\n",
        "# Mengelompokkan data berdasarkan payment_type dan menghitung jumlah unik order_id\n",
        "top_10_payment_methods = order_payment_reviews_df.groupby(\"payment_type\")[\"order_id\"].nunique().sort_values(ascending=False).head(10)\n",
        "\n",
        "# Menampilkan hasil\n",
        "print(\"10 metode pembayaran teratas berdasarkan jumlah pesanan unik:\")\n",
        "print(top_10_payment_methods)\n"
      ]
    },
    {
      "cell_type": "code",
      "execution_count": 87,
      "metadata": {
        "colab": {
          "base_uri": "https://localhost:8080/"
        },
        "id": "2m6-tnmueP7z",
        "outputId": "954ff603-b4d7-4f75-cb86-fbf4834db059"
      },
      "outputs": [
        {
          "name": "stdout",
          "output_type": "stream",
          "text": [
            "                                order_id  payment_sequential payment_type  \\\n",
            "52415   03caa2c082116e1d31e67e9ae3700499                   1  credit_card   \n",
            "34565   736e1922ae60d0d6a89247b851902527                   1       boleto   \n",
            "41660   0812eb902a67711a1cb742b3cdaa65ae                   1  credit_card   \n",
            "49871   fefacc66af859508bf1a7934eab1e97f                   1       boleto   \n",
            "86018   f5136e38d1a14a4dbd87dff67da82701                   1       boleto   \n",
            "...                                  ...                 ...          ...   \n",
            "101330  b23878b3e8eb4d25a158f57d96331b18                   4      voucher   \n",
            "78326   fa65dad1b0e818e3ccc5cb0e39231352                  13      voucher   \n",
            "51581   4637ca194b6387e2d538dc89b124b0ee                   1  not_defined   \n",
            "44001   6ccb433e00daae1283ccc956189c82ae                   4      voucher   \n",
            "94953   c8c528189310eaa44a745b8d9d26908b                   1  not_defined   \n",
            "\n",
            "        payment_installments  payment_value                         review_id  \\\n",
            "52415                      1       13664.08  211fa81a22870cc634265ea85b751e40   \n",
            "34565                      1        7274.88  6b9a600f1bb824da4ca38f65baf42526   \n",
            "41660                      8        6929.31  e2fbd9f0ef7b724c7ecb351601a857e7   \n",
            "49871                      1        6922.21                               NaN   \n",
            "86018                      1        6726.66  1b73e6c7cd135008ebeb18404b776ddc   \n",
            "...                      ...            ...                               ...   \n",
            "101330                     1           0.00  f75bfd523e8001ea6c62f86c48fae8a9   \n",
            "78326                      1           0.00  f28281373ab8815bafafe371218f02ce   \n",
            "51581                      1           0.00  9efef4d70190c1bdb9b12872cc8144fc   \n",
            "44001                      1           0.00  8d0e1d286cc6f63e3a784779c9d1f7d8   \n",
            "94953                      1           0.00  b54d02f7f1520b3995f84b77ab0dacb3   \n",
            "\n",
            "        review_score       review_comment_title  \\\n",
            "52415            1.0            sem comentários   \n",
            "34565            1.0         Entrega incompleta   \n",
            "41660            5.0            sem comentários   \n",
            "49871            NaN                        NaN   \n",
            "86018            5.0            sem comentários   \n",
            "...              ...                        ...   \n",
            "101330           5.0            sem comentários   \n",
            "78326            1.0            sem comentários   \n",
            "51581            3.0           Produto Avariado   \n",
            "44001            4.0            sem comentários   \n",
            "94953            1.0  Péssima meu produtdefeito   \n",
            "\n",
            "                                   review_comment_message  \\\n",
            "52415   Peço por favor verificar a entrega do pedido, ...   \n",
            "34565   Comprei 04 unidades, e foram entregues apenas ...   \n",
            "41660   Mesmo a máquina ter vindo errada, já se pronti...   \n",
            "49871                                                 NaN   \n",
            "86018                                     sem comentários   \n",
            "...                                                   ...   \n",
            "101330                                    sem comentários   \n",
            "78326   A mercadoria não foi entregue. Entrara em cont...   \n",
            "51581   Recebi o Diario do Bebê c um pequeno rasgo na ...   \n",
            "44001                                     sem comentários   \n",
            "94953                                     sem comentários   \n",
            "\n",
            "       review_creation_date review_answer_timestamp  \n",
            "52415            2017-10-18     2017-10-19 13:10:39  \n",
            "34565            2018-07-27     2018-07-28 02:36:10  \n",
            "41660            2017-03-04     2017-03-04 21:40:41  \n",
            "49871                   NaT                     NaT  \n",
            "86018            2017-06-06     2017-06-07 19:35:23  \n",
            "...                     ...                     ...  \n",
            "101330           2017-06-08     2017-06-10 19:28:35  \n",
            "78326            2017-05-21     2017-05-24 16:21:27  \n",
            "51581            2018-08-17     2018-08-18 15:32:40  \n",
            "44001            2017-11-09     2018-02-14 13:57:57  \n",
            "94953            2018-08-24     2018-08-25 02:24:54  \n",
            "\n",
            "[104477 rows x 11 columns]\n"
          ]
        }
      ],
      "source": [
        "# Mengurutkan data berdasarkan nilai pembayaran secara menurun\n",
        "sorted_order_payments_reviews = order_payment_reviews_df.sort_values(\"payment_value\", ascending=False)\n",
        "\n",
        "# Menampilkan data\n",
        "print(sorted_order_payments_reviews[['order_id', 'payment_sequential', 'payment_type', 'payment_installments', 'payment_value', 'review_id', 'review_score', 'review_comment_title', 'review_comment_message', 'review_creation_date', 'review_answer_timestamp']])\n"
      ]
    },
    {
      "cell_type": "code",
      "execution_count": 88,
      "metadata": {
        "colab": {
          "base_uri": "https://localhost:8080/",
          "height": 269
        },
        "id": "AyLNEL3IfVk1",
        "outputId": "0a415190-39a2-41c9-ca72-1cb9d86848e7"
      },
      "outputs": [
        {
          "data": {
            "text/html": [
              "<div>\n",
              "<style scoped>\n",
              "    .dataframe tbody tr th:only-of-type {\n",
              "        vertical-align: middle;\n",
              "    }\n",
              "\n",
              "    .dataframe tbody tr th {\n",
              "        vertical-align: top;\n",
              "    }\n",
              "\n",
              "    .dataframe thead tr th {\n",
              "        text-align: left;\n",
              "    }\n",
              "\n",
              "    .dataframe thead tr:last-of-type th {\n",
              "        text-align: right;\n",
              "    }\n",
              "</style>\n",
              "<table border=\"1\" class=\"dataframe\">\n",
              "  <thead>\n",
              "    <tr>\n",
              "      <th></th>\n",
              "      <th>order_id</th>\n",
              "      <th colspan=\"2\" halign=\"left\">payment_value</th>\n",
              "    </tr>\n",
              "    <tr>\n",
              "      <th></th>\n",
              "      <th>nunique</th>\n",
              "      <th>min</th>\n",
              "      <th>max</th>\n",
              "    </tr>\n",
              "    <tr>\n",
              "      <th>payment_type</th>\n",
              "      <th></th>\n",
              "      <th></th>\n",
              "      <th></th>\n",
              "    </tr>\n",
              "  </thead>\n",
              "  <tbody>\n",
              "    <tr>\n",
              "      <th>boleto</th>\n",
              "      <td>19784</td>\n",
              "      <td>11.62</td>\n",
              "      <td>7274.88</td>\n",
              "    </tr>\n",
              "    <tr>\n",
              "      <th>credit_card</th>\n",
              "      <td>76505</td>\n",
              "      <td>0.01</td>\n",
              "      <td>13664.08</td>\n",
              "    </tr>\n",
              "    <tr>\n",
              "      <th>debit_card</th>\n",
              "      <td>1528</td>\n",
              "      <td>13.38</td>\n",
              "      <td>4445.50</td>\n",
              "    </tr>\n",
              "    <tr>\n",
              "      <th>not_defined</th>\n",
              "      <td>3</td>\n",
              "      <td>0.00</td>\n",
              "      <td>0.00</td>\n",
              "    </tr>\n",
              "    <tr>\n",
              "      <th>voucher</th>\n",
              "      <td>3866</td>\n",
              "      <td>0.00</td>\n",
              "      <td>3184.34</td>\n",
              "    </tr>\n",
              "  </tbody>\n",
              "</table>\n",
              "</div>"
            ],
            "text/plain": [
              "             order_id payment_value          \n",
              "              nunique           min       max\n",
              "payment_type                                 \n",
              "boleto          19784         11.62   7274.88\n",
              "credit_card     76505          0.01  13664.08\n",
              "debit_card       1528         13.38   4445.50\n",
              "not_defined         3          0.00      0.00\n",
              "voucher          3866          0.00   3184.34"
            ]
          },
          "execution_count": 88,
          "metadata": {},
          "output_type": "execute_result"
        }
      ],
      "source": [
        "# Mengelompokkan data berdasarkan payment_type dan melakukan agresi\n",
        "order_payment_reviews_df.groupby(by=\"payment_type\").agg({\n",
        "    \"order_id\": \"nunique\",\n",
        "    \"payment_value\":  [\"min\", \"max\"]\n",
        "})"
      ]
    },
    {
      "cell_type": "markdown",
      "metadata": {
        "id": "slT3XcIrgXWL"
      },
      "source": [
        "**6. Membuat data customers baru**"
      ]
    },
    {
      "cell_type": "code",
      "execution_count": 89,
      "metadata": {
        "colab": {
          "base_uri": "https://localhost:8080/"
        },
        "id": "huJpz5CjgYh0",
        "outputId": "c5f982a7-a310-4702-a25c-660448e0d3c7"
      },
      "outputs": [
        {
          "name": "stdout",
          "output_type": "stream",
          "text": [
            "                        customer_id                customer_unique_id  \\\n",
            "0  06b8999e2fba1a1fbc88172c00ba8bc7  861eff4711a542e4b93843c6dd7febb0   \n",
            "1  18955e83d337fd6b2def6b18a428ac77  290c77bc529b7ac935b93aa66c333dc3   \n",
            "2  4e7b3e00288586ebd08712fdd0374a03  060e732b5b29e8181a18229c7b0b2b5e   \n",
            "3  b2b6027bc5c5109e529d4dc6358b12c3  259dac757896d24d7702b9acbbff3f3c   \n",
            "4  4f2d8ab171c80ec8364f7c12e35b23ad  345ecd01c38d18a9036ed96c73b8d066   \n",
            "\n",
            "   customer_zip_code_prefix          customer_city customer_state  status  \\\n",
            "0                     14409                 franca             SP  Active   \n",
            "1                      9790  sao bernardo do campo             SP  Active   \n",
            "2                      1151              sao paulo             SP  Active   \n",
            "3                      8775        mogi das cruzes             SP  Active   \n",
            "4                     13056               campinas             SP  Active   \n",
            "\n",
            "                           order_id order_status order_purchase_timestamp  \\\n",
            "0  00e7ee1b050b8499577073aeb2a297a1    delivered      2017-05-16 15:05:35   \n",
            "1  29150127e6685892b6eab3eec79f59c7    delivered      2018-01-12 20:48:24   \n",
            "2  b2059ed67ce144a36e2aa97d2c9e9ad2    delivered      2018-05-19 16:07:45   \n",
            "3  951670f92359f4fe4a63112aa7306eba    delivered      2018-03-13 16:06:38   \n",
            "4  6b7d50bd145f6fc7f33cebabd7e49d0f    delivered      2018-07-29 09:51:30   \n",
            "\n",
            "    order_approved_at  ... payment_sequential payment_type  \\\n",
            "0 2017-05-16 15:22:12  ...                1.0  credit_card   \n",
            "1 2018-01-12 20:58:32  ...                1.0  credit_card   \n",
            "2 2018-05-20 16:19:10  ...                1.0  credit_card   \n",
            "3 2018-03-13 17:29:19  ...                1.0  credit_card   \n",
            "4 2018-07-29 10:10:09  ...                1.0  credit_card   \n",
            "\n",
            "  payment_installments  payment_value                         review_id  \\\n",
            "0                  2.0         146.87  88b8b52d46df026a9d1ad2136a59b30b   \n",
            "1                  8.0         335.48  02fc48a9efa3e3d0f1a8ea26507eeec3   \n",
            "2                  7.0         157.73  5ad6695d76ee186dc473c42706984d87   \n",
            "3                  1.0         173.30  059a801bb31f6aab2266e672cab87bc5   \n",
            "4                  8.0         252.25  8490879d58d6c5d7773f2739a03f089a   \n",
            "\n",
            "  review_score  review_comment_title  \\\n",
            "0          4.0       sem comentários   \n",
            "1          5.0       sem comentários   \n",
            "2          5.0       sem comentários   \n",
            "3          5.0       sem comentários   \n",
            "4          5.0         a melhor nota   \n",
            "\n",
            "                          review_comment_message review_creation_date  \\\n",
            "0                                sem comentários           2017-05-26   \n",
            "1                                sem comentários           2018-01-30   \n",
            "2                                sem comentários           2018-06-15   \n",
            "3                                sem comentários           2018-03-29   \n",
            "4  O baratheon è esxelente Amo adoro o baratheon           2018-08-10   \n",
            "\n",
            "   review_answer_timestamp  \n",
            "0      2017-05-30 22:34:40  \n",
            "1      2018-02-10 22:43:29  \n",
            "2      2018-06-15 12:10:59  \n",
            "3      2018-04-02 18:36:47  \n",
            "4      2018-08-17 01:59:52  \n",
            "\n",
            "[5 rows x 24 columns]\n"
          ]
        }
      ],
      "source": [
        "# Menggabungkan DataFrame customers_orders_df dengan order_payment_reviews_df\n",
        "new_customers_df = customers_orders_df.merge(\n",
        "    order_payment_reviews_df,\n",
        "    how=\"left\",\n",
        "    on=\"order_id\"\n",
        ")\n",
        "\n",
        "# Menampilkan 5 baris pertama dari hasil penggabungan\n",
        "print(new_customers_df.head())\n"
      ]
    },
    {
      "cell_type": "markdown",
      "metadata": {
        "id": "9ssmvkn2g5Q1"
      },
      "source": [
        "**7. Menggabungkan data orders_item_df dan sellers_df**"
      ]
    },
    {
      "cell_type": "code",
      "execution_count": 90,
      "metadata": {
        "colab": {
          "base_uri": "https://localhost:8080/"
        },
        "id": "rSCx-uDninK9",
        "outputId": "986b1e4d-61bf-4f52-e17b-52ccf35520b3"
      },
      "outputs": [
        {
          "name": "stdout",
          "output_type": "stream",
          "text": [
            "                           order_id  order_item_id  \\\n",
            "0  00010242fe8c5a6d1ba2dd792cb16214              1   \n",
            "1  00018f77f2f0320c557190d7a144bdd3              1   \n",
            "2  000229ec398224ef6ca0657da4fc703e              1   \n",
            "3  00024acbcdf0a6daa1e931b038114c75              1   \n",
            "4  00042b26cf59d7ce69dfabb4e55b4fd9              1   \n",
            "\n",
            "                         product_id                         seller_id  \\\n",
            "0  4244733e06e7ecb4970a6e2683c13e61  48436dade18ac8b2bce089ec2a041202   \n",
            "1  e5f2d52b802189ee658865ca93d83a8f  dd7ddc04e1b6c2c614352b383efe2d36   \n",
            "2  c777355d18b72b67abbeef9df44fd0fd  5b51032eddd242adc84c38acab88f23d   \n",
            "3  7634da152a4610f1595efa32f14722fc  9d7a1d34a5052409006425275ba1c2b4   \n",
            "4  ac6c3623068f30de03045865e4e10089  df560393f3a51e74553ab94004ba5c87   \n",
            "\n",
            "  shipping_limit_date   price  freight_value  seller_zip_code_prefix  \\\n",
            "0 2017-09-19 09:45:35   58.90          13.29                   27277   \n",
            "1 2017-05-03 11:05:13  239.90          19.93                    3471   \n",
            "2 2018-01-18 14:48:30  199.00          17.87                   37564   \n",
            "3 2018-08-15 10:10:18   12.99          12.79                   14403   \n",
            "4 2017-02-13 13:57:51  199.90          18.14                   87900   \n",
            "\n",
            "     seller_city seller_state  \n",
            "0  volta redonda           SP  \n",
            "1      sao paulo           SP  \n",
            "2  borda da mata           MG  \n",
            "3         franca           SP  \n",
            "4         loanda           PR  \n"
          ]
        }
      ],
      "source": [
        "# Menggabungkan DataFrame order_items_df dengan sellers_df\n",
        "order_items_seller_df = order_items_df.merge(\n",
        "    sellers_df,\n",
        "    how=\"left\",\n",
        "    on=\"seller_id\"\n",
        ")\n",
        "\n",
        "# Menampilkan 5 baris pertama dari hasil penggabungan\n",
        "print(order_items_seller_df.head())\n"
      ]
    },
    {
      "cell_type": "code",
      "execution_count": 91,
      "metadata": {
        "colab": {
          "base_uri": "https://localhost:8080/"
        },
        "id": "Dmpr6Ip8iMDX",
        "outputId": "23da9c00-306a-445b-eea8-4044c89b7804"
      },
      "outputs": [
        {
          "name": "stdout",
          "output_type": "stream",
          "text": [
            "10 kota dengan jumlah penjual unik terbanyak:\n",
            "seller_city\n",
            "sao paulo         694\n",
            "curitiba          127\n",
            "rio de janeiro     96\n",
            "belo horizonte     68\n",
            "ribeirao preto     52\n",
            "guarulhos          50\n",
            "ibitinga           49\n",
            "santo andre        45\n",
            "campinas           41\n",
            "maringa            40\n",
            "Name: seller_id, dtype: int64\n"
          ]
        }
      ],
      "source": [
        "# Mengelompokkan data berdasarkan seller_city dan menghitung jumlah unik seller_id\n",
        "top_10_seller_cities = order_items_seller_df.groupby(\"seller_city\")[\"seller_id\"].nunique().sort_values(ascending=False).head(10)\n",
        "\n",
        "# Menampilkan hasil\n",
        "print(\"10 kota dengan jumlah penjual unik terbanyak:\")\n",
        "print(top_10_seller_cities)\n"
      ]
    },
    {
      "cell_type": "code",
      "execution_count": 92,
      "metadata": {
        "colab": {
          "base_uri": "https://localhost:8080/"
        },
        "id": "LXBLbHssi6CI",
        "outputId": "04638174-a9c3-4ad3-9bb7-8c9455530e91"
      },
      "outputs": [
        {
          "name": "stdout",
          "output_type": "stream",
          "text": [
            "10 negara bagian dengan jumlah penjual unik terbanyak:\n",
            "seller_state\n",
            "SP    1849\n",
            "PR     349\n",
            "MG     244\n",
            "SC     190\n",
            "RJ     171\n",
            "RS     129\n",
            "GO      40\n",
            "DF      30\n",
            "ES      23\n",
            "BA      19\n",
            "Name: seller_id, dtype: int64\n"
          ]
        }
      ],
      "source": [
        "# Mengelompokkan data berdasarkan seller_state dan menghitung jumlah unik seller_id\n",
        "top_10_seller_states = order_items_seller_df.groupby(\"seller_state\")[\"seller_id\"].nunique().sort_values(ascending=False).head(10)\n",
        "\n",
        "# Menampilkan hasil\n",
        "print(\"10 negara bagian dengan jumlah penjual unik terbanyak:\")\n",
        "print(top_10_seller_states)\n"
      ]
    },
    {
      "cell_type": "markdown",
      "metadata": {
        "id": "cT0CP_RhjGS9"
      },
      "source": [
        "**8. Membuat data product baru**"
      ]
    },
    {
      "cell_type": "code",
      "execution_count": 93,
      "metadata": {
        "colab": {
          "base_uri": "https://localhost:8080/"
        },
        "id": "ahwlglGjjHoQ",
        "outputId": "268a96d5-efd6-49be-f23b-f2ec124e4029"
      },
      "outputs": [
        {
          "name": "stdout",
          "output_type": "stream",
          "text": [
            "                         product_id  product_category_name  \\\n",
            "0  1e9e8ef04dbcff4541ed26657ea517e5             perfumaria   \n",
            "1  3aa071139cb16b67ca9e5dea641aaa2f                  artes   \n",
            "2  96bd76ec8810374ed1b65e291975717f          esporte_lazer   \n",
            "3  cef67bcfe19066a932b7673e239eb23d                  bebes   \n",
            "4  9dc1a7de274444849c219cff195d0b71  utilidades_domesticas   \n",
            "\n",
            "   product_name_lenght  product_description_lenght  product_photos_qty  \\\n",
            "0                 40.0                       287.0                 1.0   \n",
            "1                 44.0                       276.0                 1.0   \n",
            "2                 46.0                       250.0                 1.0   \n",
            "3                 27.0                       261.0                 1.0   \n",
            "4                 37.0                       402.0                 4.0   \n",
            "\n",
            "   product_weight_g  product_length_cm  product_height_cm  product_width_cm  \\\n",
            "0             225.0               16.0               10.0              14.0   \n",
            "1            1000.0               30.0               18.0              20.0   \n",
            "2             154.0               18.0                9.0              15.0   \n",
            "3             371.0               26.0                4.0              26.0   \n",
            "4             625.0               20.0               17.0              13.0   \n",
            "\n",
            "  product_category_name_english  \n",
            "0                     perfumery  \n",
            "1                           art  \n",
            "2                sports_leisure  \n",
            "3                          baby  \n",
            "4                    housewares  \n"
          ]
        }
      ],
      "source": [
        "# Menggabungkan DataFrame products_df dengan product_category_name_translation_df\n",
        "new_product_df = products_df.merge(\n",
        "    product_category_name_translation_df,\n",
        "    how=\"left\",\n",
        "    on=\"product_category_name\"\n",
        ")\n",
        "\n",
        "# Menampilkan 5 baris pertama dari hasil penggabungan\n",
        "print(new_product_df.head())\n"
      ]
    },
    {
      "cell_type": "code",
      "execution_count": 94,
      "metadata": {
        "colab": {
          "base_uri": "https://localhost:8080/"
        },
        "id": "PrCKof--loIv",
        "outputId": "3d6d8bfe-7373-4675-b9f3-5d10cad6c415"
      },
      "outputs": [
        {
          "name": "stdout",
          "output_type": "stream",
          "text": [
            "10 kategori produk teratas berdasarkan jumlah produk unik:\n",
            "product_category_name\n",
            "cama_mesa_banho           3029\n",
            "esporte_lazer             2867\n",
            "moveis_decoracao          2657\n",
            "beleza_saude              2444\n",
            "utilidades_domesticas     2335\n",
            "automotivo                1900\n",
            "informatica_acessorios    1639\n",
            "brinquedos                1411\n",
            "relogios_presentes        1329\n",
            "telefonia                 1134\n",
            "Name: product_id, dtype: int64\n"
          ]
        }
      ],
      "source": [
        "# Mengelompokkan data berdasarkan product_category_name dan menghitung jumlah unik product_id\n",
        "top_10_product_categories = new_product_df.groupby(\"product_category_name\")[\"product_id\"].nunique().sort_values(ascending=False).head(10)\n",
        "\n",
        "# Menampilkan hasil\n",
        "print(\"10 kategori produk teratas berdasarkan jumlah produk unik:\")\n",
        "print(top_10_product_categories)\n"
      ]
    },
    {
      "cell_type": "code",
      "execution_count": 95,
      "metadata": {
        "colab": {
          "base_uri": "https://localhost:8080/"
        },
        "id": "I0wKSy7NltLf",
        "outputId": "ab65ca5b-67a7-4ade-ef00-77fc57566f0b"
      },
      "outputs": [
        {
          "name": "stdout",
          "output_type": "stream",
          "text": [
            "10 kategori produk teratas berdasarkan jumlah produk unik (bahasa Inggris):\n",
            "product_category_name_english\n",
            "bed_bath_table           3029\n",
            "sports_leisure           2867\n",
            "furniture_decor          2657\n",
            "health_beauty            2444\n",
            "housewares               2335\n",
            "auto                     1900\n",
            "computers_accessories    1639\n",
            "toys                     1411\n",
            "watches_gifts            1329\n",
            "telephony                1134\n",
            "Name: product_id, dtype: int64\n"
          ]
        }
      ],
      "source": [
        "# Mengelompokkan data berdasarkan product_category_name_english dan menghitung jumlah unik product_id\n",
        "top_10_product_categories_english = new_product_df.groupby(\"product_category_name_english\")[\"product_id\"].nunique().sort_values(ascending=False).head(10)\n",
        "\n",
        "# Menampilkan hasil\n",
        "print(\"10 kategori produk teratas berdasarkan jumlah produk unik (bahasa Inggris):\")\n",
        "print(top_10_product_categories_english)\n"
      ]
    },
    {
      "cell_type": "markdown",
      "metadata": {
        "id": "9Uoe34AFl3rd"
      },
      "source": [
        "**9. Menggabungkan data order_items_seller_df dan new_product_df**"
      ]
    },
    {
      "cell_type": "code",
      "execution_count": 96,
      "metadata": {
        "colab": {
          "base_uri": "https://localhost:8080/"
        },
        "id": "-wj0HoQel4kS",
        "outputId": "4e198c13-b169-4eed-969d-b6232a5da407"
      },
      "outputs": [
        {
          "name": "stdout",
          "output_type": "stream",
          "text": [
            "                         product_id  product_category_name  \\\n",
            "0  1e9e8ef04dbcff4541ed26657ea517e5             perfumaria   \n",
            "1  3aa071139cb16b67ca9e5dea641aaa2f                  artes   \n",
            "2  96bd76ec8810374ed1b65e291975717f          esporte_lazer   \n",
            "3  cef67bcfe19066a932b7673e239eb23d                  bebes   \n",
            "4  9dc1a7de274444849c219cff195d0b71  utilidades_domesticas   \n",
            "\n",
            "   product_name_lenght  product_description_lenght  product_photos_qty  \\\n",
            "0                 40.0                       287.0                 1.0   \n",
            "1                 44.0                       276.0                 1.0   \n",
            "2                 46.0                       250.0                 1.0   \n",
            "3                 27.0                       261.0                 1.0   \n",
            "4                 37.0                       402.0                 4.0   \n",
            "\n",
            "   product_weight_g  product_length_cm  product_height_cm  product_width_cm  \\\n",
            "0             225.0               16.0               10.0              14.0   \n",
            "1            1000.0               30.0               18.0              20.0   \n",
            "2             154.0               18.0                9.0              15.0   \n",
            "3             371.0               26.0                4.0              26.0   \n",
            "4             625.0               20.0               17.0              13.0   \n",
            "\n",
            "  product_category_name_english                          order_id  \\\n",
            "0                     perfumery  e17e4f88e31525f7deef66779844ddce   \n",
            "1                           art  5236307716393b7114b53ee991f36956   \n",
            "2                sports_leisure  01f66e58769f84129811d43eefd187fb   \n",
            "3                          baby  143d00a4f2dde4e0364ee1821577adb3   \n",
            "4                    housewares  86cafb8794cb99a9b1b77fc8e48fbbbb   \n",
            "\n",
            "   order_item_id                         seller_id shipping_limit_date  \\\n",
            "0              1  5670f4db5b62c43d542e1b2d56b0cf7c 2018-04-30 17:33:54   \n",
            "1              1  b561927807645834b59ef0d16ba55a24 2018-02-06 19:11:15   \n",
            "2              1  7b07b3c7487f0ea825fc6df75abd658b 2018-07-11 21:30:20   \n",
            "3              1  c510bc1718f0f2961eaa42a23330681a 2018-08-07 09:10:13   \n",
            "4              1  0be8ff43f22e456b4e0371b2245e4d01 2018-04-17 01:30:23   \n",
            "\n",
            "    price  freight_value  seller_zip_code_prefix seller_city seller_state  \n",
            "0   10.91           7.39                    3694   sao paulo           SP  \n",
            "1  248.00          17.99                    2955   sao paulo           SP  \n",
            "2   79.80           7.82                    2016   sao paulo           SP  \n",
            "3  112.30           9.54                   13330  indaiatuba           SP  \n",
            "4   37.90           8.29                    4461   sao paulo           SP  \n"
          ]
        }
      ],
      "source": [
        "# Menggabungkan DataFrame new_product_df dengan order_items_seller_df\n",
        "new_sellers_df = new_product_df.merge(\n",
        "    order_items_seller_df,\n",
        "    how=\"left\",\n",
        "    on=\"product_id\"\n",
        ")\n",
        "\n",
        "# Menampilkan 5 baris pertama dari hasil penggabungan\n",
        "print(new_sellers_df.head())\n"
      ]
    },
    {
      "cell_type": "code",
      "execution_count": 97,
      "metadata": {
        "colab": {
          "base_uri": "https://localhost:8080/",
          "height": 443
        },
        "id": "5AQf5aKUmOrQ",
        "outputId": "6fdba4de-9114-49e0-b090-166a5fbdeca5"
      },
      "outputs": [
        {
          "data": {
            "text/html": [
              "<div>\n",
              "<style scoped>\n",
              "    .dataframe tbody tr th:only-of-type {\n",
              "        vertical-align: middle;\n",
              "    }\n",
              "\n",
              "    .dataframe tbody tr th {\n",
              "        vertical-align: top;\n",
              "    }\n",
              "\n",
              "    .dataframe thead th {\n",
              "        text-align: right;\n",
              "    }\n",
              "</style>\n",
              "<table border=\"1\" class=\"dataframe\">\n",
              "  <thead>\n",
              "    <tr style=\"text-align: right;\">\n",
              "      <th></th>\n",
              "      <th>product_id</th>\n",
              "      <th>product_category_name</th>\n",
              "      <th>product_name_lenght</th>\n",
              "      <th>product_description_lenght</th>\n",
              "      <th>product_photos_qty</th>\n",
              "      <th>product_weight_g</th>\n",
              "      <th>product_length_cm</th>\n",
              "      <th>product_height_cm</th>\n",
              "      <th>product_width_cm</th>\n",
              "      <th>product_category_name_english</th>\n",
              "      <th>order_id</th>\n",
              "      <th>order_item_id</th>\n",
              "      <th>seller_id</th>\n",
              "      <th>shipping_limit_date</th>\n",
              "      <th>price</th>\n",
              "      <th>freight_value</th>\n",
              "      <th>seller_zip_code_prefix</th>\n",
              "      <th>seller_city</th>\n",
              "      <th>seller_state</th>\n",
              "    </tr>\n",
              "  </thead>\n",
              "  <tbody>\n",
              "    <tr>\n",
              "      <th>20528</th>\n",
              "      <td>489ae2aa008f021502940f251d4cce7f</td>\n",
              "      <td>utilidades_domesticas</td>\n",
              "      <td>31.0</td>\n",
              "      <td>875.0</td>\n",
              "      <td>2.0</td>\n",
              "      <td>30000.0</td>\n",
              "      <td>60.0</td>\n",
              "      <td>61.0</td>\n",
              "      <td>33.0</td>\n",
              "      <td>housewares</td>\n",
              "      <td>0812eb902a67711a1cb742b3cdaa65ae</td>\n",
              "      <td>1</td>\n",
              "      <td>e3b4998c7a498169dc7bce44e6bb6277</td>\n",
              "      <td>2017-02-16 20:37:36</td>\n",
              "      <td>6735.00</td>\n",
              "      <td>194.31</td>\n",
              "      <td>3635</td>\n",
              "      <td>sao paulo</td>\n",
              "      <td>SP</td>\n",
              "    </tr>\n",
              "    <tr>\n",
              "      <th>73922</th>\n",
              "      <td>69c590f7ffc7bf8db97190b6cb6ed62e</td>\n",
              "      <td>pcs</td>\n",
              "      <td>50.0</td>\n",
              "      <td>1935.0</td>\n",
              "      <td>4.0</td>\n",
              "      <td>5660.0</td>\n",
              "      <td>54.0</td>\n",
              "      <td>18.0</td>\n",
              "      <td>47.0</td>\n",
              "      <td>computers</td>\n",
              "      <td>fefacc66af859508bf1a7934eab1e97f</td>\n",
              "      <td>1</td>\n",
              "      <td>80ceebb4ee9b31afb6c6a916a574a1e2</td>\n",
              "      <td>2018-08-02 04:05:13</td>\n",
              "      <td>6729.00</td>\n",
              "      <td>193.21</td>\n",
              "      <td>86026</td>\n",
              "      <td>londrina</td>\n",
              "      <td>PR</td>\n",
              "    </tr>\n",
              "    <tr>\n",
              "      <th>49503</th>\n",
              "      <td>1bdf5e6731585cf01aa8169c7028d6ad</td>\n",
              "      <td>artes</td>\n",
              "      <td>28.0</td>\n",
              "      <td>3954.0</td>\n",
              "      <td>2.0</td>\n",
              "      <td>7400.0</td>\n",
              "      <td>47.0</td>\n",
              "      <td>25.0</td>\n",
              "      <td>25.0</td>\n",
              "      <td>art</td>\n",
              "      <td>f5136e38d1a14a4dbd87dff67da82701</td>\n",
              "      <td>1</td>\n",
              "      <td>ee27a8f15b1dded4d213a468ba4eb391</td>\n",
              "      <td>2017-06-15 02:45:17</td>\n",
              "      <td>6499.00</td>\n",
              "      <td>227.66</td>\n",
              "      <td>74210</td>\n",
              "      <td>goiania</td>\n",
              "      <td>GO</td>\n",
              "    </tr>\n",
              "    <tr>\n",
              "      <th>71835</th>\n",
              "      <td>a6492cc69376c469ab6f61d8f44de961</td>\n",
              "      <td>eletroportateis</td>\n",
              "      <td>41.0</td>\n",
              "      <td>1780.0</td>\n",
              "      <td>2.0</td>\n",
              "      <td>22600.0</td>\n",
              "      <td>55.0</td>\n",
              "      <td>40.0</td>\n",
              "      <td>40.0</td>\n",
              "      <td>small_appliances</td>\n",
              "      <td>a96610ab360d42a2e5335a3998b4718a</td>\n",
              "      <td>1</td>\n",
              "      <td>59417c56835dd8e2e72f91f809cd4092</td>\n",
              "      <td>2017-04-18 13:25:18</td>\n",
              "      <td>4799.00</td>\n",
              "      <td>151.34</td>\n",
              "      <td>13480</td>\n",
              "      <td>limeira</td>\n",
              "      <td>SP</td>\n",
              "    </tr>\n",
              "    <tr>\n",
              "      <th>32232</th>\n",
              "      <td>c3ed642d592594bb648ff4a04cee2747</td>\n",
              "      <td>eletroportateis</td>\n",
              "      <td>59.0</td>\n",
              "      <td>2217.0</td>\n",
              "      <td>2.0</td>\n",
              "      <td>30000.0</td>\n",
              "      <td>50.0</td>\n",
              "      <td>49.0</td>\n",
              "      <td>50.0</td>\n",
              "      <td>small_appliances</td>\n",
              "      <td>199af31afc78c699f0dbf71fb178d4d4</td>\n",
              "      <td>1</td>\n",
              "      <td>59417c56835dd8e2e72f91f809cd4092</td>\n",
              "      <td>2017-05-09 15:50:15</td>\n",
              "      <td>4690.00</td>\n",
              "      <td>74.34</td>\n",
              "      <td>13480</td>\n",
              "      <td>limeira</td>\n",
              "      <td>SP</td>\n",
              "    </tr>\n",
              "    <tr>\n",
              "      <th>...</th>\n",
              "      <td>...</td>\n",
              "      <td>...</td>\n",
              "      <td>...</td>\n",
              "      <td>...</td>\n",
              "      <td>...</td>\n",
              "      <td>...</td>\n",
              "      <td>...</td>\n",
              "      <td>...</td>\n",
              "      <td>...</td>\n",
              "      <td>...</td>\n",
              "      <td>...</td>\n",
              "      <td>...</td>\n",
              "      <td>...</td>\n",
              "      <td>...</td>\n",
              "      <td>...</td>\n",
              "      <td>...</td>\n",
              "      <td>...</td>\n",
              "      <td>...</td>\n",
              "      <td>...</td>\n",
              "    </tr>\n",
              "    <tr>\n",
              "      <th>9328</th>\n",
              "      <td>270516a3f41dc035aa87d220228f844c</td>\n",
              "      <td>beleza_saude</td>\n",
              "      <td>45.0</td>\n",
              "      <td>232.0</td>\n",
              "      <td>3.0</td>\n",
              "      <td>800.0</td>\n",
              "      <td>21.0</td>\n",
              "      <td>4.0</td>\n",
              "      <td>15.0</td>\n",
              "      <td>health_beauty</td>\n",
              "      <td>8272b63d03f5f79c56e9e4120aec44ef</td>\n",
              "      <td>20</td>\n",
              "      <td>2709af9587499e95e803a6498a5a56e9</td>\n",
              "      <td>2017-07-21 18:25:23</td>\n",
              "      <td>1.20</td>\n",
              "      <td>7.89</td>\n",
              "      <td>3813</td>\n",
              "      <td>sao paulo</td>\n",
              "      <td>SP</td>\n",
              "    </tr>\n",
              "    <tr>\n",
              "      <th>55904</th>\n",
              "      <td>05b515fdc76e888aada3c6d66c201dff</td>\n",
              "      <td>beleza_saude</td>\n",
              "      <td>45.0</td>\n",
              "      <td>231.0</td>\n",
              "      <td>3.0</td>\n",
              "      <td>800.0</td>\n",
              "      <td>21.0</td>\n",
              "      <td>4.0</td>\n",
              "      <td>15.0</td>\n",
              "      <td>health_beauty</td>\n",
              "      <td>8272b63d03f5f79c56e9e4120aec44ef</td>\n",
              "      <td>4</td>\n",
              "      <td>2709af9587499e95e803a6498a5a56e9</td>\n",
              "      <td>2017-07-21 18:25:23</td>\n",
              "      <td>1.20</td>\n",
              "      <td>7.89</td>\n",
              "      <td>3813</td>\n",
              "      <td>sao paulo</td>\n",
              "      <td>SP</td>\n",
              "    </tr>\n",
              "    <tr>\n",
              "      <th>29610</th>\n",
              "      <td>8a3254bee785a526d548a81a9bc3c9be</td>\n",
              "      <td>construcao_ferramentas_construcao</td>\n",
              "      <td>25.0</td>\n",
              "      <td>1041.0</td>\n",
              "      <td>5.0</td>\n",
              "      <td>200.0</td>\n",
              "      <td>16.0</td>\n",
              "      <td>4.0</td>\n",
              "      <td>11.0</td>\n",
              "      <td>construction_tools_construction</td>\n",
              "      <td>c5bdd8ef3c0ec420232e668302179113</td>\n",
              "      <td>2</td>\n",
              "      <td>96804ea39d96eb908e7c3afdb671bb9e</td>\n",
              "      <td>2018-05-07 02:55:22</td>\n",
              "      <td>0.85</td>\n",
              "      <td>22.30</td>\n",
              "      <td>38950</td>\n",
              "      <td>ibia</td>\n",
              "      <td>MG</td>\n",
              "    </tr>\n",
              "    <tr>\n",
              "      <th>29609</th>\n",
              "      <td>8a3254bee785a526d548a81a9bc3c9be</td>\n",
              "      <td>construcao_ferramentas_construcao</td>\n",
              "      <td>25.0</td>\n",
              "      <td>1041.0</td>\n",
              "      <td>5.0</td>\n",
              "      <td>200.0</td>\n",
              "      <td>16.0</td>\n",
              "      <td>4.0</td>\n",
              "      <td>11.0</td>\n",
              "      <td>construction_tools_construction</td>\n",
              "      <td>6e864b3f0ec71031117ad4cf46b7f2a1</td>\n",
              "      <td>1</td>\n",
              "      <td>96804ea39d96eb908e7c3afdb671bb9e</td>\n",
              "      <td>2018-05-02 20:30:34</td>\n",
              "      <td>0.85</td>\n",
              "      <td>18.23</td>\n",
              "      <td>38950</td>\n",
              "      <td>ibia</td>\n",
              "      <td>MG</td>\n",
              "    </tr>\n",
              "    <tr>\n",
              "      <th>29608</th>\n",
              "      <td>8a3254bee785a526d548a81a9bc3c9be</td>\n",
              "      <td>construcao_ferramentas_construcao</td>\n",
              "      <td>25.0</td>\n",
              "      <td>1041.0</td>\n",
              "      <td>5.0</td>\n",
              "      <td>200.0</td>\n",
              "      <td>16.0</td>\n",
              "      <td>4.0</td>\n",
              "      <td>11.0</td>\n",
              "      <td>construction_tools_construction</td>\n",
              "      <td>3ee6513ae7ea23bdfab5b9ab60bffcb5</td>\n",
              "      <td>1</td>\n",
              "      <td>96804ea39d96eb908e7c3afdb671bb9e</td>\n",
              "      <td>2018-05-04 03:55:26</td>\n",
              "      <td>0.85</td>\n",
              "      <td>18.23</td>\n",
              "      <td>38950</td>\n",
              "      <td>ibia</td>\n",
              "      <td>MG</td>\n",
              "    </tr>\n",
              "  </tbody>\n",
              "</table>\n",
              "<p>112650 rows × 19 columns</p>\n",
              "</div>"
            ],
            "text/plain": [
              "                             product_id              product_category_name  \\\n",
              "20528  489ae2aa008f021502940f251d4cce7f              utilidades_domesticas   \n",
              "73922  69c590f7ffc7bf8db97190b6cb6ed62e                                pcs   \n",
              "49503  1bdf5e6731585cf01aa8169c7028d6ad                              artes   \n",
              "71835  a6492cc69376c469ab6f61d8f44de961                    eletroportateis   \n",
              "32232  c3ed642d592594bb648ff4a04cee2747                    eletroportateis   \n",
              "...                                 ...                                ...   \n",
              "9328   270516a3f41dc035aa87d220228f844c                       beleza_saude   \n",
              "55904  05b515fdc76e888aada3c6d66c201dff                       beleza_saude   \n",
              "29610  8a3254bee785a526d548a81a9bc3c9be  construcao_ferramentas_construcao   \n",
              "29609  8a3254bee785a526d548a81a9bc3c9be  construcao_ferramentas_construcao   \n",
              "29608  8a3254bee785a526d548a81a9bc3c9be  construcao_ferramentas_construcao   \n",
              "\n",
              "       product_name_lenght  product_description_lenght  product_photos_qty  \\\n",
              "20528                 31.0                       875.0                 2.0   \n",
              "73922                 50.0                      1935.0                 4.0   \n",
              "49503                 28.0                      3954.0                 2.0   \n",
              "71835                 41.0                      1780.0                 2.0   \n",
              "32232                 59.0                      2217.0                 2.0   \n",
              "...                    ...                         ...                 ...   \n",
              "9328                  45.0                       232.0                 3.0   \n",
              "55904                 45.0                       231.0                 3.0   \n",
              "29610                 25.0                      1041.0                 5.0   \n",
              "29609                 25.0                      1041.0                 5.0   \n",
              "29608                 25.0                      1041.0                 5.0   \n",
              "\n",
              "       product_weight_g  product_length_cm  product_height_cm  \\\n",
              "20528           30000.0               60.0               61.0   \n",
              "73922            5660.0               54.0               18.0   \n",
              "49503            7400.0               47.0               25.0   \n",
              "71835           22600.0               55.0               40.0   \n",
              "32232           30000.0               50.0               49.0   \n",
              "...                 ...                ...                ...   \n",
              "9328              800.0               21.0                4.0   \n",
              "55904             800.0               21.0                4.0   \n",
              "29610             200.0               16.0                4.0   \n",
              "29609             200.0               16.0                4.0   \n",
              "29608             200.0               16.0                4.0   \n",
              "\n",
              "       product_width_cm    product_category_name_english  \\\n",
              "20528              33.0                       housewares   \n",
              "73922              47.0                        computers   \n",
              "49503              25.0                              art   \n",
              "71835              40.0                 small_appliances   \n",
              "32232              50.0                 small_appliances   \n",
              "...                 ...                              ...   \n",
              "9328               15.0                    health_beauty   \n",
              "55904              15.0                    health_beauty   \n",
              "29610              11.0  construction_tools_construction   \n",
              "29609              11.0  construction_tools_construction   \n",
              "29608              11.0  construction_tools_construction   \n",
              "\n",
              "                               order_id  order_item_id  \\\n",
              "20528  0812eb902a67711a1cb742b3cdaa65ae              1   \n",
              "73922  fefacc66af859508bf1a7934eab1e97f              1   \n",
              "49503  f5136e38d1a14a4dbd87dff67da82701              1   \n",
              "71835  a96610ab360d42a2e5335a3998b4718a              1   \n",
              "32232  199af31afc78c699f0dbf71fb178d4d4              1   \n",
              "...                                 ...            ...   \n",
              "9328   8272b63d03f5f79c56e9e4120aec44ef             20   \n",
              "55904  8272b63d03f5f79c56e9e4120aec44ef              4   \n",
              "29610  c5bdd8ef3c0ec420232e668302179113              2   \n",
              "29609  6e864b3f0ec71031117ad4cf46b7f2a1              1   \n",
              "29608  3ee6513ae7ea23bdfab5b9ab60bffcb5              1   \n",
              "\n",
              "                              seller_id shipping_limit_date    price  \\\n",
              "20528  e3b4998c7a498169dc7bce44e6bb6277 2017-02-16 20:37:36  6735.00   \n",
              "73922  80ceebb4ee9b31afb6c6a916a574a1e2 2018-08-02 04:05:13  6729.00   \n",
              "49503  ee27a8f15b1dded4d213a468ba4eb391 2017-06-15 02:45:17  6499.00   \n",
              "71835  59417c56835dd8e2e72f91f809cd4092 2017-04-18 13:25:18  4799.00   \n",
              "32232  59417c56835dd8e2e72f91f809cd4092 2017-05-09 15:50:15  4690.00   \n",
              "...                                 ...                 ...      ...   \n",
              "9328   2709af9587499e95e803a6498a5a56e9 2017-07-21 18:25:23     1.20   \n",
              "55904  2709af9587499e95e803a6498a5a56e9 2017-07-21 18:25:23     1.20   \n",
              "29610  96804ea39d96eb908e7c3afdb671bb9e 2018-05-07 02:55:22     0.85   \n",
              "29609  96804ea39d96eb908e7c3afdb671bb9e 2018-05-02 20:30:34     0.85   \n",
              "29608  96804ea39d96eb908e7c3afdb671bb9e 2018-05-04 03:55:26     0.85   \n",
              "\n",
              "       freight_value  seller_zip_code_prefix seller_city seller_state  \n",
              "20528         194.31                    3635   sao paulo           SP  \n",
              "73922         193.21                   86026    londrina           PR  \n",
              "49503         227.66                   74210     goiania           GO  \n",
              "71835         151.34                   13480     limeira           SP  \n",
              "32232          74.34                   13480     limeira           SP  \n",
              "...              ...                     ...         ...          ...  \n",
              "9328            7.89                    3813   sao paulo           SP  \n",
              "55904           7.89                    3813   sao paulo           SP  \n",
              "29610          22.30                   38950        ibia           MG  \n",
              "29609          18.23                   38950        ibia           MG  \n",
              "29608          18.23                   38950        ibia           MG  \n",
              "\n",
              "[112650 rows x 19 columns]"
            ]
          },
          "execution_count": 97,
          "metadata": {},
          "output_type": "execute_result"
        }
      ],
      "source": [
        "# prompt: new_sellers_df.sort_values(by=\"price\", ascending=False)\n",
        "\n",
        "new_sellers_df.sort_values(by=\"price\", ascending=False)"
      ]
    },
    {
      "cell_type": "code",
      "execution_count": 98,
      "metadata": {
        "colab": {
          "base_uri": "https://localhost:8080/",
          "height": 486
        },
        "id": "aF_kVNNToFHZ",
        "outputId": "f3c442c6-f64f-446e-a59f-ea2e4d27ae38"
      },
      "outputs": [
        {
          "data": {
            "text/html": [
              "<div>\n",
              "<style scoped>\n",
              "    .dataframe tbody tr th:only-of-type {\n",
              "        vertical-align: middle;\n",
              "    }\n",
              "\n",
              "    .dataframe tbody tr th {\n",
              "        vertical-align: top;\n",
              "    }\n",
              "\n",
              "    .dataframe thead tr th {\n",
              "        text-align: left;\n",
              "    }\n",
              "\n",
              "    .dataframe thead tr:last-of-type th {\n",
              "        text-align: right;\n",
              "    }\n",
              "</style>\n",
              "<table border=\"1\" class=\"dataframe\">\n",
              "  <thead>\n",
              "    <tr>\n",
              "      <th></th>\n",
              "      <th>order_id</th>\n",
              "      <th colspan=\"2\" halign=\"left\">price</th>\n",
              "    </tr>\n",
              "    <tr>\n",
              "      <th></th>\n",
              "      <th>nunique</th>\n",
              "      <th>min</th>\n",
              "      <th>max</th>\n",
              "    </tr>\n",
              "    <tr>\n",
              "      <th>product_category_name_english</th>\n",
              "      <th></th>\n",
              "      <th></th>\n",
              "      <th></th>\n",
              "    </tr>\n",
              "  </thead>\n",
              "  <tbody>\n",
              "    <tr>\n",
              "      <th>agro_industry_and_commerce</th>\n",
              "      <td>182</td>\n",
              "      <td>12.99</td>\n",
              "      <td>2990.00</td>\n",
              "    </tr>\n",
              "    <tr>\n",
              "      <th>air_conditioning</th>\n",
              "      <td>253</td>\n",
              "      <td>10.90</td>\n",
              "      <td>1599.00</td>\n",
              "    </tr>\n",
              "    <tr>\n",
              "      <th>art</th>\n",
              "      <td>202</td>\n",
              "      <td>3.50</td>\n",
              "      <td>6499.00</td>\n",
              "    </tr>\n",
              "    <tr>\n",
              "      <th>arts_and_craftmanship</th>\n",
              "      <td>23</td>\n",
              "      <td>9.80</td>\n",
              "      <td>289.49</td>\n",
              "    </tr>\n",
              "    <tr>\n",
              "      <th>audio</th>\n",
              "      <td>350</td>\n",
              "      <td>14.90</td>\n",
              "      <td>598.99</td>\n",
              "    </tr>\n",
              "    <tr>\n",
              "      <th>...</th>\n",
              "      <td>...</td>\n",
              "      <td>...</td>\n",
              "      <td>...</td>\n",
              "    </tr>\n",
              "    <tr>\n",
              "      <th>stationery</th>\n",
              "      <td>2311</td>\n",
              "      <td>2.29</td>\n",
              "      <td>1693.00</td>\n",
              "    </tr>\n",
              "    <tr>\n",
              "      <th>tablets_printing_image</th>\n",
              "      <td>79</td>\n",
              "      <td>14.90</td>\n",
              "      <td>889.99</td>\n",
              "    </tr>\n",
              "    <tr>\n",
              "      <th>telephony</th>\n",
              "      <td>4199</td>\n",
              "      <td>5.00</td>\n",
              "      <td>2428.00</td>\n",
              "    </tr>\n",
              "    <tr>\n",
              "      <th>toys</th>\n",
              "      <td>3886</td>\n",
              "      <td>4.90</td>\n",
              "      <td>1699.99</td>\n",
              "    </tr>\n",
              "    <tr>\n",
              "      <th>watches_gifts</th>\n",
              "      <td>5624</td>\n",
              "      <td>8.99</td>\n",
              "      <td>3999.90</td>\n",
              "    </tr>\n",
              "  </tbody>\n",
              "</table>\n",
              "<p>71 rows × 3 columns</p>\n",
              "</div>"
            ],
            "text/plain": [
              "                              order_id  price         \n",
              "                               nunique    min      max\n",
              "product_category_name_english                         \n",
              "agro_industry_and_commerce         182  12.99  2990.00\n",
              "air_conditioning                   253  10.90  1599.00\n",
              "art                                202   3.50  6499.00\n",
              "arts_and_craftmanship               23   9.80   289.49\n",
              "audio                              350  14.90   598.99\n",
              "...                                ...    ...      ...\n",
              "stationery                        2311   2.29  1693.00\n",
              "tablets_printing_image              79  14.90   889.99\n",
              "telephony                         4199   5.00  2428.00\n",
              "toys                              3886   4.90  1699.99\n",
              "watches_gifts                     5624   8.99  3999.90\n",
              "\n",
              "[71 rows x 3 columns]"
            ]
          },
          "execution_count": 98,
          "metadata": {},
          "output_type": "execute_result"
        }
      ],
      "source": [
        "# prompt:\n",
        "\n",
        "new_sellers_df.groupby(by=\"product_category_name_english\").agg({\n",
        "    \"order_id\": \"nunique\",\n",
        "    \"price\":  [\"min\", \"max\"]\n",
        "})"
      ]
    },
    {
      "cell_type": "markdown",
      "metadata": {
        "id": "dShd8TGxoVM6"
      },
      "source": [
        "**10. Menggabungkan semua data**"
      ]
    },
    {
      "cell_type": "code",
      "execution_count": 99,
      "metadata": {
        "colab": {
          "base_uri": "https://localhost:8080/"
        },
        "id": "LEdnj88SoWQk",
        "outputId": "7a446ec7-91ee-45a1-a7fd-1e41b310efff"
      },
      "outputs": [
        {
          "name": "stdout",
          "output_type": "stream",
          "text": [
            "                        customer_id                customer_unique_id  \\\n",
            "0  06b8999e2fba1a1fbc88172c00ba8bc7  861eff4711a542e4b93843c6dd7febb0   \n",
            "1  18955e83d337fd6b2def6b18a428ac77  290c77bc529b7ac935b93aa66c333dc3   \n",
            "2  4e7b3e00288586ebd08712fdd0374a03  060e732b5b29e8181a18229c7b0b2b5e   \n",
            "3  b2b6027bc5c5109e529d4dc6358b12c3  259dac757896d24d7702b9acbbff3f3c   \n",
            "4  4f2d8ab171c80ec8364f7c12e35b23ad  345ecd01c38d18a9036ed96c73b8d066   \n",
            "\n",
            "   customer_zip_code_prefix          customer_city customer_state  status  \\\n",
            "0                     14409                 franca             SP  Active   \n",
            "1                      9790  sao bernardo do campo             SP  Active   \n",
            "2                      1151              sao paulo             SP  Active   \n",
            "3                      8775        mogi das cruzes             SP  Active   \n",
            "4                     13056               campinas             SP  Active   \n",
            "\n",
            "                           order_id order_status order_purchase_timestamp  \\\n",
            "0  00e7ee1b050b8499577073aeb2a297a1    delivered      2017-05-16 15:05:35   \n",
            "1  29150127e6685892b6eab3eec79f59c7    delivered      2018-01-12 20:48:24   \n",
            "2  b2059ed67ce144a36e2aa97d2c9e9ad2    delivered      2018-05-19 16:07:45   \n",
            "3  951670f92359f4fe4a63112aa7306eba    delivered      2018-03-13 16:06:38   \n",
            "4  6b7d50bd145f6fc7f33cebabd7e49d0f    delivered      2018-07-29 09:51:30   \n",
            "\n",
            "    order_approved_at  ... product_width_cm product_category_name_english  \\\n",
            "0 2017-05-16 15:22:12  ...             31.0              office_furniture   \n",
            "1 2018-01-12 20:58:32  ...             40.0                    housewares   \n",
            "2 2018-05-20 16:19:10  ...             17.0              office_furniture   \n",
            "3 2018-03-13 17:29:19  ...             28.0              office_furniture   \n",
            "4 2018-07-29 10:10:09  ...             35.0                  home_confort   \n",
            "\n",
            "  order_item_id                         seller_id  shipping_limit_date  \\\n",
            "0           1.0  7c67e1448b00f6e969d365cea6b010ab  2017-05-22 15:22:12   \n",
            "1           1.0  b8bc237ba3788b23da09c0f1f3a3288c  2018-01-18 20:58:32   \n",
            "2           1.0  7c67e1448b00f6e969d365cea6b010ab  2018-06-05 16:19:10   \n",
            "3           1.0  7c67e1448b00f6e969d365cea6b010ab  2018-03-27 16:31:16   \n",
            "4           1.0  4a3ca9315b744ce9f8e9374361493884  2018-07-31 10:10:09   \n",
            "\n",
            "    price  freight_value  seller_zip_code_prefix      seller_city  \\\n",
            "0  124.99          21.88                  8577.0  itaquaquecetuba   \n",
            "1  289.00          46.48                 88303.0           itajai   \n",
            "2  139.94          17.79                  8577.0  itaquaquecetuba   \n",
            "3  149.94          23.36                  8577.0  itaquaquecetuba   \n",
            "4  230.00          22.25                 14940.0         ibitinga   \n",
            "\n",
            "   seller_state  \n",
            "0            SP  \n",
            "1            SC  \n",
            "2            SP  \n",
            "3            SP  \n",
            "4            SP  \n",
            "\n",
            "[5 rows x 42 columns]\n"
          ]
        }
      ],
      "source": [
        "# Menggabungkan DataFrame new_customers_df dengan new_sellers_df\n",
        "all_data = new_customers_df.merge(\n",
        "    new_sellers_df,\n",
        "    how=\"left\",\n",
        "    on=\"order_id\"\n",
        ")\n",
        "\n",
        "# Menampilkan 5 baris pertama dari hasil penggabungan\n",
        "print(all_data.head())\n"
      ]
    },
    {
      "cell_type": "code",
      "execution_count": 100,
      "metadata": {
        "colab": {
          "base_uri": "https://localhost:8080/"
        },
        "id": "gHjoioZmrKtO",
        "outputId": "4c14487d-f7f3-4cca-d26b-2fb785b182ee"
      },
      "outputs": [
        {
          "name": "stdout",
          "output_type": "stream",
          "text": [
            "<class 'pandas.core.frame.DataFrame'>\n",
            "RangeIndex: 119143 entries, 0 to 119142\n",
            "Data columns (total 42 columns):\n",
            " #   Column                         Non-Null Count   Dtype         \n",
            "---  ------                         --------------   -----         \n",
            " 0   customer_id                    119143 non-null  object        \n",
            " 1   customer_unique_id             119143 non-null  object        \n",
            " 2   customer_zip_code_prefix       119143 non-null  int64         \n",
            " 3   customer_city                  119143 non-null  object        \n",
            " 4   customer_state                 119143 non-null  object        \n",
            " 5   status                         119143 non-null  object        \n",
            " 6   order_id                       119143 non-null  object        \n",
            " 7   order_status                   119143 non-null  object        \n",
            " 8   order_purchase_timestamp       119143 non-null  datetime64[ns]\n",
            " 9   order_approved_at              118966 non-null  datetime64[ns]\n",
            " 10  order_delivered_carrier_date   117057 non-null  datetime64[ns]\n",
            " 11  order_delivered_customer_date  115722 non-null  datetime64[ns]\n",
            " 12  order_estimated_delivery_date  119143 non-null  datetime64[ns]\n",
            " 13  delivery_days                  115721 non-null  float64       \n",
            " 14  payment_sequential             119140 non-null  float64       \n",
            " 15  payment_type                   119140 non-null  object        \n",
            " 16  payment_installments           119140 non-null  float64       \n",
            " 17  payment_value                  119140 non-null  float64       \n",
            " 18  review_id                      118143 non-null  object        \n",
            " 19  review_score                   118143 non-null  float64       \n",
            " 20  review_comment_title           118143 non-null  object        \n",
            " 21  review_comment_message         118143 non-null  object        \n",
            " 22  review_creation_date           118143 non-null  datetime64[ns]\n",
            " 23  review_answer_timestamp        118143 non-null  datetime64[ns]\n",
            " 24  product_id                     118310 non-null  object        \n",
            " 25  product_category_name          116601 non-null  object        \n",
            " 26  product_name_lenght            116601 non-null  float64       \n",
            " 27  product_description_lenght     116601 non-null  float64       \n",
            " 28  product_photos_qty             116601 non-null  float64       \n",
            " 29  product_weight_g               118290 non-null  float64       \n",
            " 30  product_length_cm              118290 non-null  float64       \n",
            " 31  product_height_cm              118290 non-null  float64       \n",
            " 32  product_width_cm               118290 non-null  float64       \n",
            " 33  product_category_name_english  116576 non-null  object        \n",
            " 34  order_item_id                  118310 non-null  float64       \n",
            " 35  seller_id                      118310 non-null  object        \n",
            " 36  shipping_limit_date            118310 non-null  datetime64[ns]\n",
            " 37  price                          118310 non-null  float64       \n",
            " 38  freight_value                  118310 non-null  float64       \n",
            " 39  seller_zip_code_prefix         118310 non-null  float64       \n",
            " 40  seller_city                    118310 non-null  object        \n",
            " 41  seller_state                   118310 non-null  object        \n",
            "dtypes: datetime64[ns](8), float64(16), int64(1), object(17)\n",
            "memory usage: 38.2+ MB\n"
          ]
        }
      ],
      "source": [
        "all_data.info()"
      ]
    },
    {
      "cell_type": "code",
      "execution_count": 101,
      "metadata": {
        "colab": {
          "base_uri": "https://localhost:8080/",
          "height": 455
        },
        "id": "be4K86uUw375",
        "outputId": "6ede2757-92a1-49e4-fb9a-d778fd569321"
      },
      "outputs": [
        {
          "data": {
            "text/html": [
              "<div>\n",
              "<style scoped>\n",
              "    .dataframe tbody tr th:only-of-type {\n",
              "        vertical-align: middle;\n",
              "    }\n",
              "\n",
              "    .dataframe tbody tr th {\n",
              "        vertical-align: top;\n",
              "    }\n",
              "\n",
              "    .dataframe thead th {\n",
              "        text-align: right;\n",
              "    }\n",
              "</style>\n",
              "<table border=\"1\" class=\"dataframe\">\n",
              "  <thead>\n",
              "    <tr style=\"text-align: right;\">\n",
              "      <th></th>\n",
              "      <th></th>\n",
              "      <th>price</th>\n",
              "      <th>freight_value</th>\n",
              "    </tr>\n",
              "    <tr>\n",
              "      <th>customer_city</th>\n",
              "      <th>product_category_name_english</th>\n",
              "      <th></th>\n",
              "      <th></th>\n",
              "    </tr>\n",
              "  </thead>\n",
              "  <tbody>\n",
              "    <tr>\n",
              "      <th rowspan=\"3\" valign=\"top\">abadia dos dourados</th>\n",
              "      <th>books_general_interest</th>\n",
              "      <td>39.90</td>\n",
              "      <td>18.38</td>\n",
              "    </tr>\n",
              "    <tr>\n",
              "      <th>cool_stuff</th>\n",
              "      <td>199.00</td>\n",
              "      <td>20.63</td>\n",
              "    </tr>\n",
              "    <tr>\n",
              "      <th>sports_leisure</th>\n",
              "      <td>120.00</td>\n",
              "      <td>15.59</td>\n",
              "    </tr>\n",
              "    <tr>\n",
              "      <th>abadiania</th>\n",
              "      <th>small_appliances</th>\n",
              "      <td>949.99</td>\n",
              "      <td>75.53</td>\n",
              "    </tr>\n",
              "    <tr>\n",
              "      <th>abaete</th>\n",
              "      <th>baby</th>\n",
              "      <td>65.00</td>\n",
              "      <td>17.70</td>\n",
              "    </tr>\n",
              "    <tr>\n",
              "      <th>...</th>\n",
              "      <th>...</th>\n",
              "      <td>...</td>\n",
              "      <td>...</td>\n",
              "    </tr>\n",
              "    <tr>\n",
              "      <th rowspan=\"4\" valign=\"top\">ze doca</th>\n",
              "      <th>food_drink</th>\n",
              "      <td>65.00</td>\n",
              "      <td>38.00</td>\n",
              "    </tr>\n",
              "    <tr>\n",
              "      <th>garden_tools</th>\n",
              "      <td>39.90</td>\n",
              "      <td>26.61</td>\n",
              "    </tr>\n",
              "    <tr>\n",
              "      <th>musical_instruments</th>\n",
              "      <td>359.00</td>\n",
              "      <td>49.04</td>\n",
              "    </tr>\n",
              "    <tr>\n",
              "      <th>sports_leisure</th>\n",
              "      <td>149.90</td>\n",
              "      <td>38.60</td>\n",
              "    </tr>\n",
              "    <tr>\n",
              "      <th>zortea</th>\n",
              "      <th>computers_accessories</th>\n",
              "      <td>69.90</td>\n",
              "      <td>20.98</td>\n",
              "    </tr>\n",
              "  </tbody>\n",
              "</table>\n",
              "<p>25199 rows × 2 columns</p>\n",
              "</div>"
            ],
            "text/plain": [
              "                                                    price  freight_value\n",
              "customer_city       product_category_name_english                       \n",
              "abadia dos dourados books_general_interest          39.90          18.38\n",
              "                    cool_stuff                     199.00          20.63\n",
              "                    sports_leisure                 120.00          15.59\n",
              "abadiania           small_appliances               949.99          75.53\n",
              "abaete              baby                            65.00          17.70\n",
              "...                                                   ...            ...\n",
              "ze doca             food_drink                      65.00          38.00\n",
              "                    garden_tools                    39.90          26.61\n",
              "                    musical_instruments            359.00          49.04\n",
              "                    sports_leisure                 149.90          38.60\n",
              "zortea              computers_accessories           69.90          20.98\n",
              "\n",
              "[25199 rows x 2 columns]"
            ]
          },
          "execution_count": 101,
          "metadata": {},
          "output_type": "execute_result"
        }
      ],
      "source": [
        "# prompt: Mengelompokkan data berdasarkan customer_city dan priduct_category_name_english, lalu menghitung total price freight_value\n",
        "\n",
        "all_data.groupby(by=[\"customer_city\", \"product_category_name_english\"]).agg({\n",
        "    \"price\": \"sum\",\n",
        "    \"freight_value\": \"sum\"\n",
        "})"
      ]
    },
    {
      "cell_type": "code",
      "execution_count": 102,
      "metadata": {
        "colab": {
          "base_uri": "https://localhost:8080/",
          "height": 455
        },
        "id": "kNhNQFt7xfHx",
        "outputId": "8b025b3f-bf79-421c-9d04-8b13c6eb3c8d"
      },
      "outputs": [
        {
          "data": {
            "text/html": [
              "<div>\n",
              "<style scoped>\n",
              "    .dataframe tbody tr th:only-of-type {\n",
              "        vertical-align: middle;\n",
              "    }\n",
              "\n",
              "    .dataframe tbody tr th {\n",
              "        vertical-align: top;\n",
              "    }\n",
              "\n",
              "    .dataframe thead th {\n",
              "        text-align: right;\n",
              "    }\n",
              "</style>\n",
              "<table border=\"1\" class=\"dataframe\">\n",
              "  <thead>\n",
              "    <tr style=\"text-align: right;\">\n",
              "      <th></th>\n",
              "      <th></th>\n",
              "      <th>price</th>\n",
              "      <th>freight_value</th>\n",
              "    </tr>\n",
              "    <tr>\n",
              "      <th>customer_state</th>\n",
              "      <th>product_category_name_english</th>\n",
              "      <th></th>\n",
              "      <th></th>\n",
              "    </tr>\n",
              "  </thead>\n",
              "  <tbody>\n",
              "    <tr>\n",
              "      <th rowspan=\"5\" valign=\"top\">AC</th>\n",
              "      <th>auto</th>\n",
              "      <td>606.97</td>\n",
              "      <td>146.42</td>\n",
              "    </tr>\n",
              "    <tr>\n",
              "      <th>baby</th>\n",
              "      <td>697.84</td>\n",
              "      <td>174.13</td>\n",
              "    </tr>\n",
              "    <tr>\n",
              "      <th>bed_bath_table</th>\n",
              "      <td>567.70</td>\n",
              "      <td>157.51</td>\n",
              "    </tr>\n",
              "    <tr>\n",
              "      <th>books_general_interest</th>\n",
              "      <td>633.80</td>\n",
              "      <td>123.71</td>\n",
              "    </tr>\n",
              "    <tr>\n",
              "      <th>christmas_supplies</th>\n",
              "      <td>69.90</td>\n",
              "      <td>60.95</td>\n",
              "    </tr>\n",
              "    <tr>\n",
              "      <th>...</th>\n",
              "      <th>...</th>\n",
              "      <td>...</td>\n",
              "      <td>...</td>\n",
              "    </tr>\n",
              "    <tr>\n",
              "      <th rowspan=\"5\" valign=\"top\">TO</th>\n",
              "      <th>sports_leisure</th>\n",
              "      <td>5533.32</td>\n",
              "      <td>1393.53</td>\n",
              "    </tr>\n",
              "    <tr>\n",
              "      <th>stationery</th>\n",
              "      <td>276.80</td>\n",
              "      <td>73.80</td>\n",
              "    </tr>\n",
              "    <tr>\n",
              "      <th>telephony</th>\n",
              "      <td>1268.12</td>\n",
              "      <td>627.34</td>\n",
              "    </tr>\n",
              "    <tr>\n",
              "      <th>toys</th>\n",
              "      <td>1864.15</td>\n",
              "      <td>423.96</td>\n",
              "    </tr>\n",
              "    <tr>\n",
              "      <th>watches_gifts</th>\n",
              "      <td>5446.89</td>\n",
              "      <td>950.02</td>\n",
              "    </tr>\n",
              "  </tbody>\n",
              "</table>\n",
              "<p>1356 rows × 2 columns</p>\n",
              "</div>"
            ],
            "text/plain": [
              "                                                price  freight_value\n",
              "customer_state product_category_name_english                        \n",
              "AC             auto                            606.97         146.42\n",
              "               baby                            697.84         174.13\n",
              "               bed_bath_table                  567.70         157.51\n",
              "               books_general_interest          633.80         123.71\n",
              "               christmas_supplies               69.90          60.95\n",
              "...                                               ...            ...\n",
              "TO             sports_leisure                 5533.32        1393.53\n",
              "               stationery                      276.80          73.80\n",
              "               telephony                      1268.12         627.34\n",
              "               toys                           1864.15         423.96\n",
              "               watches_gifts                  5446.89         950.02\n",
              "\n",
              "[1356 rows x 2 columns]"
            ]
          },
          "execution_count": 102,
          "metadata": {},
          "output_type": "execute_result"
        }
      ],
      "source": [
        "# prompt: Mengelompokkan data berdasarkan customer_state dan product_category_name_english, lalu menghitung total_price dan freight_value\n",
        "all_data.groupby(by=[\"customer_state\", \"product_category_name_english\"]).agg({\n",
        "    \"price\": \"sum\",\n",
        "    \"freight_value\": \"sum\"\n",
        "})"
      ]
    },
    {
      "cell_type": "code",
      "execution_count": 103,
      "metadata": {
        "colab": {
          "base_uri": "https://localhost:8080/"
        },
        "id": "PjmDMnDbx4Ab",
        "outputId": "44e2b9d1-1830-4e36-be0e-b8ff07af8037"
      },
      "outputs": [
        {
          "name": "stdout",
          "output_type": "stream",
          "text": [
            "                order_id  payment_value\n",
            "customer_state                         \n",
            "SP                 41746     7726078.35\n",
            "RJ                 12852     2795615.67\n",
            "MG                 11635     2351221.09\n",
            "RS                  5466     1160175.66\n",
            "PR                  5045     1079795.49\n",
            "BA                  3380      805070.98\n",
            "SC                  3637      801276.45\n",
            "GO                  2020      520481.65\n",
            "DF                  2140      438095.32\n",
            "ES                  2033      408611.64\n",
            "PE                  1652      380294.18\n",
            "CE                  1336      349290.36\n",
            "PA                   975      263217.70\n",
            "MT                   907      257802.26\n",
            "MA                   747      200363.24\n",
            "PB                   536      181660.73\n",
            "MS                   715      167670.27\n",
            "PI                   495      137158.89\n",
            "RN                   485      117192.91\n",
            "AL                   413      112296.47\n",
            "SE                   350       90651.44\n",
            "TO                   280       72412.08\n",
            "RO                   253       69184.48\n",
            "AM                   148       34956.93\n",
            "AC                    81       24984.86\n",
            "AP                    68       21642.70\n",
            "RR                    46       12462.21\n"
          ]
        }
      ],
      "source": [
        "# Mengelompokkan data berdasarkan customer_state, menghitung jumlah pesanan unik dan total nilai pembayaran, lalu mengurutkan berdasarkan payment_value secara menurun\n",
        "grouped_data = all_data.groupby(\"customer_state\").agg({\n",
        "    \"order_id\": \"nunique\",\n",
        "    \"payment_value\": \"sum\"\n",
        "}).sort_values(by=\"payment_value\", ascending=False)\n",
        "\n",
        "# Menampilkan hasil\n",
        "print(grouped_data)\n"
      ]
    },
    {
      "cell_type": "code",
      "execution_count": 104,
      "metadata": {
        "colab": {
          "base_uri": "https://localhost:8080/",
          "height": 486
        },
        "id": "XCvZZglcyNFX",
        "outputId": "f8560140-27d2-406d-9311-e0cb79927c8d"
      },
      "outputs": [
        {
          "data": {
            "text/html": [
              "<div>\n",
              "<style scoped>\n",
              "    .dataframe tbody tr th:only-of-type {\n",
              "        vertical-align: middle;\n",
              "    }\n",
              "\n",
              "    .dataframe tbody tr th {\n",
              "        vertical-align: top;\n",
              "    }\n",
              "\n",
              "    .dataframe thead tr th {\n",
              "        text-align: left;\n",
              "    }\n",
              "\n",
              "    .dataframe thead tr:last-of-type th {\n",
              "        text-align: right;\n",
              "    }\n",
              "</style>\n",
              "<table border=\"1\" class=\"dataframe\">\n",
              "  <thead>\n",
              "    <tr>\n",
              "      <th></th>\n",
              "      <th>order_id</th>\n",
              "      <th colspan=\"2\" halign=\"left\">review_score</th>\n",
              "    </tr>\n",
              "    <tr>\n",
              "      <th></th>\n",
              "      <th>nunique</th>\n",
              "      <th>min</th>\n",
              "      <th>max</th>\n",
              "    </tr>\n",
              "    <tr>\n",
              "      <th>product_category_name_english</th>\n",
              "      <th></th>\n",
              "      <th></th>\n",
              "      <th></th>\n",
              "    </tr>\n",
              "  </thead>\n",
              "  <tbody>\n",
              "    <tr>\n",
              "      <th>agro_industry_and_commerce</th>\n",
              "      <td>182</td>\n",
              "      <td>1.0</td>\n",
              "      <td>5.0</td>\n",
              "    </tr>\n",
              "    <tr>\n",
              "      <th>air_conditioning</th>\n",
              "      <td>253</td>\n",
              "      <td>1.0</td>\n",
              "      <td>5.0</td>\n",
              "    </tr>\n",
              "    <tr>\n",
              "      <th>art</th>\n",
              "      <td>202</td>\n",
              "      <td>1.0</td>\n",
              "      <td>5.0</td>\n",
              "    </tr>\n",
              "    <tr>\n",
              "      <th>arts_and_craftmanship</th>\n",
              "      <td>23</td>\n",
              "      <td>1.0</td>\n",
              "      <td>5.0</td>\n",
              "    </tr>\n",
              "    <tr>\n",
              "      <th>audio</th>\n",
              "      <td>350</td>\n",
              "      <td>1.0</td>\n",
              "      <td>5.0</td>\n",
              "    </tr>\n",
              "    <tr>\n",
              "      <th>...</th>\n",
              "      <td>...</td>\n",
              "      <td>...</td>\n",
              "      <td>...</td>\n",
              "    </tr>\n",
              "    <tr>\n",
              "      <th>stationery</th>\n",
              "      <td>2311</td>\n",
              "      <td>1.0</td>\n",
              "      <td>5.0</td>\n",
              "    </tr>\n",
              "    <tr>\n",
              "      <th>tablets_printing_image</th>\n",
              "      <td>79</td>\n",
              "      <td>1.0</td>\n",
              "      <td>5.0</td>\n",
              "    </tr>\n",
              "    <tr>\n",
              "      <th>telephony</th>\n",
              "      <td>4199</td>\n",
              "      <td>1.0</td>\n",
              "      <td>5.0</td>\n",
              "    </tr>\n",
              "    <tr>\n",
              "      <th>toys</th>\n",
              "      <td>3886</td>\n",
              "      <td>1.0</td>\n",
              "      <td>5.0</td>\n",
              "    </tr>\n",
              "    <tr>\n",
              "      <th>watches_gifts</th>\n",
              "      <td>5624</td>\n",
              "      <td>1.0</td>\n",
              "      <td>5.0</td>\n",
              "    </tr>\n",
              "  </tbody>\n",
              "</table>\n",
              "<p>71 rows × 3 columns</p>\n",
              "</div>"
            ],
            "text/plain": [
              "                              order_id review_score     \n",
              "                               nunique          min  max\n",
              "product_category_name_english                           \n",
              "agro_industry_and_commerce         182          1.0  5.0\n",
              "air_conditioning                   253          1.0  5.0\n",
              "art                                202          1.0  5.0\n",
              "arts_and_craftmanship               23          1.0  5.0\n",
              "audio                              350          1.0  5.0\n",
              "...                                ...          ...  ...\n",
              "stationery                        2311          1.0  5.0\n",
              "tablets_printing_image              79          1.0  5.0\n",
              "telephony                         4199          1.0  5.0\n",
              "toys                              3886          1.0  5.0\n",
              "watches_gifts                     5624          1.0  5.0\n",
              "\n",
              "[71 rows x 3 columns]"
            ]
          },
          "execution_count": 104,
          "metadata": {},
          "output_type": "execute_result"
        }
      ],
      "source": [
        "# prompt: Mengelompokkan data berdasarkan product_category_name_english, menghitung jumlah pesanan unik, dan mencari nilai minimum dan maksimum dari review_score\n",
        "\n",
        "all_data.groupby(by=\"product_category_name_english\").agg({\n",
        "    \"order_id\": \"nunique\",\n",
        "    \"review_score\":  [\"min\", \"max\"]\n",
        "})"
      ]
    },
    {
      "cell_type": "markdown",
      "metadata": {
        "id": "zoZObKARzTpK"
      },
      "source": [
        "**11. Data geolocation_df dieksplorasi**"
      ]
    },
    {
      "cell_type": "code",
      "execution_count": 105,
      "metadata": {
        "colab": {
          "base_uri": "https://localhost:8080/"
        },
        "id": "5EmCD0sRzViw",
        "outputId": "6ac4df9c-d69f-4f9c-fbc8-3fe7641c6aed"
      },
      "outputs": [
        {
          "name": "stdout",
          "output_type": "stream",
          "text": [
            "   customer_zip_code_prefix          customer_city customer_state\n",
            "0                     14409                 franca             SP\n",
            "1                      9790  sao bernardo do campo             SP\n",
            "2                      1151              sao paulo             SP\n",
            "3                      8775        mogi das cruzes             SP\n",
            "4                     13056               campinas             SP\n",
            "<class 'pandas.core.frame.DataFrame'>\n",
            "RangeIndex: 99441 entries, 0 to 99440\n",
            "Data columns (total 3 columns):\n",
            " #   Column                    Non-Null Count  Dtype \n",
            "---  ------                    --------------  ----- \n",
            " 0   customer_zip_code_prefix  99441 non-null  int64 \n",
            " 1   customer_city             99441 non-null  object\n",
            " 2   customer_state            99441 non-null  object\n",
            "dtypes: int64(1), object(2)\n",
            "memory usage: 2.3+ MB\n",
            "None\n",
            "       customer_zip_code_prefix\n",
            "count              99441.000000\n",
            "mean               35137.474583\n",
            "std                29797.938996\n",
            "min                 1003.000000\n",
            "25%                11347.000000\n",
            "50%                24416.000000\n",
            "75%                58900.000000\n",
            "max                99990.000000\n"
          ]
        }
      ],
      "source": [
        "# Melihat beberapa baris pertama dari geolocation_df\n",
        "print(geolocation_df.head())\n",
        "\n",
        "# Melihat informasi ringkasan tentang geolocation_df\n",
        "print(geolocation_df.info())\n",
        "\n",
        "# Melihat statistik deskriptif dari geolocation_df\n",
        "print(geolocation_df.describe())\n"
      ]
    },
    {
      "cell_type": "code",
      "execution_count": 106,
      "metadata": {
        "colab": {
          "base_uri": "https://localhost:8080/"
        },
        "id": "blYlxsrBza7R",
        "outputId": "38d12bfb-3eda-4ed3-c367-013a18ac679d"
      },
      "outputs": [
        {
          "name": "stdout",
          "output_type": "stream",
          "text": [
            "customer_zip_code_prefix    0\n",
            "customer_city               0\n",
            "customer_state              0\n",
            "dtype: int64\n"
          ]
        }
      ],
      "source": [
        "# Memeriksa data yang hilang\n",
        "print(geolocation_df.isnull().sum())\n"
      ]
    },
    {
      "cell_type": "code",
      "execution_count": 107,
      "metadata": {
        "colab": {
          "base_uri": "https://localhost:8080/"
        },
        "id": "W0iw5DrIzfaj",
        "outputId": "313b6248-96a3-4cfd-b14b-f391ceca52c3"
      },
      "outputs": [
        {
          "name": "stdout",
          "output_type": "stream",
          "text": [
            "customer_state\n",
            "SP    5591\n",
            "MG    1349\n",
            "RJ    1199\n",
            "RS     877\n",
            "PR     861\n",
            "BA     735\n",
            "GO     540\n",
            "SC     517\n",
            "DF     465\n",
            "PE     439\n",
            "CE     384\n",
            "ES     265\n",
            "PA     209\n",
            "MA     196\n",
            "MS     186\n",
            "PB     181\n",
            "RN     177\n",
            "MT     175\n",
            "PI     154\n",
            "AL     126\n",
            "TO      96\n",
            "SE      89\n",
            "RO      75\n",
            "AM      55\n",
            "AC      20\n",
            "AP      18\n",
            "RR      15\n",
            "Name: customer_zip_code_prefix, dtype: int64\n"
          ]
        }
      ],
      "source": [
        "# Mengelompokkan data berdasarkan negara bagian dan menghitung jumlah lokasi unik\n",
        "location_distribution = geolocation_df.groupby('customer_state')['customer_zip_code_prefix'].nunique()\n",
        "print(location_distribution.sort_values(ascending=False))"
      ]
    },
    {
      "cell_type": "markdown",
      "metadata": {
        "id": "69_3g-i00DEd"
      },
      "source": [
        "**12. Membuat data baru yang sebelumnya telah di bersihkan dan di eksplorasi**"
      ]
    },
    {
      "cell_type": "code",
      "execution_count": 108,
      "metadata": {
        "id": "90Ihj2nC0O5x"
      },
      "outputs": [],
      "source": [
        "import os\n",
        "# Check if the directory exists and if not create it\n",
        "if not os.path.exists('streamlit'):\n",
        "    os.makedirs('streamlit')\n",
        "\n",
        "all_data.to_csv('streamlit/all_data.csv', index=False)"
      ]
    },
    {
      "cell_type": "markdown",
      "metadata": {
        "id": "th_Lzl2Fkj9O"
      },
      "source": [
        "**Insight:**\n",
        "- **Distribusi Geografis Pelanggan**: Analisis ini menunjukkan distribusi pelanggan berdasarkan wilayah geografis, membantu memahami pasar geografis yang paling aktif.\n",
        "- **Kategori Produk dengan Ulasan Terbaik**: Analisis ini mengidentifikasi kategori produk yang mendapat ulasan terbaik, membantu fokus pada kategori produk yang lebih memuaskan pelanggan."
      ]
    },
    {
      "cell_type": "markdown",
      "metadata": {
        "id": "zsyZjqak8DC2"
      },
      "source": [
        "## Visualization & Explanatory Analysis"
      ]
    },
    {
      "cell_type": "markdown",
      "metadata": {
        "id": "HZxOiQ6n8DC2"
      },
      "source": [
        "### Pertanyaan 1: Produk apa saja yang menunjukkan performa penjualan terbaik dan terburuk di E-commerce?"
      ]
    },
    {
      "cell_type": "code",
      "execution_count": 109,
      "metadata": {
        "colab": {
          "base_uri": "https://localhost:8080/",
          "height": 907
        },
        "id": "1swJUdAD8DC2",
        "outputId": "e41298c5-d612-4cd8-8d10-c60134672aab"
      },
      "outputs": [
        {
          "data": {
            "image/png": "[encoded data removed]",
            "text/plain": [
              "<Figure size 1400x700 with 2 Axes>"
            ]
          },
          "metadata": {},
          "output_type": "display_data"
        }
      ],
      "source": [
        "# Produk dengan performa penjualan terbaik dan terburuk\n",
        "product_sales = order_items_df.groupby('product_id')['order_item_id'].count()\n",
        "best_selling_products = product_sales.sort_values(ascending=False).head(10)\n",
        "worst_selling_products = product_sales.sort_values(ascending=True).head(10)\n",
        "\n",
        "plt.figure(figsize=(14,7))\n",
        "plt.subplot(1, 2, 1)\n",
        "best_selling_products.plot(kind='bar', title='Top 10 Best Selling Products')\n",
        "plt.subplot(1, 2, 2)\n",
        "worst_selling_products.plot(kind='bar', title='Top 10 Worst Selling Products')\n",
        "plt.show()"
      ]
    },
    {
      "cell_type": "markdown",
      "metadata": {
        "id": "nlkBfxs-Oh6h"
      },
      "source": [
        "### Pertanyaan 2: Bagaimana pola tren penjualan E-commerce selama periode waktu tertentu?"
      ]
    },
    {
      "cell_type": "code",
      "execution_count": 110,
      "metadata": {
        "colab": {
          "base_uri": "https://localhost:8080/",
          "height": 692
        },
        "id": "aU8s-cV-Or98",
        "outputId": "2fe87c84-f18f-467c-b6f9-2c349a9fe937"
      },
      "outputs": [
        {
          "name": "stderr",
          "output_type": "stream",
          "text": [
            "C:\\Users\\ASUS\\AppData\\Local\\Temp\\ipykernel_15328\\1517185216.py:3: FutureWarning: 'M' is deprecated and will be removed in a future version, please use 'ME' instead.\n",
            "  monthly_sales = orders_df.resample('M').size()\n"
          ]
        },
        {
          "data": {
            "image/png": "[encoded data removed]",
            "text/plain": [
              "<Figure size 1400x700 with 1 Axes>"
            ]
          },
          "metadata": {},
          "output_type": "display_data"
        }
      ],
      "source": [
        "# Pola tren penjualan E-commerce\n",
        "orders_df.set_index('order_purchase_timestamp', inplace=True)\n",
        "monthly_sales = orders_df.resample('M').size()\n",
        "monthly_sales.plot(kind='line', figsize=(14,7))\n",
        "plt.title('Monthly Sales Trend')\n",
        "plt.xlabel('Month')\n",
        "plt.ylabel('Number of Orders')\n",
        "plt.show()"
      ]
    },
    {
      "cell_type": "markdown",
      "metadata": {
        "id": "zSSgJFWtO6RX"
      },
      "source": [
        "### Pertanyaan 3: Berapa jumlah pendapatan yang dihasilkan oleh E-commerce dalam periode beberapa bulan terakhir?"
      ]
    },
    {
      "cell_type": "code",
      "execution_count": 111,
      "metadata": {
        "colab": {
          "base_uri": "https://localhost:8080/",
          "height": 645
        },
        "id": "0H7YtKzNO9b1",
        "outputId": "adcef60a-17fe-4229-9d63-124ffb7502cc"
      },
      "outputs": [
        {
          "data": {
            "image/png": "[encoded data removed]",
            "text/plain": [
              "<Figure size 1400x700 with 1 Axes>"
            ]
          },
          "metadata": {},
          "output_type": "display_data"
        }
      ],
      "source": [
        "# Jumlah pendapatan yang dihasilkan\n",
        "order_payments_df['payment_value'] = order_payments_df['payment_value'].astype(float)\n",
        "monthly_revenue = order_payments_df.groupby(order_payments_df['payment_sequential']).sum()\n",
        "monthly_revenue.plot(kind='bar', figsize=(14,7))\n",
        "plt.title('Monthly Revenue')\n",
        "plt.xlabel('Month')\n",
        "plt.ylabel('Revenue')\n",
        "plt.show()"
      ]
    },
    {
      "cell_type": "markdown",
      "metadata": {
        "id": "rPaEh14ZO-7l"
      },
      "source": [
        "### Pertanyaan 4: Apa saja ulasan dan rating yang diberikan oleh pelanggan kepada E-commerce, dan bagaimana persebarannya?"
      ]
    },
    {
      "cell_type": "code",
      "execution_count": 112,
      "metadata": {
        "colab": {
          "base_uri": "https://localhost:8080/",
          "height": 636
        },
        "id": "wX0VPPv8PCrj",
        "outputId": "e657190e-23c5-4a9a-f541-cb21a7b59de8"
      },
      "outputs": [
        {
          "data": {
            "image/png": "[encoded data removed]",
            "text/plain": [
              "<Figure size 1400x700 with 1 Axes>"
            ]
          },
          "metadata": {},
          "output_type": "display_data"
        }
      ],
      "source": [
        "# Ulasan dan rating yang diberikan oleh pelanggan\n",
        "reviews_distribution = order_reviews_df['review_score'].value_counts()\n",
        "reviews_distribution.plot(kind='bar', figsize=(14,7))\n",
        "plt.title('Distribution of Customer Reviews')\n",
        "plt.xlabel('Review Score')\n",
        "plt.ylabel('Number of Reviews')\n",
        "plt.show()"
      ]
    },
    {
      "cell_type": "markdown",
      "metadata": {
        "id": "DgHI7CiU8DC2"
      },
      "source": [
        "### Pertanyaan 5: Bagaimana distribusi demografis pelanggan dan apakah ada variasi dalam preferensi pembelian di antara mereka?"
      ]
    },
    {
      "cell_type": "code",
      "execution_count": 113,
      "metadata": {
        "colab": {
          "base_uri": "https://localhost:8080/",
          "height": 650
        },
        "id": "Go0lCsvO8DC2",
        "outputId": "903c984c-a55b-44fd-d57f-9f4eba569d5a"
      },
      "outputs": [
        {
          "data": {
            "image/png": "[encoded data removed]",
            "text/plain": [
              "<Figure size 1400x700 with 1 Axes>"
            ]
          },
          "metadata": {},
          "output_type": "display_data"
        }
      ],
      "source": [
        "# Distribusi demografis pelanggan\n",
        "customer_distribution = customers_df['customer_state'].value_counts()\n",
        "customer_distribution.plot(kind='bar', figsize=(14,7))\n",
        "plt.title('Customer Demographics by State')\n",
        "plt.xlabel('State')\n",
        "plt.ylabel('Number of Customers')\n",
        "plt.show()"
      ]
    },
    {
      "cell_type": "markdown",
      "metadata": {
        "id": "_0-36BDLklRg"
      },
      "source": [
        "**Insight:**\n",
        "- **Produk dengan Performa Penjualan Terbaik dan Terburuk**: Visualisasi ini menunjukkan produk-produk yang paling laris dan paling sedikit terjual.\n",
        "- **Pola Tren Penjualan**: Analisis ini menunjukkan perubahan volume penjualan dari waktu ke waktu, membantu memahami tren musiman atau faktor lain yang mempengaruhi penjualan.\n",
        "- **Pendapatan Bulanan**: Memahami pendapatan bulanan membantu mengevaluasi kinerja keuangan secara lebih rinci.\n",
        "- **Distribusi Ulasan Pelanggan**: Analisis ulasan membantu mengidentifikasi kepuasan dan pengalaman pelanggan.\n",
        "- **Distribusi Demografis Pelanggan**: Memahami distribusi demografis pelanggan membantu menyesuaikan strategi pemasaran dan layanan."
      ]
    },
    {
      "cell_type": "markdown",
      "metadata": {
        "id": "9y4VUsmcYNZ5"
      },
      "source": [
        "## Analisis Lanjutan (Opsional)"
      ]
    },
    {
      "cell_type": "code",
      "execution_count": null,
      "metadata": {
        "id": "iWhnzsJGYUCO"
      },
      "outputs": [],
      "source": []
    },
    {
      "cell_type": "markdown",
      "metadata": {
        "id": "_WeHlCeX8DC2"
      },
      "source": [
        "## Conclusion"
      ]
    },
    {
      "cell_type": "markdown",
      "metadata": {
        "id": "ZTcyR48Y8DC2"
      },
      "source": [
        "- **Produk apa saja yang menunjukkan performa penjualan terbaik dan terburuk di E-commerce?**\n",
        "Produk dengan performa penjualan terbaik menunjukkan bahwa beberapa produk sangat populer di kalangan pelanggan. Produk dengan penjualan terburuk dapat menjadi fokus untuk pengembangan produk lebih lanjut atau strategi pemasaran baru.\n",
        "- **Bagaimana pola tren penjualan E-commerce selama periode waktu tertentu?**\n",
        "Pola tren penjualan menunjukkan adanya fluktuasi bulanan dalam volume penjualan. Ini bisa disebabkan oleh faktor musiman, kampanye promosi, atau perilaku pelanggan lainnya.\n",
        "- **Berapa jumlah pendapatan yang dihasilkan oleh E-commerce dalam periode beberapa bulan terakhir?**\n",
        "Pendapatan bulanan membantu mengevaluasi kinerja keuangan dan memahami kapan puncak penjualan terjadi.\n",
        "- **Apa saja ulasan dan rating yang diberikan oleh pelanggan kepada E-commerce, dan bagaimana persebarannya?**\n",
        "Distribusi ulasan pelanggan menunjukkan tingkat kepuasan dan membantu dalam meningkatkan kualitas produk dan layanan.\n",
        "- **Bagaimana distribusi demografis pelanggan dan apakah ada variasi dalam preferensi pembelian di antara mereka?**\n",
        "Distribusi demografis pelanggan membantu dalam menargetkan segmen pasar yang tepat dan menyesuaikan strategi pemasaran."
      ]
    }
  ],
  "metadata": {
    "colab": {
      "provenance": []
    },
    "kernelspec": {
      "display_name": "Python 3",
      "language": "python",
      "name": "python3"
    },
    "language_info": {
      "codemirror_mode": {
        "name": "ipython",
        "version": 3
      },
      "file_extension": ".py",
      "mimetype": "text/x-python",
      "name": "python",
      "nbconvert_exporter": "python",
      "pygments_lexer": "ipython3",
      "version": "3.13.2"
    },
    "orig_nbformat": 4,
    "vscode": {
      "interpreter": {
        "hash": "972b3bf27e332e87b5379f2791f6ef9dfc79c71018c370b0d7423235e20fe4d7"
      }
    }
  },
  "nbformat": 4,
  "nbformat_minor": 0
}
